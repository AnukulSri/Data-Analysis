{
 "cells": [
  {
   "cell_type": "code",
   "execution_count": 1,
   "metadata": {},
   "outputs": [],
   "source": [
    "import numpy as np\n",
    "from math import *\n",
    "import os"
   ]
  },
  {
   "cell_type": "code",
   "execution_count": 2,
   "metadata": {},
   "outputs": [],
   "source": [
    "#os.mkdir('Test Match')"
   ]
  },
  {
   "cell_type": "code",
   "execution_count": 2,
   "metadata": {},
   "outputs": [
    {
     "name": "stdout",
     "output_type": "stream",
     "text": [
      "Iron Man\n"
     ]
    }
   ],
   "source": [
    "s= 'Tony Stark'\n",
    "print(s.replace(\"Tony Stark\",\"Iron Man\"))"
   ]
  },
  {
   "cell_type": "code",
   "execution_count": 3,
   "metadata": {},
   "outputs": [
    {
     "name": "stdout",
     "output_type": "stream",
     "text": [
      "True\n"
     ]
    }
   ],
   "source": [
    "print(\"Stark\" in s)"
   ]
  },
  {
   "cell_type": "code",
   "execution_count": 4,
   "metadata": {},
   "outputs": [
    {
     "data": {
      "text/plain": [
       "range(0, 5)"
      ]
     },
     "execution_count": 4,
     "metadata": {},
     "output_type": "execute_result"
    }
   ],
   "source": [
    "range(5)"
   ]
  },
  {
   "cell_type": "code",
   "execution_count": 4,
   "metadata": {},
   "outputs": [
    {
     "ename": "AttributeError",
     "evalue": "'int' object has no attribute 'reverse'",
     "output_type": "error",
     "traceback": [
      "\u001b[1;31m---------------------------------------------------------------------------\u001b[0m",
      "\u001b[1;31mAttributeError\u001b[0m                            Traceback (most recent call last)",
      "Cell \u001b[1;32mIn [4], line 2\u001b[0m\n\u001b[0;32m      1\u001b[0m a\u001b[39m=\u001b[39m\u001b[39m151\u001b[39m\n\u001b[1;32m----> 2\u001b[0m a\u001b[39m.\u001b[39;49mreverse()\n\u001b[0;32m      4\u001b[0m \u001b[39mprint\u001b[39m (a)\n",
      "\u001b[1;31mAttributeError\u001b[0m: 'int' object has no attribute 'reverse'"
     ]
    }
   ],
   "source": [
    "a=151\n",
    "a.reverse()\n",
    "\n",
    "print (a)\n",
    "\n"
   ]
  },
  {
   "cell_type": "code",
   "execution_count": 5,
   "metadata": {},
   "outputs": [
    {
     "name": "stdout",
     "output_type": "stream",
     "text": [
      "['__doc__', '__loader__', '__name__', '__package__', '__spec__', 'acos', 'acosh', 'asin', 'asinh', 'atan', 'atan2', 'atanh', 'ceil', 'comb', 'copysign', 'cos', 'cosh', 'degrees', 'dist', 'e', 'erf', 'erfc', 'exp', 'expm1', 'fabs', 'factorial', 'floor', 'fmod', 'frexp', 'fsum', 'gamma', 'gcd', 'hypot', 'inf', 'isclose', 'isfinite', 'isinf', 'isnan', 'isqrt', 'lcm', 'ldexp', 'lgamma', 'log', 'log10', 'log1p', 'log2', 'modf', 'nan', 'nextafter', 'perm', 'pi', 'pow', 'prod', 'radians', 'remainder', 'sin', 'sinh', 'sqrt', 'tan', 'tanh', 'tau', 'trunc', 'ulp']\n"
     ]
    }
   ],
   "source": [
    "print(dir(math))   "
   ]
  },
  {
   "cell_type": "code",
   "execution_count": 6,
   "metadata": {},
   "outputs": [
    {
     "name": "stdout",
     "output_type": "stream",
     "text": [
      "120\n"
     ]
    }
   ],
   "source": [
    "print(factorial(5))"
   ]
  },
  {
   "cell_type": "code",
   "execution_count": 7,
   "metadata": {},
   "outputs": [
    {
     "name": "stdout",
     "output_type": "stream",
     "text": [
      "3\n",
      "8\n"
     ]
    }
   ],
   "source": [
    "def sum(a,b=4):\n",
    "    print(a+b)\n",
    "sum(1,2)\n",
    "sum(4)"
   ]
  },
  {
   "cell_type": "code",
   "execution_count": 8,
   "metadata": {},
   "outputs": [
    {
     "name": "stdout",
     "output_type": "stream",
     "text": [
      "15\n",
      "15.3\n"
     ]
    }
   ],
   "source": [
    "print(153//10)\n",
    "print(153/10)"
   ]
  },
  {
   "cell_type": "markdown",
   "metadata": {},
   "source": [
    "# armstrong number\n",
    "- 153 =  1+125+27 = 153"
   ]
  },
  {
   "cell_type": "code",
   "execution_count": 9,
   "metadata": {},
   "outputs": [
    {
     "name": "stdout",
     "output_type": "stream",
     "text": [
      "Number is not armstrong\n"
     ]
    }
   ],
   "source": [
    "n= int(input(\"enter a number\"))\n",
    "a= n\n",
    "p=0\n",
    "while a>0:\n",
    "    s=a%10\n",
    "    t=s*s*s\n",
    "    p=p+t\n",
    "    a=a//10\n",
    "if p==n:\n",
    "    print(\"Number is armstrong\")\n",
    "else:\n",
    "    print(\"Number is not armstrong\")\n"
   ]
  },
  {
   "cell_type": "markdown",
   "metadata": {},
   "source": [
    "# neon number\n",
    "- 9 = 9*9 = 81= 8+1=9"
   ]
  },
  {
   "cell_type": "code",
   "execution_count": 10,
   "metadata": {},
   "outputs": [
    {
     "name": "stdout",
     "output_type": "stream",
     "text": [
      "Number is not neon\n"
     ]
    }
   ],
   "source": [
    "n=int(input(\"Enter a number\"))\n",
    "a=n*n\n",
    "f=0\n",
    "while a>0:\n",
    "    t=a%10\n",
    "    f=f+t\n",
    "    a=a//10\n",
    "if f==n:\n",
    "    print(\"Number is neon\")\n",
    "else:\n",
    "    print(\"Number is not neon\")\n",
    "\n",
    "\n"
   ]
  },
  {
   "cell_type": "markdown",
   "metadata": {},
   "source": [
    "# palindrome number\n",
    "\n",
    "- 121 then reverse it & value should be same then no. is palindrome"
   ]
  },
  {
   "cell_type": "code",
   "execution_count": 5,
   "metadata": {},
   "outputs": [
    {
     "name": "stdout",
     "output_type": "stream",
     "text": [
      "palindrome\n"
     ]
    }
   ],
   "source": [
    "n = int(input(\"Enter a number\"))\n",
    "a=n\n",
    "r=0\n",
    "while a>0:\n",
    "    s=a%10\n",
    "    r=(r*10)+s\n",
    "    a=a//10\n",
    "if r==n:\n",
    "    print(\"palindrome\")\n",
    "else:\n",
    "    print(\"not palindrome\")"
   ]
  },
  {
   "cell_type": "markdown",
   "metadata": {},
   "source": [
    "buzz number"
   ]
  },
  {
   "cell_type": "code",
   "execution_count": 17,
   "metadata": {},
   "outputs": [
    {
     "name": "stdout",
     "output_type": "stream",
     "text": [
      "Number is buzz number\n"
     ]
    }
   ],
   "source": [
    "n = int(input(\"Enter a number\"))\n",
    "if(n%10==7 and n//10==7):\n",
    "    print(\"Number is buzz number\")\n",
    "else:\n",
    "    print(\"Number is not buzz number\")"
   ]
  },
  {
   "cell_type": "markdown",
   "metadata": {},
   "source": [
    "FizzBuzz number"
   ]
  },
  {
   "cell_type": "code",
   "execution_count": 4,
   "metadata": {},
   "outputs": [
    {
     "name": "stdout",
     "output_type": "stream",
     "text": [
      "[\"1\", \"2\", \"Fizz\", \"4\", \"Buzz\"]\n"
     ]
    }
   ],
   "source": [
    "import json\n",
    "n=int(input(\"Enter a number\"))\n",
    "l=[]\n",
    "for i in range(1,n+1):\n",
    "    if i%3 == 0 and i%5 == 0:\n",
    "      l.append(\"FizzBuzz\")\n",
    "      \n",
    "    elif i%3 == 0:\n",
    "        l.append(\"Fizz\")\n",
    "  \n",
    "    elif i%5 == 0:\n",
    "        l.append(\"Buzz\")\n",
    "      \n",
    "    else :\n",
    "       \n",
    "       l.append(str(i))\n",
    "\n",
    "print(json.dumps(l))\n"
   ]
  },
  {
   "cell_type": "code",
   "execution_count": 11,
   "metadata": {},
   "outputs": [
    {
     "name": "stdout",
     "output_type": "stream",
     "text": [
      "[2, 1]\n"
     ]
    }
   ],
   "source": [
    "li = [1,2]\n",
    "li.reverse()\n",
    "print(li)"
   ]
  },
  {
   "cell_type": "code",
   "execution_count": 14,
   "metadata": {},
   "outputs": [
    {
     "name": "stdout",
     "output_type": "stream",
     "text": [
      "False\n"
     ]
    }
   ],
   "source": [
    "li = [1,2,3,4,5]\n",
    "a = li[::-1]\n",
    "if a == li:\n",
    "   print(\"true\")\n",
    "else : \n",
    "    print(\"False\")"
   ]
  },
  {
   "cell_type": "code",
   "execution_count": 10,
   "metadata": {},
   "outputs": [
    {
     "name": "stdout",
     "output_type": "stream",
     "text": [
      "1 \n",
      "1 2 \n",
      "1 2 3 \n",
      "1 2 3 4 \n",
      "1 2 3 4 5 \n"
     ]
    }
   ],
   "source": [
    "for i in range(1,6):\n",
    "    for j in range(1,i+1):\n",
    "        print(j,end = ' ')\n",
    "    print('')\n",
    "        "
   ]
  },
  {
   "cell_type": "code",
   "execution_count": 16,
   "metadata": {},
   "outputs": [
    {
     "name": "stdout",
     "output_type": "stream",
     "text": [
      "1 2 3 4 5 \n",
      "1 2 3 4 \n",
      "1 2 3 \n",
      "1 2 \n",
      "1 \n",
      "\n"
     ]
    }
   ],
   "source": [
    "for i in range(6,0,-1):\n",
    "    for j in range(1,i):\n",
    "        print(j,end = ' ')\n",
    "    print('')"
   ]
  },
  {
   "cell_type": "code",
   "execution_count": 22,
   "metadata": {},
   "outputs": [
    {
     "name": "stdout",
     "output_type": "stream",
     "text": [
      "1 1 1 1 1 \n",
      "1 1 1 1 \n",
      "1 1 1 \n",
      "1 1 \n",
      "1 \n"
     ]
    }
   ],
   "source": [
    "r =1\n",
    "for i in range(5,0,-1):\n",
    "    for j in range(0,i):\n",
    "        print(r, end = ' ')\n",
    "    print('')"
   ]
  },
  {
   "cell_type": "code",
   "execution_count": 20,
   "metadata": {},
   "outputs": [
    {
     "name": "stdout",
     "output_type": "stream",
     "text": [
      "1 \n",
      "1 1 \n",
      "1 1 1 \n",
      "1 1 1 1 \n",
      "1 1 1 1 1 \n"
     ]
    }
   ],
   "source": [
    "w =1\n",
    "for i in range(0,5):\n",
    "    for j in range(0,i+1):\n",
    "        print(w,end = ' ')\n",
    "    print('')"
   ]
  },
  {
   "cell_type": "code",
   "execution_count": 33,
   "metadata": {},
   "outputs": [
    {
     "name": "stdout",
     "output_type": "stream",
     "text": [
      "1 2 3 4 5 \n",
      "1 2 3 4 \n",
      "1 2 3 \n",
      "1 2 \n",
      "1 \n",
      "\n",
      "1 \n",
      "1 2 \n",
      "1 2 3 \n",
      "1 2 3 4 \n",
      "1 2 3 4 5 \n"
     ]
    }
   ],
   "source": [
    "#w= 1\n",
    "for i in range(6,0,-1):\n",
    "    for j in  range(1,i):\n",
    "        print(j, end = ' ')\n",
    "    print('')\n",
    "for i in range(1,6):\n",
    "    for j in range (1,i+1):\n",
    "        print(j,end = ' ')\n",
    "    print('')"
   ]
  },
  {
   "cell_type": "code",
   "execution_count": 4,
   "metadata": {},
   "outputs": [
    {
     "name": "stdout",
     "output_type": "stream",
     "text": [
      " * * * * * * \n",
      "  * * * * * \n",
      "   * * * * \n",
      "    * * * \n",
      "     * * \n",
      "      * \n"
     ]
    }
   ],
   "source": [
    "rows = 5\n",
    "k = 1\n",
    "for i in range(rows, -1, -1):\n",
    "    for j in range(k, 0, -1):\n",
    "        print(end=\" \")\n",
    "    k = k + 1\n",
    "    for j in range(0, i + 1):\n",
    "        print(\"*\", end=\" \")\n",
    "    print(\"\")\n"
   ]
  },
  {
   "cell_type": "code",
   "execution_count": 3,
   "metadata": {},
   "outputs": [
    {
     "name": "stdout",
     "output_type": "stream",
     "text": [
      "1\n",
      "2\n",
      "3\n",
      "4\n",
      "5\n"
     ]
    }
   ],
   "source": [
    "n= 5\n",
    "for i in range(1,n+1):\n",
    "    print(i)"
   ]
  },
  {
   "cell_type": "code",
   "execution_count": 1,
   "metadata": {},
   "outputs": [
    {
     "name": "stdout",
     "output_type": "stream",
     "text": [
      "\n",
      "\n",
      "1 \n",
      "* 3 \n",
      "* 5 * \n",
      "7 * 9 * \n"
     ]
    }
   ],
   "source": [
    "r= 6\n",
    "c =1\n",
    "for i in range(r):\n",
    "    for j in range(1,i):\n",
    "        if c % 2 == 0: \n",
    "            print('*',end = ' ')\n",
    "        else:\n",
    "            print(c,end =' ')\n",
    "        c +=  1\n",
    "    print('')\n"
   ]
  },
  {
   "cell_type": "code",
   "execution_count": 16,
   "metadata": {},
   "outputs": [
    {
     "name": "stdout",
     "output_type": "stream",
     "text": [
      "*\n",
      "*3 \n",
      "*5 *\n",
      "*8 *10 \n"
     ]
    }
   ],
   "source": [
    "current_num = 1\n",
    "rows = 4\n",
    "stop = 2\n",
    "for i in range(rows):\n",
    "    for column in range(1, stop):\n",
    "         if column % 2 == 0:\n",
    "          print(current_num, end=' ')\n",
    "         else : \n",
    "            print('*',end = '')\n",
    "         current_num += 1 \n",
    "    print(\"\")\n",
    "    stop += 1"
   ]
  },
  {
   "cell_type": "code",
   "execution_count": 15,
   "metadata": {},
   "outputs": [
    {
     "name": "stdout",
     "output_type": "stream",
     "text": [
      "1 \n",
      "2 3 \n",
      "4 5 6 \n",
      "7 8 9 10 \n"
     ]
    }
   ],
   "source": [
    "current_num = 1\n",
    "rows = 4\n",
    "stop = 2\n",
    "for i in range(rows):\n",
    "    for column in range(1, stop):\n",
    "        print(current_num, end=' ')\n",
    "        current_num += 1\n",
    "    print(\"\")\n",
    "    stop += 1"
   ]
  },
  {
   "cell_type": "code",
   "execution_count": 3,
   "metadata": {},
   "outputs": [
    {
     "name": "stdout",
     "output_type": "stream",
     "text": [
      "prgrm"
     ]
    }
   ],
   "source": [
    "s= 'program'\n",
    "y=''\n",
    "for i in s:\n",
    "    if i == 'a' or i== 'o' or i== 'e' or i=='i' or i== 'u':\n",
    "        continue\n",
    "\n",
    "    print(i,end='')"
   ]
  },
  {
   "cell_type": "markdown",
   "metadata": {},
   "source": [
    "Wap of number guessing game in which user slects a range"
   ]
  },
  {
   "cell_type": "code",
   "execution_count": 16,
   "metadata": {},
   "outputs": [
    {
     "name": "stdout",
     "output_type": "stream",
     "text": [
      "Try to input large number\n",
      "Try to input large number\n",
      "Congrats! you have guessed the no. in 3 tries\n",
      "The number was: 9\n"
     ]
    }
   ],
   "source": [
    "#import numpy as np\n",
    "import random\n",
    "a= int(input('lower number'))\n",
    "b= int(input('higher number'))\n",
    "x= random.randint(a,b)\n",
    "c= 1\n",
    "while c<4:\n",
    "    p = int(input(\"Enter the number\"))\n",
    "    if p==x:\n",
    "        print(\"Congrats! you have guessed the no. in\", c,\"tries\")\n",
    "        break\n",
    "    elif p>x:\n",
    "        print(\"Try to input small number\")\n",
    "    elif p<x:\n",
    "        print(\"Try to input large number\")\n",
    "    c+=1\n",
    "if c>3:\n",
    "    print(\"Bad Luck!\")\n",
    "print(\"The number was:\",x)"
   ]
  },
  {
   "cell_type": "markdown",
   "metadata": {},
   "source": [
    "Prime number"
   ]
  },
  {
   "cell_type": "code",
   "execution_count": 2,
   "metadata": {},
   "outputs": [
    {
     "name": "stdout",
     "output_type": "stream",
     "text": [
      "not prime\n"
     ]
    }
   ],
   "source": [
    "a = int(input(\"Enter a number\"))\n",
    "s=0 \n",
    "for i in range(2,a+1):\n",
    "    if a%i ==0:\n",
    "        s= s+1\n",
    "if s==1:\n",
    "    print(\"number is prime\")\n",
    "else:\n",
    "    print(\"not prime\")\n"
   ]
  },
  {
   "cell_type": "markdown",
   "metadata": {},
   "source": [
    "Abundant Number : example - 12 - divisible by - 1,2,3,4,6 :summ of it is- 16 -- it is greater by inputed number so it is abundant no. "
   ]
  },
  {
   "cell_type": "code",
   "execution_count": 7,
   "metadata": {},
   "outputs": [
    {
     "name": "stdout",
     "output_type": "stream",
     "text": [
      "Abundant Number\n"
     ]
    }
   ],
   "source": [
    "a = int(input(\"Enter a number\"))\n",
    "s =0 \n",
    "for i in range(1,a):\n",
    "    if a%i == 0:\n",
    "        s = s+i\n",
    "if s > a:\n",
    "    print(\"Abundant Number\")\n",
    "else: \n",
    "    print(\"Not Abundant Number\")\n",
    "    "
   ]
  },
  {
   "cell_type": "markdown",
   "metadata": {},
   "source": [
    "Given an integer,n, perform the following conditional actions:\n",
    "\n",
    "If n is odd, print Weird\n",
    "If n is even and in the inclusive range of  to , print Not Weird\n",
    "If n is even and in the inclusive range of  to , print Weird\n",
    "If n is even and greater than , print Not Weird"
   ]
  },
  {
   "cell_type": "code",
   "execution_count": 9,
   "metadata": {},
   "outputs": [
    {
     "name": "stdout",
     "output_type": "stream",
     "text": [
      "Weird\n"
     ]
    }
   ],
   "source": [
    "if __name__ == '__main__':\n",
    "    n = int(input().strip())\n",
    "if n%2 != 0:\n",
    "    print(\"Weird\")\n",
    "elif (n%2 == 0) and (n in range(2,6)):\n",
    "    print(\"Not Weird\")\n",
    "elif (n%2 == 0) and (n in range(6,21)):\n",
    "    print(\"Weird\")\n",
    "elif n%2==0 and n>20 :\n",
    "    print(\"Not Weird\")"
   ]
  },
  {
   "cell_type": "code",
   "execution_count": 14,
   "metadata": {},
   "outputs": [
    {
     "data": {
      "text/plain": [
       "525"
      ]
     },
     "execution_count": 14,
     "metadata": {},
     "output_type": "execute_result"
    }
   ],
   "source": [
    "2100//4"
   ]
  },
  {
   "cell_type": "code",
   "execution_count": 28,
   "metadata": {},
   "outputs": [
    {
     "name": "stdout",
     "output_type": "stream",
     "text": [
      "False\n"
     ]
    }
   ],
   "source": [
    "l = int(input(\"Enter year\"))\n",
    "if l%4 == 0 and l%400 ==0:\n",
    "    print(\"true\")\n",
    "else:\n",
    "    print('False')\n",
    "#elif l%4 : \n",
    " #   print(\"false\")"
   ]
  },
  {
   "cell_type": "code",
   "execution_count": 6,
   "metadata": {},
   "outputs": [
    {
     "name": "stdout",
     "output_type": "stream",
     "text": [
      "this-is-a-string\n"
     ]
    }
   ],
   "source": [
    "l = \"this is a string\"\n",
    "a = l.replace(\" \",\"-\")\n",
    "print(a)\n",
    "#for i in a :\n",
    "   # print(i + \"-\",end=\"\")\n"
   ]
  },
  {
   "cell_type": "code",
   "execution_count": 10,
   "metadata": {},
   "outputs": [
    {
     "name": "stdout",
     "output_type": "stream",
     "text": [
      "Hello anukul srivastava! You just delved into python.\n"
     ]
    }
   ],
   "source": [
    "def print_full_name(first, last):\n",
    "    # Write your code here\n",
    "    print(\"Hello \" + first_name + \" \" + last_name + \"! You just delved into python.\")\n",
    "    \n",
    "    \n",
    "if __name__ == '__main__':\n",
    "    first_name = input()\n",
    "    last_name = input()\n",
    "    print_full_name(first_name, last_name)"
   ]
  },
  {
   "cell_type": "code",
   "execution_count": 16,
   "metadata": {},
   "outputs": [
    {
     "name": "stdout",
     "output_type": "stream",
     "text": [
      "kbrkckdkbrk\n"
     ]
    }
   ],
   "source": [
    "s = 'abracadabra'\n",
    "p = s[5]\n",
    "a = s.replace(p,'k')\n",
    "print(a)"
   ]
  },
  {
   "cell_type": "code",
   "execution_count": 28,
   "metadata": {},
   "outputs": [
    {
     "name": "stdout",
     "output_type": "stream",
     "text": [
      "abrackdabra\n"
     ]
    }
   ],
   "source": [
    "def mutate_string(string, position, character):\n",
    "    l=list(string)\n",
    "    l[5] = 'k'\n",
    "    string = ''.join(l)\n",
    "    \n",
    "    \n",
    "    return string\n",
    "\n",
    "if __name__ == '__main__':\n",
    "    s = input()\n",
    "    i = int(input())\n",
    "    c = input()\n",
    "    s_new = mutate_string(s, int(i), c)\n",
    "    print(s_new)"
   ]
  },
  {
   "cell_type": "markdown",
   "metadata": {},
   "source": [
    "input - l = [1095,1094,1095]\n",
    "output - l =[1005,1014,1015] -- 90,80,80"
   ]
  },
  {
   "cell_type": "code",
   "execution_count": 26,
   "metadata": {},
   "outputs": [
    {
     "name": "stdout",
     "output_type": "stream",
     "text": [
      "[1005, 1004, 1005]\n"
     ]
    }
   ],
   "source": [
    "l = [1095,1094,1095]\n",
    "s= 0\n",
    "l2=[]\n",
    "f=90\n",
    "while s<len(l):\n",
    "   g = l[s]\n",
    "   y = g-f\n",
    "   l2.append(y)\n",
    "   s += 1\n",
    "\n",
    "print(l2)"
   ]
  },
  {
   "cell_type": "markdown",
   "metadata": {},
   "source": [
    "compare two string and print how many times 2 string appears in 1 string"
   ]
  },
  {
   "cell_type": "code",
   "execution_count": 41,
   "metadata": {},
   "outputs": [
    {
     "name": "stdout",
     "output_type": "stream",
     "text": [
      "2\n"
     ]
    }
   ],
   "source": [
    "s = \"ABCDCDC\"\n",
    "ss= \"CDC\"\n",
    "c=0\n",
    "u= len(ss)\n",
    "for i in range(0,len(s)):\n",
    "    a = s[i:i+u]\n",
    "    if a == ss :\n",
    "        c = c+1\n",
    "print(c)"
   ]
  },
  {
   "cell_type": "code",
   "execution_count": 25,
   "metadata": {},
   "outputs": [
    {
     "name": "stdout",
     "output_type": "stream",
     "text": [
      "True\n",
      "False\n",
      "False\n",
      "False\n",
      "False\n"
     ]
    }
   ],
   "source": [
    "if __name__ == '__main__':\n",
    "   s = input().split()\n",
    "   for i in s:\n",
    "        if i.isalnum():\n",
    "            print(\"True\")\n",
    "        else : \n",
    "            print(\"False\")\n",
    "\n",
    "        if i.isalpha():\n",
    "            print(\"True\")\n",
    "        else :\n",
    "            print(\"False\")\n",
    "        if i.isdigit():\n",
    "            print(\"True\")\n",
    "        else :\n",
    "            print(\"False\")\n",
    "        if i.isupper():\n",
    "            print(\"True\") \n",
    "        else :\n",
    "            print(\"False\")\n",
    "        if i.islower():\n",
    "            print(\"True\")\n",
    "        else :\n",
    "            print(\"False\")\n"
   ]
  },
  {
   "cell_type": "code",
   "execution_count": 26,
   "metadata": {},
   "outputs": [
    {
     "name": "stdout",
     "output_type": "stream",
     "text": [
      "ANUKUL sRIVASTAVA\n"
     ]
    }
   ],
   "source": [
    "s = input()\n",
    "p = ''\n",
    "for i in s :\n",
    "    if i.isupper():\n",
    "        p = p + (i.lower())\n",
    "    else :\n",
    "        p= p + (i.upper())\n",
    "print (p)\n"
   ]
  },
  {
   "cell_type": "code",
   "execution_count": 27,
   "metadata": {},
   "outputs": [
    {
     "name": "stdout",
     "output_type": "stream",
     "text": [
      "ANUKUL sRIvASTAvA\n"
     ]
    }
   ],
   "source": [
    "def swap_case(s):\n",
    "   p = ''\n",
    "   for i in s :\n",
    "    if i.isupper():\n",
    "        p = p + (i.lower())\n",
    "    else :\n",
    "        p= p + (i.upper())\n",
    "    \n",
    "   return p\n",
    "\n",
    "if __name__ == '__main__':\n",
    "    s = input()\n",
    "    result = swap_case(s)\n",
    "    print(result)"
   ]
  },
  {
   "cell_type": "code",
   "execution_count": 44,
   "metadata": {},
   "outputs": [
    {
     "name": "stdout",
     "output_type": "stream",
     "text": [
      "5\n"
     ]
    }
   ],
   "source": [
    "if __name__ == '__main__':\n",
    "    n = int(input())\n",
    "    arr = map(int, input().split())\n",
    "    s =sorted(arr)\n",
    "    m = max(s)\n",
    "    #print(m)\n",
    "    l = []\n",
    "    for i in s:\n",
    "      if i<m :\n",
    "        l.append(i)\n",
    "    print(l[-1])\n",
    "    \n"
   ]
  },
  {
   "cell_type": "code",
   "execution_count": 47,
   "metadata": {},
   "outputs": [
    {
     "name": "stdout",
     "output_type": "stream",
     "text": [
      "6\n",
      "[4, 5, 6, 3, 2, 1]\n"
     ]
    }
   ],
   "source": [
    "l = [1,2,3,6,5,4]\n",
    "print(len(l))\n",
    "print(l[::-1])"
   ]
  },
  {
   "cell_type": "code",
   "execution_count": 19,
   "metadata": {},
   "outputs": [
    {
     "name": "stdout",
     "output_type": "stream",
     "text": [
      "56.00\n"
     ]
    }
   ],
   "source": [
    "if __name__ == '__main__':\n",
    "    n = int(input())\n",
    "    student_marks = {}\n",
    "    for i in range(n):\n",
    "        name, *line = input().split()\n",
    "        scores = list(map(float, line))\n",
    "        student_marks[name] = scores\n",
    "    query_name = input()\n",
    "    s = student_marks[query_name]\n",
    "    l = len(s)\n",
    "    p = 0 \n",
    "    for i in s : \n",
    "        p = p + i\n",
    "    d = p/l\n",
    "    print('%.2f' % d)\n",
    "        \n",
    "\n",
    "\n",
    "    \n"
   ]
  },
  {
   "cell_type": "code",
   "execution_count": 23,
   "metadata": {},
   "outputs": [
    {
     "name": "stdout",
     "output_type": "stream",
     "text": [
      "0.20\n"
     ]
    }
   ],
   "source": [
    "w = 2/10\n",
    "print('%.2f'% w)"
   ]
  },
  {
   "cell_type": "markdown",
   "metadata": {},
   "source": [
    "Wap nested list: here user inputs the function and then perform that task... example given below \n",
    "\n",
    "12\n",
    "insert 0 5\n",
    "insert 1 10\n",
    "insert 0 6\n",
    "print\n",
    "remove 6\n",
    "append 9\n",
    "append 1\n",
    "sort\n",
    "print\n",
    "pop\n",
    "reverse\n",
    "print"
   ]
  },
  {
   "cell_type": "code",
   "execution_count": 5,
   "metadata": {},
   "outputs": [
    {
     "name": "stdout",
     "output_type": "stream",
     "text": [
      "[6, 5, 10]\n",
      "[1, 5, 9, 10]\n",
      "[9, 5, 1]\n"
     ]
    }
   ],
   "source": [
    "if __name__ == '__main__':\n",
    "    N = int(input())\n",
    "    l=[]\n",
    "    for i in range(N):\n",
    "        a = input()\n",
    "        if a == 'insert':\n",
    "            s = int(input())\n",
    "            d = int(input())\n",
    "            l.insert(s,d)\n",
    "        elif a =='print':\n",
    "            print(l)\n",
    "        elif a == 'remove':\n",
    "            w = int(input())\n",
    "            l.remove(w)\n",
    "        elif a == 'append':\n",
    "            e = int(input())\n",
    "            l.append(e)\n",
    "        elif a == 'sort':\n",
    "           l.sort()\n",
    "        elif a == 'pop':\n",
    "            l.pop()\n",
    "        elif a == 'reverse':\n",
    "            l.reverse()\n",
    "        \n"
   ]
  },
  {
   "cell_type": "code",
   "execution_count": 13,
   "metadata": {},
   "outputs": [
    {
     "name": "stdout",
     "output_type": "stream",
     "text": [
      "amit 54 67 <map object at 0x00000113A75F9A00>\n"
     ]
    }
   ],
   "source": [
    "if __name__ == '__main__':\n",
    "    n = input()\n",
    "    arr = map(int, input().split())\n",
    "    print(n,arr)"
   ]
  },
  {
   "cell_type": "code",
   "execution_count": 24,
   "metadata": {},
   "outputs": [
    {
     "name": "stdout",
     "output_type": "stream",
     "text": [
      "Not Armstrong\n"
     ]
    }
   ],
   "source": [
    "a= int(input(\"Enter a number\"))\n",
    "c= str(a)\n",
    "length = len(c)\n",
    "b= list(c)\n",
    "sum =0\n",
    "for i in b:\n",
    " j = int(i)**length\n",
    " sum = sum+j\n",
    "\n",
    "if sum == a :\n",
    "   print(\"Armstrong\")\n",
    "else:\n",
    "    print(\"Not Armstrong\")"
   ]
  },
  {
   "cell_type": "code",
   "execution_count": null,
   "metadata": {},
   "outputs": [],
   "source": [
    "name, *line = input().split()\n",
    "scores = list(map(float, line))"
   ]
  },
  {
   "cell_type": "code",
   "execution_count": 14,
   "metadata": {},
   "outputs": [
    {
     "name": "stdout",
     "output_type": "stream",
     "text": [
      "[2, 3, 4]\n"
     ]
    }
   ],
   "source": [
    "a,*lis = input().split()\n",
    "newlis = list(map(int, lis))\n",
    "print (newlis)\n",
    "#[5, 4, 3, 2]"
   ]
  },
  {
   "cell_type": "code",
   "execution_count": 1,
   "metadata": {},
   "outputs": [
    {
     "name": "stdout",
     "output_type": "stream",
     "text": [
      "3\n",
      "4\n",
      "7\n"
     ]
    }
   ],
   "source": [
    "a =3\n",
    "print(a)\n",
    "b= 4\n",
    "print(b)\n",
    "s= a+b\n",
    "print(s)"
   ]
  },
  {
   "cell_type": "code",
   "execution_count": 13,
   "metadata": {},
   "outputs": [
    {
     "name": "stdout",
     "output_type": "stream",
     "text": [
      "[1, 2, 4, 5, 6]\n",
      "2\n",
      "4\n",
      "6\n"
     ]
    },
    {
     "ename": "IndexError",
     "evalue": "list index out of range",
     "output_type": "error",
     "traceback": [
      "\u001b[1;31m---------------------------------------------------------------------------\u001b[0m",
      "\u001b[1;31mIndexError\u001b[0m                                Traceback (most recent call last)",
      "Cell \u001b[1;32mIn [13], line 4\u001b[0m\n\u001b[0;32m      2\u001b[0m \u001b[39mprint\u001b[39m(arr)\n\u001b[0;32m      3\u001b[0m \u001b[39mfor\u001b[39;00m i \u001b[39min\u001b[39;00m arr:\n\u001b[1;32m----> 4\u001b[0m    \u001b[39mprint\u001b[39m(arr[i])\n",
      "\u001b[1;31mIndexError\u001b[0m: list index out of range"
     ]
    }
   ],
   "source": [
    "arr = list(map(int, input().rstrip().split()))\n",
    "print(arr)\n",
    "for i in arr:\n",
    "   print(arr[i])"
   ]
  },
  {
   "attachments": {},
   "cell_type": "markdown",
   "metadata": {},
   "source": [
    "input the number and print the min and max by doing the sum of number\n",
    "eg. 1 2 3 4 5\n",
    "2+3+4+5 = 14\n",
    "1+3+4+5 = 13\n",
    "1+2+4+5 = 12\n",
    "1+2+3+5 = 11\n",
    "1+2+3+4 = 10\n",
    "\n",
    "here min is 10 and max is 14"
   ]
  },
  {
   "cell_type": "code",
   "execution_count": 15,
   "metadata": {},
   "outputs": [
    {
     "name": "stdout",
     "output_type": "stream",
     "text": [
      "[5, 5, 5, 5, 5]\n",
      "[20, 20, 20, 20, 20]\n",
      "20 20\n"
     ]
    }
   ],
   "source": [
    "arr = list(map(int, input().rstrip().split()))\n",
    "print(arr)\n",
    "l =[]\n",
    "total = sum(arr)\n",
    "for i in arr:\n",
    "    s = total-i\n",
    "    l.append(s)\n",
    "print(l)\n",
    "print(min(l),end=' ')\n",
    "print(max(l))"
   ]
  },
  {
   "attachments": {},
   "cell_type": "markdown",
   "metadata": {},
   "source": [
    "input ABCDEFGHIJKLIMNOQRSTUVWXYZ\n",
    "      4\n",
    "\n",
    "output:\n",
    "\n",
    "ABCD\n",
    "EFGH\n",
    "IJKL\n",
    "IMNO\n",
    "QRST\n",
    "UVWX\n",
    "YZ"
   ]
  },
  {
   "cell_type": "code",
   "execution_count": 6,
   "metadata": {},
   "outputs": [
    {
     "name": "stdout",
     "output_type": "stream",
     "text": [
      "ABC\n",
      "DEF\n",
      "GHI\n",
      "JKL\n",
      "IMN\n",
      "OQR\n",
      "STU\n",
      "VWX\n",
      "YZ\n"
     ]
    }
   ],
   "source": [
    "import textwrap\n",
    "n = int(input(\"Enter number of charcter you want to print in specific line\"))\n",
    "f = \"ABCDEFGHIJKLIMNOQRSTUVWXYZ\"\n",
    "wp=textwrap.TextWrapper(width=n)\n",
    "character = wp.wrap(text=f)\n",
    "for i in character:\n",
    "    print(i)\n"
   ]
  },
  {
   "cell_type": "code",
   "execution_count": 11,
   "metadata": {},
   "outputs": [
    {
     "name": "stdout",
     "output_type": "stream",
     "text": [
      "1 W 3 R 3H\n"
     ]
    }
   ],
   "source": [
    "d = \"1 w 3 r 3h\"\n",
    "p = d.title()\n",
    "print(p)"
   ]
  },
  {
   "cell_type": "code",
   "execution_count": 17,
   "metadata": {},
   "outputs": [
    {
     "name": "stdout",
     "output_type": "stream",
     "text": [
      "x**3 + x**2 + x + 1\n",
      "False\n"
     ]
    }
   ],
   "source": [
    "x=1\n",
    "b=4\n",
    "y = input(\"Enter series\")\n",
    "print(y)\n",
    "p = y\n",
    "if y == b:\n",
    "    print(True)\n",
    "else :\n",
    "    print(False)\n"
   ]
  },
  {
   "cell_type": "code",
   "execution_count": 24,
   "metadata": {},
   "outputs": [
    {
     "name": "stdout",
     "output_type": "stream",
     "text": [
      "(1, 2)\n",
      "-3550055125485641917\n"
     ]
    }
   ],
   "source": [
    "a= int(input())\n",
    "p= tuple(map(int,input().split()))\n",
    "print(p)\n",
    "print(hash(p))"
   ]
  },
  {
   "cell_type": "code",
   "execution_count": 3,
   "metadata": {},
   "outputs": [
    {
     "name": "stdout",
     "output_type": "stream",
     "text": [
      "0\n"
     ]
    }
   ],
   "source": [
    "str = \"ABCDCDC\"\n",
    "inp = input(\"Enter word to be searched\")\n",
    "c=0\n",
    "for i in str:\n",
    "    if inp in str:\n",
    "        c +=1\n",
    "print(c)"
   ]
  },
  {
   "cell_type": "code",
   "execution_count": 7,
   "metadata": {},
   "outputs": [
    {
     "name": "stdout",
     "output_type": "stream",
     "text": [
      "0\n"
     ]
    }
   ],
   "source": [
    "from itertools import groupby\n",
    "d = \"1222311\"\n",
    "s= groupby(d)\n",
    "for i in s:\n",
    "    if i == s:\n",
    "        c +=1\n",
    "print(c)"
   ]
  },
  {
   "cell_type": "code",
   "execution_count": 11,
   "metadata": {},
   "outputs": [
    {
     "name": "stdout",
     "output_type": "stream",
     "text": [
      "[6. 4. 3. 2. 1.]\n"
     ]
    }
   ],
   "source": [
    "import numpy as np\n",
    "\n",
    "def sorttt(arr):\n",
    "    p = np.array(arr,float)\n",
    "    return (p[::-1])\n",
    "arr = input().split()\n",
    "r = sorttt(arr)\n",
    "print(r)"
   ]
  },
  {
   "cell_type": "code",
   "execution_count": 7,
   "metadata": {},
   "outputs": [
    {
     "name": "stdout",
     "output_type": "stream",
     "text": [
      "[-90, -9, 1, 2, 3, 4, 5]\n"
     ]
    }
   ],
   "source": [
    "import numpy as np\n",
    "arr = [1,2,3,4,5,-9,-90]\n",
    "p = np.array(arr)\n",
    "print(sorted(p))"
   ]
  },
  {
   "cell_type": "code",
   "execution_count": 2,
   "metadata": {},
   "outputs": [
    {
     "name": "stdout",
     "output_type": "stream",
     "text": [
      "[1 2 3 4 6]\n"
     ]
    }
   ],
   "source": [
    "import numpy as np\n",
    "for i in range(0,3):\n",
    "  b = np.array(list(map(int,input().split())))\n",
    "  \n",
    "print(b.transpose())"
   ]
  },
  {
   "cell_type": "code",
   "execution_count": 8,
   "metadata": {},
   "outputs": [
    {
     "name": "stdout",
     "output_type": "stream",
     "text": [
      "-2.0000000000000004\n"
     ]
    }
   ],
   "source": [
    "import numpy as np\n",
    "n= int(input())\n",
    "b= list(map(float,input().split()))\n",
    "c = np.array(b).reshape(2,2)\n",
    "print(np.linalg.det(c))\n"
   ]
  },
  {
   "cell_type": "code",
   "execution_count": 3,
   "metadata": {},
   "outputs": [
    {
     "name": "stdout",
     "output_type": "stream",
     "text": [
      "Hello World\n"
     ]
    }
   ],
   "source": [
    "def check():\n",
    "    return \"Hello World\"\n",
    "v = check()\n",
    "print(v)"
   ]
  },
  {
   "cell_type": "code",
   "execution_count": 4,
   "metadata": {},
   "outputs": [
    {
     "data": {
      "text/plain": [
       "5"
      ]
     },
     "execution_count": 4,
     "metadata": {},
     "output_type": "execute_result"
    }
   ],
   "source": [
    "v = lambda a,b:a+b\n",
    "v(2,3)"
   ]
  },
  {
   "cell_type": "code",
   "execution_count": 6,
   "metadata": {},
   "outputs": [
    {
     "data": {
      "text/plain": [
       "False"
      ]
     },
     "execution_count": 6,
     "metadata": {},
     "output_type": "execute_result"
    }
   ],
   "source": [
    "f = lambda a:a%2==0\n",
    "f(5)"
   ]
  }
 ],
 "metadata": {
  "kernelspec": {
   "display_name": "Python 3.9.12 ('base')",
   "language": "python",
   "name": "python3"
  },
  "language_info": {
   "codemirror_mode": {
    "name": "ipython",
    "version": 3
   },
   "file_extension": ".py",
   "mimetype": "text/x-python",
   "name": "python",
   "nbconvert_exporter": "python",
   "pygments_lexer": "ipython3",
   "version": "3.9.12"
  },
  "orig_nbformat": 4,
  "vscode": {
   "interpreter": {
    "hash": "4e8f3a7a02010f64316f648f42951c185bd81b36418d82413abe5bcaf48078d2"
   }
  }
 },
 "nbformat": 4,
 "nbformat_minor": 2
}
