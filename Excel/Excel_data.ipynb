{
 "cells": [
  {
   "cell_type": "code",
   "execution_count": 32,
   "metadata": {},
   "outputs": [],
   "source": [
    "import numpy as np\n",
    "import pandas as pd"
   ]
  },
  {
   "cell_type": "code",
   "execution_count": 33,
   "metadata": {},
   "outputs": [
    {
     "data": {
      "text/html": [
       "<div>\n",
       "<style scoped>\n",
       "    .dataframe tbody tr th:only-of-type {\n",
       "        vertical-align: middle;\n",
       "    }\n",
       "\n",
       "    .dataframe tbody tr th {\n",
       "        vertical-align: top;\n",
       "    }\n",
       "\n",
       "    .dataframe thead th {\n",
       "        text-align: right;\n",
       "    }\n",
       "</style>\n",
       "<table border=\"1\" class=\"dataframe\">\n",
       "  <thead>\n",
       "    <tr style=\"text-align: right;\">\n",
       "      <th></th>\n",
       "      <th>Id</th>\n",
       "      <th>Name</th>\n",
       "      <th>stream</th>\n",
       "      <th>College</th>\n",
       "    </tr>\n",
       "  </thead>\n",
       "  <tbody>\n",
       "    <tr>\n",
       "      <th>0</th>\n",
       "      <td>1</td>\n",
       "      <td>Amit</td>\n",
       "      <td>BCA</td>\n",
       "      <td>FGIPS</td>\n",
       "    </tr>\n",
       "    <tr>\n",
       "      <th>1</th>\n",
       "      <td>2</td>\n",
       "      <td>Anukul</td>\n",
       "      <td>BCA</td>\n",
       "      <td>FGIPS</td>\n",
       "    </tr>\n",
       "    <tr>\n",
       "      <th>2</th>\n",
       "      <td>3</td>\n",
       "      <td>Ankit</td>\n",
       "      <td>Btech</td>\n",
       "      <td>FGIET</td>\n",
       "    </tr>\n",
       "    <tr>\n",
       "      <th>3</th>\n",
       "      <td>4</td>\n",
       "      <td>Amita</td>\n",
       "      <td>BBA</td>\n",
       "      <td>FGIPS</td>\n",
       "    </tr>\n",
       "    <tr>\n",
       "      <th>4</th>\n",
       "      <td>5</td>\n",
       "      <td>John</td>\n",
       "      <td>Bcom</td>\n",
       "      <td>FG</td>\n",
       "    </tr>\n",
       "    <tr>\n",
       "      <th>5</th>\n",
       "      <td>6</td>\n",
       "      <td>Sara</td>\n",
       "      <td>MBA</td>\n",
       "      <td>FGIPS</td>\n",
       "    </tr>\n",
       "    <tr>\n",
       "      <th>6</th>\n",
       "      <td>7</td>\n",
       "      <td>Alisha</td>\n",
       "      <td>Btech</td>\n",
       "      <td>FGIET</td>\n",
       "    </tr>\n",
       "    <tr>\n",
       "      <th>7</th>\n",
       "      <td>8</td>\n",
       "      <td>Sumit</td>\n",
       "      <td>BSC</td>\n",
       "      <td>FG</td>\n",
       "    </tr>\n",
       "    <tr>\n",
       "      <th>8</th>\n",
       "      <td>9</td>\n",
       "      <td>Jack</td>\n",
       "      <td>BA</td>\n",
       "      <td>FG</td>\n",
       "    </tr>\n",
       "    <tr>\n",
       "      <th>9</th>\n",
       "      <td>10</td>\n",
       "      <td>Henry</td>\n",
       "      <td>BCA</td>\n",
       "      <td>FGIPS</td>\n",
       "    </tr>\n",
       "  </tbody>\n",
       "</table>\n",
       "</div>"
      ],
      "text/plain": [
       "   Id    Name stream College\n",
       "0   1    Amit    BCA   FGIPS\n",
       "1   2  Anukul    BCA   FGIPS\n",
       "2   3   Ankit  Btech   FGIET\n",
       "3   4   Amita    BBA   FGIPS\n",
       "4   5    John   Bcom      FG\n",
       "5   6    Sara    MBA   FGIPS\n",
       "6   7  Alisha  Btech   FGIET\n",
       "7   8   Sumit    BSC      FG\n",
       "8   9    Jack     BA      FG\n",
       "9  10   Henry    BCA   FGIPS"
      ]
     },
     "execution_count": 33,
     "metadata": {},
     "output_type": "execute_result"
    }
   ],
   "source": [
    "df = pd.read_excel('Book1.xlsx')\n",
    "df"
   ]
  },
  {
   "cell_type": "code",
   "execution_count": 34,
   "metadata": {},
   "outputs": [
    {
     "data": {
      "text/html": [
       "<div>\n",
       "<style scoped>\n",
       "    .dataframe tbody tr th:only-of-type {\n",
       "        vertical-align: middle;\n",
       "    }\n",
       "\n",
       "    .dataframe tbody tr th {\n",
       "        vertical-align: top;\n",
       "    }\n",
       "\n",
       "    .dataframe thead th {\n",
       "        text-align: right;\n",
       "    }\n",
       "</style>\n",
       "<table border=\"1\" class=\"dataframe\">\n",
       "  <thead>\n",
       "    <tr style=\"text-align: right;\">\n",
       "      <th></th>\n",
       "      <th>Id</th>\n",
       "      <th>Name</th>\n",
       "      <th>stream</th>\n",
       "      <th>College</th>\n",
       "    </tr>\n",
       "  </thead>\n",
       "  <tbody>\n",
       "    <tr>\n",
       "      <th>0</th>\n",
       "      <td>1</td>\n",
       "      <td>Amit</td>\n",
       "      <td>BCA</td>\n",
       "      <td>FGIPS</td>\n",
       "    </tr>\n",
       "    <tr>\n",
       "      <th>1</th>\n",
       "      <td>2</td>\n",
       "      <td>Khadeeja</td>\n",
       "      <td>BSC</td>\n",
       "      <td>FG</td>\n",
       "    </tr>\n",
       "    <tr>\n",
       "      <th>2</th>\n",
       "      <td>3</td>\n",
       "      <td>Aman</td>\n",
       "      <td>BCA</td>\n",
       "      <td>FGIPS</td>\n",
       "    </tr>\n",
       "    <tr>\n",
       "      <th>3</th>\n",
       "      <td>4</td>\n",
       "      <td>Amita</td>\n",
       "      <td>BBA</td>\n",
       "      <td>FGIPS</td>\n",
       "    </tr>\n",
       "    <tr>\n",
       "      <th>4</th>\n",
       "      <td>5</td>\n",
       "      <td>John</td>\n",
       "      <td>Bcom</td>\n",
       "      <td>FG</td>\n",
       "    </tr>\n",
       "    <tr>\n",
       "      <th>5</th>\n",
       "      <td>6</td>\n",
       "      <td>Sara</td>\n",
       "      <td>MBA</td>\n",
       "      <td>FGIPS</td>\n",
       "    </tr>\n",
       "    <tr>\n",
       "      <th>6</th>\n",
       "      <td>7</td>\n",
       "      <td>Alisha</td>\n",
       "      <td>Btech</td>\n",
       "      <td>FGIET</td>\n",
       "    </tr>\n",
       "    <tr>\n",
       "      <th>7</th>\n",
       "      <td>8</td>\n",
       "      <td>Jack</td>\n",
       "      <td>BA</td>\n",
       "      <td>FG</td>\n",
       "    </tr>\n",
       "    <tr>\n",
       "      <th>8</th>\n",
       "      <td>9</td>\n",
       "      <td>Kohli</td>\n",
       "      <td>BA</td>\n",
       "      <td>FG</td>\n",
       "    </tr>\n",
       "    <tr>\n",
       "      <th>9</th>\n",
       "      <td>10</td>\n",
       "      <td>Henry</td>\n",
       "      <td>BCA</td>\n",
       "      <td>FGIPS</td>\n",
       "    </tr>\n",
       "  </tbody>\n",
       "</table>\n",
       "</div>"
      ],
      "text/plain": [
       "   Id      Name stream College\n",
       "0   1      Amit    BCA   FGIPS\n",
       "1   2  Khadeeja    BSC     FG \n",
       "2   3      Aman    BCA   FGIPS\n",
       "3   4     Amita    BBA   FGIPS\n",
       "4   5      John   Bcom      FG\n",
       "5   6      Sara    MBA   FGIPS\n",
       "6   7    Alisha  Btech   FGIET\n",
       "7   8      Jack     BA      FG\n",
       "8   9     Kohli     BA      FG\n",
       "9  10     Henry    BCA   FGIPS"
      ]
     },
     "execution_count": 34,
     "metadata": {},
     "output_type": "execute_result"
    }
   ],
   "source": [
    "dff = pd.read_excel('Book2.xlsx')\n",
    "dff"
   ]
  },
  {
   "cell_type": "code",
   "execution_count": 35,
   "metadata": {},
   "outputs": [
    {
     "name": "stdout",
     "output_type": "stream",
     "text": [
      "[[ True  True  True  True]\n",
      " [ True False False False]\n",
      " [ True False False False]\n",
      " [ True  True  True  True]\n",
      " [ True  True  True  True]\n",
      " [ True  True  True  True]\n",
      " [ True  True  True  True]\n",
      " [ True False False  True]\n",
      " [ True False  True  True]\n",
      " [ True  True  True  True]]\n"
     ]
    }
   ],
   "source": [
    "compare_val = df.values == dff.values\n",
    "print(compare_val)"
   ]
  },
  {
   "cell_type": "code",
   "execution_count": 39,
   "metadata": {},
   "outputs": [
    {
     "data": {
      "text/plain": [
       "(array([1, 1, 1, 2, 2, 2, 7, 7, 8], dtype=int64),\n",
       " array([1, 2, 3, 1, 2, 3, 1, 2, 1], dtype=int64))"
      ]
     },
     "execution_count": 39,
     "metadata": {},
     "output_type": "execute_result"
    }
   ],
   "source": [
    "rows,cols = np.where(compare_val == False)\n",
    "rows,cols"
   ]
  },
  {
   "cell_type": "code",
   "execution_count": 41,
   "metadata": {},
   "outputs": [
    {
     "data": {
      "text/html": [
       "<div>\n",
       "<style scoped>\n",
       "    .dataframe tbody tr th:only-of-type {\n",
       "        vertical-align: middle;\n",
       "    }\n",
       "\n",
       "    .dataframe tbody tr th {\n",
       "        vertical-align: top;\n",
       "    }\n",
       "\n",
       "    .dataframe thead th {\n",
       "        text-align: right;\n",
       "    }\n",
       "</style>\n",
       "<table border=\"1\" class=\"dataframe\">\n",
       "  <thead>\n",
       "    <tr style=\"text-align: right;\">\n",
       "      <th></th>\n",
       "      <th>0</th>\n",
       "    </tr>\n",
       "  </thead>\n",
       "  <tbody>\n",
       "    <tr>\n",
       "      <th>0</th>\n",
       "      <td>Anukul</td>\n",
       "    </tr>\n",
       "    <tr>\n",
       "      <th>1</th>\n",
       "      <td>BCA</td>\n",
       "    </tr>\n",
       "    <tr>\n",
       "      <th>2</th>\n",
       "      <td>FGIPS</td>\n",
       "    </tr>\n",
       "    <tr>\n",
       "      <th>3</th>\n",
       "      <td>Ankit</td>\n",
       "    </tr>\n",
       "    <tr>\n",
       "      <th>4</th>\n",
       "      <td>Btech</td>\n",
       "    </tr>\n",
       "    <tr>\n",
       "      <th>5</th>\n",
       "      <td>FGIET</td>\n",
       "    </tr>\n",
       "    <tr>\n",
       "      <th>6</th>\n",
       "      <td>Sumit</td>\n",
       "    </tr>\n",
       "    <tr>\n",
       "      <th>7</th>\n",
       "      <td>BSC</td>\n",
       "    </tr>\n",
       "    <tr>\n",
       "      <th>8</th>\n",
       "      <td>Jack</td>\n",
       "    </tr>\n",
       "  </tbody>\n",
       "</table>\n",
       "</div>"
      ],
      "text/plain": [
       "        0\n",
       "0  Anukul\n",
       "1     BCA\n",
       "2   FGIPS\n",
       "3   Ankit\n",
       "4   Btech\n",
       "5   FGIET\n",
       "6   Sumit\n",
       "7     BSC\n",
       "8    Jack"
      ]
     },
     "execution_count": 41,
     "metadata": {},
     "output_type": "execute_result"
    }
   ],
   "source": [
    "l = []\n",
    "for item in zip(rows,cols):\n",
    "   a =  df.iloc[item]\n",
    "   b= item\n",
    "   l.append(a)\n",
    "pd.DataFrame(l)"
   ]
  },
  {
   "attachments": {},
   "cell_type": "markdown",
   "metadata": {},
   "source": [
    "Below code will find the common data between both the excel file, and save it into a new file. "
   ]
  },
  {
   "cell_type": "code",
   "execution_count": 53,
   "metadata": {},
   "outputs": [
    {
     "name": "stdout",
     "output_type": "stream",
     "text": [
      "   Id    Name stream College\n",
      "0   1    Amit    BCA   FGIPS\n",
      "1   4   Amita    BBA   FGIPS\n",
      "2   5    John   Bcom      FG\n",
      "3   6    Sara    MBA   FGIPS\n",
      "4   7  Alisha  Btech   FGIET\n",
      "5  10   Henry    BCA   FGIPS\n"
     ]
    }
   ],
   "source": [
    "compare_value = pd.merge(df,dff,how='inner',on=['Id','Name','stream','College'])\n",
    "print(compare_value)\n",
    "#compare_value.to_excel(\"New_File.xlsx\")"
   ]
  },
  {
   "attachments": {},
   "cell_type": "markdown",
   "metadata": {},
   "source": [
    "Below code will combine both the excel file into a single file. It works as set data structure it will save the record once(if a record is present in both file then it will read once in a new file)."
   ]
  },
  {
   "cell_type": "code",
   "execution_count": 66,
   "metadata": {},
   "outputs": [
    {
     "name": "stdout",
     "output_type": "stream",
     "text": [
      "    Id      Name stream College\n",
      "0    1      Amit    BCA   FGIPS\n",
      "1    2    Anukul    BCA   FGIPS\n",
      "2    3     Ankit  Btech   FGIET\n",
      "3    4     Amita    BBA   FGIPS\n",
      "4    5      John   Bcom      FG\n",
      "5    6      Sara    MBA   FGIPS\n",
      "6    7    Alisha  Btech   FGIET\n",
      "7    8     Sumit    BSC      FG\n",
      "8    9      Jack     BA      FG\n",
      "9   10     Henry    BCA   FGIPS\n",
      "10   2  Khadeeja    BSC     FG \n",
      "11   3      Aman    BCA   FGIPS\n",
      "12   8      Jack     BA      FG\n",
      "13   9     Kohli     BA      FG\n"
     ]
    }
   ],
   "source": [
    "compare_value = pd.merge(df,dff,how='outer',on=['Id','Name','stream','College'])\n",
    "print(compare_value)\n",
    "#compare_value.to_excel(\"New_File2.xlsx\")"
   ]
  },
  {
   "cell_type": "code",
   "execution_count": 54,
   "metadata": {},
   "outputs": [],
   "source": [
    "tf = pd.read_csv('batting.csv')\n",
    "tff = pd.read_csv('bowling.csv')"
   ]
  },
  {
   "cell_type": "code",
   "execution_count": 61,
   "metadata": {},
   "outputs": [
    {
     "name": "stdout",
     "output_type": "stream",
     "text": [
      "       MatchID  InningsNo_x Team_x      PlayerName_x  MatchPlayingOrder  \\\n",
      "0            1            1    CSK  Ruturaj  Gaikwad                  1   \n",
      "1            1            1    CSK  Ruturaj  Gaikwad                  1   \n",
      "2            1            1    CSK  Ruturaj  Gaikwad                  1   \n",
      "3            1            1    CSK  Ruturaj  Gaikwad                  1   \n",
      "4            1            1    CSK  Ruturaj  Gaikwad                  1   \n",
      "...        ...          ...    ...               ...                ...   \n",
      "18849       76            2     GT        Yash Dayal                 11   \n",
      "18850       76            2     GT        Yash Dayal                 11   \n",
      "18851       76            2     GT        Yash Dayal                 11   \n",
      "18852       76            2     GT        Yash Dayal                 11   \n",
      "18853       76            2     GT        Yash Dayal                 11   \n",
      "\n",
      "        BowlerName                      OutDesc  Runs_x  Balls  DotBalls_x  \\\n",
      "0      Umesh Yadav  c Nitish Rana b Umesh Yadav       0      4           4   \n",
      "1      Umesh Yadav  c Nitish Rana b Umesh Yadav       0      4           4   \n",
      "2      Umesh Yadav  c Nitish Rana b Umesh Yadav       0      4           4   \n",
      "3      Umesh Yadav  c Nitish Rana b Umesh Yadav       0      4           4   \n",
      "4      Umesh Yadav  c Nitish Rana b Umesh Yadav       0      4           4   \n",
      "...            ...                          ...     ...    ...         ...   \n",
      "18849          NaN                          NaN       0      0           0   \n",
      "18850          NaN                          NaN       0      0           0   \n",
      "18851          NaN                          NaN       0      0           0   \n",
      "18852          NaN                          NaN       0      0           0   \n",
      "18853          NaN                          NaN       0      0           0   \n",
      "\n",
      "       ...  Economy  BowlingOrder  TotalLegalBallsBowled  DotBalls_y  Ones_y  \\\n",
      "0      ...     5.00             1                     24          15       7   \n",
      "1      ...     8.75             2                     24          12       7   \n",
      "2      ...     5.75             3                     24          11      10   \n",
      "3      ...     3.75             4                     24          10      13   \n",
      "4      ...     9.50             5                     24           7      10   \n",
      "...    ...      ...           ...                    ...         ...     ...   \n",
      "18849  ...     3.50             1                     24          17       4   \n",
      "18850  ...    10.00             2                     24          13       2   \n",
      "18851  ...     5.00             3                     24          10      10   \n",
      "18852  ...     8.21             4                     19           5      10   \n",
      "18853  ...    10.67             5                     18           2      10   \n",
      "\n",
      "      Twos_y  Threes_y  Fours_y  Sixes_y  StrikeRate_y  \n",
      "0          0         0        1        1          12.0  \n",
      "1          1         0        3        2           0.0  \n",
      "2          1         0        1        1          24.0  \n",
      "3          1         0        0        0           0.0  \n",
      "4          1         0        5        1          24.0  \n",
      "...      ...       ...      ...      ...           ...  \n",
      "18849      2         0        1        0          24.0  \n",
      "18850      3         0        6        1          24.0  \n",
      "18851      3         0        1        0          24.0  \n",
      "18852      1         0        2        1           0.0  \n",
      "18853      3         0        1        2           0.0  \n",
      "\n",
      "[18854 rows x 38 columns]\n"
     ]
    }
   ],
   "source": [
    "compare_valuee = pd.merge(tf,tff,how='inner',on=['MatchID'])\n",
    "print(compare_valuee)\n",
    "#compare_valuee.to_excel('check.xlsx')"
   ]
  }
 ],
 "metadata": {
  "kernelspec": {
   "display_name": "base",
   "language": "python",
   "name": "python3"
  },
  "language_info": {
   "codemirror_mode": {
    "name": "ipython",
    "version": 3
   },
   "file_extension": ".py",
   "mimetype": "text/x-python",
   "name": "python",
   "nbconvert_exporter": "python",
   "pygments_lexer": "ipython3",
   "version": "3.9.12"
  },
  "orig_nbformat": 4,
  "vscode": {
   "interpreter": {
    "hash": "4e8f3a7a02010f64316f648f42951c185bd81b36418d82413abe5bcaf48078d2"
   }
  }
 },
 "nbformat": 4,
 "nbformat_minor": 2
}
