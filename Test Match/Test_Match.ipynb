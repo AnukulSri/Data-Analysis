{
 "cells": [
  {
   "cell_type": "code",
   "execution_count": 1,
   "metadata": {},
   "outputs": [],
   "source": [
    "import pandas as pd\n",
    "import matplotlib.pyplot as plt\n",
    "import plotly_express as px\n",
    "import seaborn as sns"
   ]
  },
  {
   "cell_type": "code",
   "execution_count": 2,
   "metadata": {},
   "outputs": [
    {
     "data": {
      "text/html": [
       "<div>\n",
       "<style scoped>\n",
       "    .dataframe tbody tr th:only-of-type {\n",
       "        vertical-align: middle;\n",
       "    }\n",
       "\n",
       "    .dataframe tbody tr th {\n",
       "        vertical-align: top;\n",
       "    }\n",
       "\n",
       "    .dataframe thead th {\n",
       "        text-align: right;\n",
       "    }\n",
       "</style>\n",
       "<table border=\"1\" class=\"dataframe\">\n",
       "  <thead>\n",
       "    <tr style=\"text-align: right;\">\n",
       "      <th></th>\n",
       "      <th>Test Series Year</th>\n",
       "      <th>Test Number</th>\n",
       "      <th>Innings</th>\n",
       "      <th>Venue</th>\n",
       "      <th>Host</th>\n",
       "      <th>Highest Scorer</th>\n",
       "      <th>Team</th>\n",
       "      <th>Runs by highest scorer</th>\n",
       "      <th>best bowler</th>\n",
       "      <th>wickets by best bowler</th>\n",
       "      <th>team total</th>\n",
       "      <th>Winner</th>\n",
       "      <th>Win Margin</th>\n",
       "      <th>MOTM</th>\n",
       "      <th>Ind captain</th>\n",
       "      <th>Aus captain</th>\n",
       "      <th>MOTS</th>\n",
       "      <th>Series Win</th>\n",
       "    </tr>\n",
       "  </thead>\n",
       "  <tbody>\n",
       "    <tr>\n",
       "      <th>0</th>\n",
       "      <td>1996-97</td>\n",
       "      <td>1</td>\n",
       "      <td>1</td>\n",
       "      <td>Delhi</td>\n",
       "      <td>India</td>\n",
       "      <td>Michael Slater</td>\n",
       "      <td>Australia</td>\n",
       "      <td>44</td>\n",
       "      <td>Anil Kumble</td>\n",
       "      <td>4.0</td>\n",
       "      <td>182/10</td>\n",
       "      <td>India</td>\n",
       "      <td>7w</td>\n",
       "      <td>Nayan Mongia</td>\n",
       "      <td>Sachin Tendulkar</td>\n",
       "      <td>Mark Taylor</td>\n",
       "      <td>Nayan Mongia</td>\n",
       "      <td>India</td>\n",
       "    </tr>\n",
       "    <tr>\n",
       "      <th>1</th>\n",
       "      <td>1996-97</td>\n",
       "      <td>1</td>\n",
       "      <td>2</td>\n",
       "      <td>Delhi</td>\n",
       "      <td>India</td>\n",
       "      <td>Nayan Mongia</td>\n",
       "      <td>India</td>\n",
       "      <td>152</td>\n",
       "      <td>Paul Reiffel</td>\n",
       "      <td>3.0</td>\n",
       "      <td>361/10</td>\n",
       "      <td>India</td>\n",
       "      <td>7w</td>\n",
       "      <td>Nayan Mongia</td>\n",
       "      <td>Sachin Tendulkar</td>\n",
       "      <td>Mark Taylor</td>\n",
       "      <td>Nayan Mongia</td>\n",
       "      <td>India</td>\n",
       "    </tr>\n",
       "    <tr>\n",
       "      <th>2</th>\n",
       "      <td>1996-97</td>\n",
       "      <td>1</td>\n",
       "      <td>3</td>\n",
       "      <td>Delhi</td>\n",
       "      <td>India</td>\n",
       "      <td>Steve Waugh</td>\n",
       "      <td>Australia</td>\n",
       "      <td>67</td>\n",
       "      <td>Anil Kumble</td>\n",
       "      <td>5.0</td>\n",
       "      <td>234/10</td>\n",
       "      <td>India</td>\n",
       "      <td>7w</td>\n",
       "      <td>Nayan Mongia</td>\n",
       "      <td>Sachin Tendulkar</td>\n",
       "      <td>Mark Taylor</td>\n",
       "      <td>Nayan Mongia</td>\n",
       "      <td>India</td>\n",
       "    </tr>\n",
       "    <tr>\n",
       "      <th>3</th>\n",
       "      <td>1996-97</td>\n",
       "      <td>1</td>\n",
       "      <td>4</td>\n",
       "      <td>Delhi</td>\n",
       "      <td>India</td>\n",
       "      <td>Mohd. Azharuddin</td>\n",
       "      <td>India</td>\n",
       "      <td>21</td>\n",
       "      <td>Paul Reiffel</td>\n",
       "      <td>2.0</td>\n",
       "      <td>56/3</td>\n",
       "      <td>India</td>\n",
       "      <td>7w</td>\n",
       "      <td>Nayan Mongia</td>\n",
       "      <td>Sachin Tendulkar</td>\n",
       "      <td>Mark Taylor</td>\n",
       "      <td>Nayan Mongia</td>\n",
       "      <td>India</td>\n",
       "    </tr>\n",
       "    <tr>\n",
       "      <th>4</th>\n",
       "      <td>1997-98</td>\n",
       "      <td>1</td>\n",
       "      <td>1</td>\n",
       "      <td>Chennai</td>\n",
       "      <td>India</td>\n",
       "      <td>Navjot Sidhu</td>\n",
       "      <td>India</td>\n",
       "      <td>62</td>\n",
       "      <td>Shane Warne</td>\n",
       "      <td>4.0</td>\n",
       "      <td>257/10</td>\n",
       "      <td>India</td>\n",
       "      <td>179r</td>\n",
       "      <td>Sachin Tendulkar</td>\n",
       "      <td>Mohd. Azharuddin</td>\n",
       "      <td>Mark Taylor</td>\n",
       "      <td>Sachin Tendulkar</td>\n",
       "      <td>India</td>\n",
       "    </tr>\n",
       "    <tr>\n",
       "      <th>...</th>\n",
       "      <td>...</td>\n",
       "      <td>...</td>\n",
       "      <td>...</td>\n",
       "      <td>...</td>\n",
       "      <td>...</td>\n",
       "      <td>...</td>\n",
       "      <td>...</td>\n",
       "      <td>...</td>\n",
       "      <td>...</td>\n",
       "      <td>...</td>\n",
       "      <td>...</td>\n",
       "      <td>...</td>\n",
       "      <td>...</td>\n",
       "      <td>...</td>\n",
       "      <td>...</td>\n",
       "      <td>...</td>\n",
       "      <td>...</td>\n",
       "      <td>...</td>\n",
       "    </tr>\n",
       "    <tr>\n",
       "      <th>195</th>\n",
       "      <td>2020-21</td>\n",
       "      <td>3</td>\n",
       "      <td>4</td>\n",
       "      <td>Sydney</td>\n",
       "      <td>Australia</td>\n",
       "      <td>Rishabh Pant</td>\n",
       "      <td>India</td>\n",
       "      <td>97</td>\n",
       "      <td>Josh Hazlewood</td>\n",
       "      <td>2.0</td>\n",
       "      <td>334/5</td>\n",
       "      <td>Drawn</td>\n",
       "      <td>0</td>\n",
       "      <td>Steve Smith</td>\n",
       "      <td>Ajinkya Rahane</td>\n",
       "      <td>Tim Paine</td>\n",
       "      <td>Pat Cummins</td>\n",
       "      <td>India</td>\n",
       "    </tr>\n",
       "    <tr>\n",
       "      <th>196</th>\n",
       "      <td>2020-21</td>\n",
       "      <td>4</td>\n",
       "      <td>1</td>\n",
       "      <td>Brisbane</td>\n",
       "      <td>Australia</td>\n",
       "      <td>Marnus Labuschagne</td>\n",
       "      <td>Australia</td>\n",
       "      <td>108</td>\n",
       "      <td>T Natarajan</td>\n",
       "      <td>3.0</td>\n",
       "      <td>369/10</td>\n",
       "      <td>India</td>\n",
       "      <td>3w</td>\n",
       "      <td>Rishabh Pant</td>\n",
       "      <td>Ajinkya Rahane</td>\n",
       "      <td>Tim Paine</td>\n",
       "      <td>Pat Cummins</td>\n",
       "      <td>India</td>\n",
       "    </tr>\n",
       "    <tr>\n",
       "      <th>197</th>\n",
       "      <td>2020-21</td>\n",
       "      <td>4</td>\n",
       "      <td>2</td>\n",
       "      <td>Brisbane</td>\n",
       "      <td>Australia</td>\n",
       "      <td>Shardul Thakur</td>\n",
       "      <td>India</td>\n",
       "      <td>67</td>\n",
       "      <td>Josh Hazlewood</td>\n",
       "      <td>5.0</td>\n",
       "      <td>336/10</td>\n",
       "      <td>India</td>\n",
       "      <td>3w</td>\n",
       "      <td>Rishabh Pant</td>\n",
       "      <td>Ajinkya Rahane</td>\n",
       "      <td>Tim Paine</td>\n",
       "      <td>Pat Cummins</td>\n",
       "      <td>India</td>\n",
       "    </tr>\n",
       "    <tr>\n",
       "      <th>198</th>\n",
       "      <td>2020-21</td>\n",
       "      <td>4</td>\n",
       "      <td>3</td>\n",
       "      <td>Brisbane</td>\n",
       "      <td>Australia</td>\n",
       "      <td>Steve Smith</td>\n",
       "      <td>Australia</td>\n",
       "      <td>55</td>\n",
       "      <td>Mohd. Siraj</td>\n",
       "      <td>5.0</td>\n",
       "      <td>294/10</td>\n",
       "      <td>India</td>\n",
       "      <td>3w</td>\n",
       "      <td>Rishabh Pant</td>\n",
       "      <td>Ajinkya Rahane</td>\n",
       "      <td>Tim Paine</td>\n",
       "      <td>Pat Cummins</td>\n",
       "      <td>India</td>\n",
       "    </tr>\n",
       "    <tr>\n",
       "      <th>199</th>\n",
       "      <td>2020-21</td>\n",
       "      <td>4</td>\n",
       "      <td>4</td>\n",
       "      <td>Brisbane</td>\n",
       "      <td>Australia</td>\n",
       "      <td>Shubman Gill</td>\n",
       "      <td>India</td>\n",
       "      <td>91</td>\n",
       "      <td>Pat Cummins</td>\n",
       "      <td>4.0</td>\n",
       "      <td>329/7</td>\n",
       "      <td>India</td>\n",
       "      <td>3w</td>\n",
       "      <td>Rishabh Pant</td>\n",
       "      <td>Ajinkya Rahane</td>\n",
       "      <td>Tim Paine</td>\n",
       "      <td>Pat Cummins</td>\n",
       "      <td>India</td>\n",
       "    </tr>\n",
       "  </tbody>\n",
       "</table>\n",
       "<p>200 rows × 18 columns</p>\n",
       "</div>"
      ],
      "text/plain": [
       "    Test Series Year  Test Number  Innings     Venue       Host  \\\n",
       "0            1996-97            1        1     Delhi      India   \n",
       "1            1996-97            1        2     Delhi      India   \n",
       "2            1996-97            1        3     Delhi      India   \n",
       "3            1996-97            1        4     Delhi      India   \n",
       "4            1997-98            1        1   Chennai      India   \n",
       "..               ...          ...      ...       ...        ...   \n",
       "195          2020-21            3        4    Sydney  Australia   \n",
       "196          2020-21            4        1  Brisbane  Australia   \n",
       "197          2020-21            4        2  Brisbane  Australia   \n",
       "198          2020-21            4        3  Brisbane  Australia   \n",
       "199          2020-21            4        4  Brisbane  Australia   \n",
       "\n",
       "         Highest Scorer       Team  Runs by highest scorer     best bowler  \\\n",
       "0        Michael Slater  Australia                      44     Anil Kumble   \n",
       "1          Nayan Mongia      India                     152    Paul Reiffel   \n",
       "2           Steve Waugh  Australia                      67     Anil Kumble   \n",
       "3      Mohd. Azharuddin      India                      21    Paul Reiffel   \n",
       "4          Navjot Sidhu      India                      62     Shane Warne   \n",
       "..                  ...        ...                     ...             ...   \n",
       "195        Rishabh Pant      India                      97  Josh Hazlewood   \n",
       "196  Marnus Labuschagne  Australia                     108     T Natarajan   \n",
       "197      Shardul Thakur      India                      67  Josh Hazlewood   \n",
       "198         Steve Smith  Australia                      55     Mohd. Siraj   \n",
       "199        Shubman Gill      India                      91     Pat Cummins   \n",
       "\n",
       "     wickets by best bowler team total Winner Win Margin              MOTM  \\\n",
       "0                       4.0     182/10  India         7w      Nayan Mongia   \n",
       "1                       3.0     361/10  India         7w      Nayan Mongia   \n",
       "2                       5.0     234/10  India         7w      Nayan Mongia   \n",
       "3                       2.0       56/3  India         7w      Nayan Mongia   \n",
       "4                       4.0     257/10  India       179r  Sachin Tendulkar   \n",
       "..                      ...        ...    ...        ...               ...   \n",
       "195                     2.0      334/5  Drawn          0       Steve Smith   \n",
       "196                     3.0     369/10  India         3w      Rishabh Pant   \n",
       "197                     5.0     336/10  India         3w      Rishabh Pant   \n",
       "198                     5.0     294/10  India         3w      Rishabh Pant   \n",
       "199                     4.0      329/7  India         3w      Rishabh Pant   \n",
       "\n",
       "          Ind captain  Aus captain              MOTS Series Win  \n",
       "0    Sachin Tendulkar  Mark Taylor      Nayan Mongia      India  \n",
       "1    Sachin Tendulkar  Mark Taylor      Nayan Mongia      India  \n",
       "2    Sachin Tendulkar  Mark Taylor      Nayan Mongia      India  \n",
       "3    Sachin Tendulkar  Mark Taylor      Nayan Mongia      India  \n",
       "4    Mohd. Azharuddin  Mark Taylor  Sachin Tendulkar      India  \n",
       "..                ...          ...               ...        ...  \n",
       "195    Ajinkya Rahane    Tim Paine       Pat Cummins      India  \n",
       "196    Ajinkya Rahane    Tim Paine       Pat Cummins      India  \n",
       "197    Ajinkya Rahane    Tim Paine       Pat Cummins      India  \n",
       "198    Ajinkya Rahane    Tim Paine       Pat Cummins      India  \n",
       "199    Ajinkya Rahane    Tim Paine       Pat Cummins      India  \n",
       "\n",
       "[200 rows x 18 columns]"
      ]
     },
     "execution_count": 2,
     "metadata": {},
     "output_type": "execute_result"
    }
   ],
   "source": [
    "df = pd.read_csv('BGTresults.csv')\n",
    "df"
   ]
  },
  {
   "cell_type": "code",
   "execution_count": 3,
   "metadata": {},
   "outputs": [
    {
     "name": "stdout",
     "output_type": "stream",
     "text": [
      "<class 'pandas.core.frame.DataFrame'>\n",
      "RangeIndex: 200 entries, 0 to 199\n",
      "Data columns (total 18 columns):\n",
      " #   Column                  Non-Null Count  Dtype  \n",
      "---  ------                  --------------  -----  \n",
      " 0   Test Series Year        200 non-null    object \n",
      " 1   Test Number             200 non-null    int64  \n",
      " 2   Innings                 200 non-null    int64  \n",
      " 3   Venue                   200 non-null    object \n",
      " 4   Host                    200 non-null    object \n",
      " 5   Highest Scorer          200 non-null    object \n",
      " 6   Team                    200 non-null    object \n",
      " 7   Runs by highest scorer  200 non-null    int64  \n",
      " 8   best bowler             200 non-null    object \n",
      " 9   wickets by best bowler  199 non-null    float64\n",
      " 10  team total              200 non-null    object \n",
      " 11  Winner                  200 non-null    object \n",
      " 12  Win Margin              200 non-null    object \n",
      " 13  MOTM                    200 non-null    object \n",
      " 14  Ind captain             200 non-null    object \n",
      " 15  Aus captain             200 non-null    object \n",
      " 16  MOTS                    200 non-null    object \n",
      " 17  Series Win              200 non-null    object \n",
      "dtypes: float64(1), int64(3), object(14)\n",
      "memory usage: 28.2+ KB\n"
     ]
    }
   ],
   "source": [
    "df.info()"
   ]
  },
  {
   "cell_type": "code",
   "execution_count": 4,
   "metadata": {},
   "outputs": [
    {
     "data": {
      "text/plain": [
       "Test Series Year          0\n",
       "Test Number               0\n",
       "Innings                   0\n",
       "Venue                     0\n",
       "Host                      0\n",
       "Highest Scorer            0\n",
       "Team                      0\n",
       "Runs by highest scorer    0\n",
       "best bowler               0\n",
       "wickets by best bowler    1\n",
       "team total                0\n",
       "Winner                    0\n",
       "Win Margin                0\n",
       "MOTM                      0\n",
       "Ind captain               0\n",
       "Aus captain               0\n",
       "MOTS                      0\n",
       "Series Win                0\n",
       "dtype: int64"
      ]
     },
     "execution_count": 4,
     "metadata": {},
     "output_type": "execute_result"
    }
   ],
   "source": [
    "df.isnull().sum()"
   ]
  },
  {
   "cell_type": "code",
   "execution_count": 5,
   "metadata": {},
   "outputs": [
    {
     "data": {
      "text/html": [
       "<div>\n",
       "<style scoped>\n",
       "    .dataframe tbody tr th:only-of-type {\n",
       "        vertical-align: middle;\n",
       "    }\n",
       "\n",
       "    .dataframe tbody tr th {\n",
       "        vertical-align: top;\n",
       "    }\n",
       "\n",
       "    .dataframe thead th {\n",
       "        text-align: right;\n",
       "    }\n",
       "</style>\n",
       "<table border=\"1\" class=\"dataframe\">\n",
       "  <thead>\n",
       "    <tr style=\"text-align: right;\">\n",
       "      <th></th>\n",
       "      <th>Test Number</th>\n",
       "      <th>Innings</th>\n",
       "      <th>Runs by highest scorer</th>\n",
       "      <th>wickets by best bowler</th>\n",
       "    </tr>\n",
       "  </thead>\n",
       "  <tbody>\n",
       "    <tr>\n",
       "      <th>count</th>\n",
       "      <td>200.000000</td>\n",
       "      <td>200.000000</td>\n",
       "      <td>200.000000</td>\n",
       "      <td>199.000000</td>\n",
       "    </tr>\n",
       "    <tr>\n",
       "      <th>mean</th>\n",
       "      <td>2.325000</td>\n",
       "      <td>2.440000</td>\n",
       "      <td>95.695000</td>\n",
       "      <td>3.874372</td>\n",
       "    </tr>\n",
       "    <tr>\n",
       "      <th>std</th>\n",
       "      <td>1.097908</td>\n",
       "      <td>1.101119</td>\n",
       "      <td>56.528393</td>\n",
       "      <td>1.604695</td>\n",
       "    </tr>\n",
       "    <tr>\n",
       "      <th>min</th>\n",
       "      <td>1.000000</td>\n",
       "      <td>1.000000</td>\n",
       "      <td>4.000000</td>\n",
       "      <td>0.000000</td>\n",
       "    </tr>\n",
       "    <tr>\n",
       "      <th>25%</th>\n",
       "      <td>1.000000</td>\n",
       "      <td>1.000000</td>\n",
       "      <td>56.750000</td>\n",
       "      <td>3.000000</td>\n",
       "    </tr>\n",
       "    <tr>\n",
       "      <th>50%</th>\n",
       "      <td>2.000000</td>\n",
       "      <td>2.000000</td>\n",
       "      <td>79.500000</td>\n",
       "      <td>4.000000</td>\n",
       "    </tr>\n",
       "    <tr>\n",
       "      <th>75%</th>\n",
       "      <td>3.000000</td>\n",
       "      <td>3.000000</td>\n",
       "      <td>123.250000</td>\n",
       "      <td>5.000000</td>\n",
       "    </tr>\n",
       "    <tr>\n",
       "      <th>max</th>\n",
       "      <td>4.000000</td>\n",
       "      <td>4.000000</td>\n",
       "      <td>329.000000</td>\n",
       "      <td>8.000000</td>\n",
       "    </tr>\n",
       "  </tbody>\n",
       "</table>\n",
       "</div>"
      ],
      "text/plain": [
       "       Test Number     Innings  Runs by highest scorer  wickets by best bowler\n",
       "count   200.000000  200.000000              200.000000              199.000000\n",
       "mean      2.325000    2.440000               95.695000                3.874372\n",
       "std       1.097908    1.101119               56.528393                1.604695\n",
       "min       1.000000    1.000000                4.000000                0.000000\n",
       "25%       1.000000    1.000000               56.750000                3.000000\n",
       "50%       2.000000    2.000000               79.500000                4.000000\n",
       "75%       3.000000    3.000000              123.250000                5.000000\n",
       "max       4.000000    4.000000              329.000000                8.000000"
      ]
     },
     "execution_count": 5,
     "metadata": {},
     "output_type": "execute_result"
    }
   ],
   "source": [
    "df.describe()"
   ]
  },
  {
   "cell_type": "code",
   "execution_count": 6,
   "metadata": {},
   "outputs": [
    {
     "data": {
      "text/html": [
       "<div>\n",
       "<style scoped>\n",
       "    .dataframe tbody tr th:only-of-type {\n",
       "        vertical-align: middle;\n",
       "    }\n",
       "\n",
       "    .dataframe tbody tr th {\n",
       "        vertical-align: top;\n",
       "    }\n",
       "\n",
       "    .dataframe thead th {\n",
       "        text-align: right;\n",
       "    }\n",
       "</style>\n",
       "<table border=\"1\" class=\"dataframe\">\n",
       "  <thead>\n",
       "    <tr style=\"text-align: right;\">\n",
       "      <th></th>\n",
       "      <th>Test Series Year</th>\n",
       "      <th>Test Number</th>\n",
       "      <th>Innings</th>\n",
       "      <th>Venue</th>\n",
       "      <th>Host</th>\n",
       "      <th>Highest Scorer</th>\n",
       "      <th>Team</th>\n",
       "      <th>Runs by highest scorer</th>\n",
       "      <th>best bowler</th>\n",
       "      <th>wickets by best bowler</th>\n",
       "      <th>team total</th>\n",
       "      <th>Winner</th>\n",
       "      <th>Win Margin</th>\n",
       "      <th>MOTM</th>\n",
       "      <th>Ind captain</th>\n",
       "      <th>Aus captain</th>\n",
       "      <th>MOTS</th>\n",
       "      <th>Series Win</th>\n",
       "    </tr>\n",
       "  </thead>\n",
       "  <tbody>\n",
       "    <tr>\n",
       "      <th>0</th>\n",
       "      <td>1996-97</td>\n",
       "      <td>1</td>\n",
       "      <td>1</td>\n",
       "      <td>Delhi</td>\n",
       "      <td>India</td>\n",
       "      <td>Michael Slater</td>\n",
       "      <td>Australia</td>\n",
       "      <td>44</td>\n",
       "      <td>Anil Kumble</td>\n",
       "      <td>4.0</td>\n",
       "      <td>182/10</td>\n",
       "      <td>India</td>\n",
       "      <td>7w</td>\n",
       "      <td>Nayan Mongia</td>\n",
       "      <td>Sachin Tendulkar</td>\n",
       "      <td>Mark Taylor</td>\n",
       "      <td>Nayan Mongia</td>\n",
       "      <td>India</td>\n",
       "    </tr>\n",
       "    <tr>\n",
       "      <th>1</th>\n",
       "      <td>1996-97</td>\n",
       "      <td>1</td>\n",
       "      <td>2</td>\n",
       "      <td>Delhi</td>\n",
       "      <td>India</td>\n",
       "      <td>Nayan Mongia</td>\n",
       "      <td>India</td>\n",
       "      <td>152</td>\n",
       "      <td>Paul Reiffel</td>\n",
       "      <td>3.0</td>\n",
       "      <td>361/10</td>\n",
       "      <td>India</td>\n",
       "      <td>7w</td>\n",
       "      <td>Nayan Mongia</td>\n",
       "      <td>Sachin Tendulkar</td>\n",
       "      <td>Mark Taylor</td>\n",
       "      <td>Nayan Mongia</td>\n",
       "      <td>India</td>\n",
       "    </tr>\n",
       "    <tr>\n",
       "      <th>2</th>\n",
       "      <td>1996-97</td>\n",
       "      <td>1</td>\n",
       "      <td>3</td>\n",
       "      <td>Delhi</td>\n",
       "      <td>India</td>\n",
       "      <td>Steve Waugh</td>\n",
       "      <td>Australia</td>\n",
       "      <td>67</td>\n",
       "      <td>Anil Kumble</td>\n",
       "      <td>5.0</td>\n",
       "      <td>234/10</td>\n",
       "      <td>India</td>\n",
       "      <td>7w</td>\n",
       "      <td>Nayan Mongia</td>\n",
       "      <td>Sachin Tendulkar</td>\n",
       "      <td>Mark Taylor</td>\n",
       "      <td>Nayan Mongia</td>\n",
       "      <td>India</td>\n",
       "    </tr>\n",
       "  </tbody>\n",
       "</table>\n",
       "</div>"
      ],
      "text/plain": [
       "  Test Series Year  Test Number  Innings  Venue   Host  Highest Scorer  \\\n",
       "0          1996-97            1        1  Delhi  India  Michael Slater   \n",
       "1          1996-97            1        2  Delhi  India    Nayan Mongia   \n",
       "2          1996-97            1        3  Delhi  India     Steve Waugh   \n",
       "\n",
       "        Team  Runs by highest scorer   best bowler  wickets by best bowler  \\\n",
       "0  Australia                      44   Anil Kumble                     4.0   \n",
       "1      India                     152  Paul Reiffel                     3.0   \n",
       "2  Australia                      67   Anil Kumble                     5.0   \n",
       "\n",
       "  team total Winner Win Margin          MOTM       Ind captain  Aus captain  \\\n",
       "0     182/10  India         7w  Nayan Mongia  Sachin Tendulkar  Mark Taylor   \n",
       "1     361/10  India         7w  Nayan Mongia  Sachin Tendulkar  Mark Taylor   \n",
       "2     234/10  India         7w  Nayan Mongia  Sachin Tendulkar  Mark Taylor   \n",
       "\n",
       "           MOTS Series Win  \n",
       "0  Nayan Mongia      India  \n",
       "1  Nayan Mongia      India  \n",
       "2  Nayan Mongia      India  "
      ]
     },
     "execution_count": 6,
     "metadata": {},
     "output_type": "execute_result"
    }
   ],
   "source": [
    "df.head(3)"
   ]
  },
  {
   "cell_type": "code",
   "execution_count": 7,
   "metadata": {},
   "outputs": [
    {
     "data": {
      "text/html": [
       "<div>\n",
       "<style scoped>\n",
       "    .dataframe tbody tr th:only-of-type {\n",
       "        vertical-align: middle;\n",
       "    }\n",
       "\n",
       "    .dataframe tbody tr th {\n",
       "        vertical-align: top;\n",
       "    }\n",
       "\n",
       "    .dataframe thead th {\n",
       "        text-align: right;\n",
       "    }\n",
       "</style>\n",
       "<table border=\"1\" class=\"dataframe\">\n",
       "  <thead>\n",
       "    <tr style=\"text-align: right;\">\n",
       "      <th></th>\n",
       "      <th>Test Series Year</th>\n",
       "      <th>Test Number</th>\n",
       "      <th>Innings</th>\n",
       "      <th>Venue</th>\n",
       "      <th>Host</th>\n",
       "      <th>Highest Scorer</th>\n",
       "      <th>Team</th>\n",
       "      <th>Runs by highest scorer</th>\n",
       "      <th>best bowler</th>\n",
       "      <th>wickets by best bowler</th>\n",
       "      <th>team total</th>\n",
       "      <th>Winner</th>\n",
       "      <th>Win Margin</th>\n",
       "      <th>MOTM</th>\n",
       "      <th>Ind captain</th>\n",
       "      <th>Aus captain</th>\n",
       "      <th>MOTS</th>\n",
       "      <th>Series Win</th>\n",
       "    </tr>\n",
       "  </thead>\n",
       "  <tbody>\n",
       "    <tr>\n",
       "      <th>198</th>\n",
       "      <td>2020-21</td>\n",
       "      <td>4</td>\n",
       "      <td>3</td>\n",
       "      <td>Brisbane</td>\n",
       "      <td>Australia</td>\n",
       "      <td>Steve Smith</td>\n",
       "      <td>Australia</td>\n",
       "      <td>55</td>\n",
       "      <td>Mohd. Siraj</td>\n",
       "      <td>5.0</td>\n",
       "      <td>294/10</td>\n",
       "      <td>India</td>\n",
       "      <td>3w</td>\n",
       "      <td>Rishabh Pant</td>\n",
       "      <td>Ajinkya Rahane</td>\n",
       "      <td>Tim Paine</td>\n",
       "      <td>Pat Cummins</td>\n",
       "      <td>India</td>\n",
       "    </tr>\n",
       "    <tr>\n",
       "      <th>199</th>\n",
       "      <td>2020-21</td>\n",
       "      <td>4</td>\n",
       "      <td>4</td>\n",
       "      <td>Brisbane</td>\n",
       "      <td>Australia</td>\n",
       "      <td>Shubman Gill</td>\n",
       "      <td>India</td>\n",
       "      <td>91</td>\n",
       "      <td>Pat Cummins</td>\n",
       "      <td>4.0</td>\n",
       "      <td>329/7</td>\n",
       "      <td>India</td>\n",
       "      <td>3w</td>\n",
       "      <td>Rishabh Pant</td>\n",
       "      <td>Ajinkya Rahane</td>\n",
       "      <td>Tim Paine</td>\n",
       "      <td>Pat Cummins</td>\n",
       "      <td>India</td>\n",
       "    </tr>\n",
       "  </tbody>\n",
       "</table>\n",
       "</div>"
      ],
      "text/plain": [
       "    Test Series Year  Test Number  Innings     Venue       Host  \\\n",
       "198          2020-21            4        3  Brisbane  Australia   \n",
       "199          2020-21            4        4  Brisbane  Australia   \n",
       "\n",
       "    Highest Scorer       Team  Runs by highest scorer  best bowler  \\\n",
       "198    Steve Smith  Australia                      55  Mohd. Siraj   \n",
       "199   Shubman Gill      India                      91  Pat Cummins   \n",
       "\n",
       "     wickets by best bowler team total Winner Win Margin          MOTM  \\\n",
       "198                     5.0     294/10  India         3w  Rishabh Pant   \n",
       "199                     4.0      329/7  India         3w  Rishabh Pant   \n",
       "\n",
       "        Ind captain Aus captain         MOTS Series Win  \n",
       "198  Ajinkya Rahane   Tim Paine  Pat Cummins      India  \n",
       "199  Ajinkya Rahane   Tim Paine  Pat Cummins      India  "
      ]
     },
     "execution_count": 7,
     "metadata": {},
     "output_type": "execute_result"
    }
   ],
   "source": [
    "df.tail(2)"
   ]
  },
  {
   "cell_type": "code",
   "execution_count": 8,
   "metadata": {},
   "outputs": [
    {
     "data": {
      "text/plain": [
       "['Test Series Year',\n",
       " 'Test Number',\n",
       " 'Innings',\n",
       " 'Venue',\n",
       " 'Host',\n",
       " 'Highest Scorer',\n",
       " 'Team',\n",
       " 'Runs by highest scorer',\n",
       " 'best bowler',\n",
       " 'wickets by best bowler',\n",
       " 'team total',\n",
       " 'Winner',\n",
       " 'Win Margin',\n",
       " 'MOTM',\n",
       " 'Ind captain',\n",
       " 'Aus captain',\n",
       " 'MOTS',\n",
       " 'Series Win']"
      ]
     },
     "execution_count": 8,
     "metadata": {},
     "output_type": "execute_result"
    }
   ],
   "source": [
    "df.columns.tolist()"
   ]
  },
  {
   "cell_type": "code",
   "execution_count": 9,
   "metadata": {},
   "outputs": [
    {
     "data": {
      "text/html": [
       "<div>\n",
       "<style scoped>\n",
       "    .dataframe tbody tr th:only-of-type {\n",
       "        vertical-align: middle;\n",
       "    }\n",
       "\n",
       "    .dataframe tbody tr th {\n",
       "        vertical-align: top;\n",
       "    }\n",
       "\n",
       "    .dataframe thead th {\n",
       "        text-align: right;\n",
       "    }\n",
       "</style>\n",
       "<table border=\"1\" class=\"dataframe\">\n",
       "  <thead>\n",
       "    <tr style=\"text-align: right;\">\n",
       "      <th></th>\n",
       "      <th>count</th>\n",
       "      <th>sum</th>\n",
       "    </tr>\n",
       "    <tr>\n",
       "      <th>Test Series Year</th>\n",
       "      <th></th>\n",
       "      <th></th>\n",
       "    </tr>\n",
       "  </thead>\n",
       "  <tbody>\n",
       "    <tr>\n",
       "      <th>1996-97</th>\n",
       "      <td>4</td>\n",
       "      <td>4</td>\n",
       "    </tr>\n",
       "    <tr>\n",
       "      <th>1997-98</th>\n",
       "      <td>11</td>\n",
       "      <td>22</td>\n",
       "    </tr>\n",
       "    <tr>\n",
       "      <th>1999-00</th>\n",
       "      <td>11</td>\n",
       "      <td>21</td>\n",
       "    </tr>\n",
       "    <tr>\n",
       "      <th>2000-01</th>\n",
       "      <td>12</td>\n",
       "      <td>24</td>\n",
       "    </tr>\n",
       "    <tr>\n",
       "      <th>2003-04</th>\n",
       "      <td>16</td>\n",
       "      <td>40</td>\n",
       "    </tr>\n",
       "    <tr>\n",
       "      <th>2004-05</th>\n",
       "      <td>16</td>\n",
       "      <td>40</td>\n",
       "    </tr>\n",
       "    <tr>\n",
       "      <th>2007-08</th>\n",
       "      <td>15</td>\n",
       "      <td>36</td>\n",
       "    </tr>\n",
       "    <tr>\n",
       "      <th>2008-09</th>\n",
       "      <td>16</td>\n",
       "      <td>40</td>\n",
       "    </tr>\n",
       "    <tr>\n",
       "      <th>2010-11</th>\n",
       "      <td>8</td>\n",
       "      <td>12</td>\n",
       "    </tr>\n",
       "    <tr>\n",
       "      <th>2011-12</th>\n",
       "      <td>14</td>\n",
       "      <td>35</td>\n",
       "    </tr>\n",
       "    <tr>\n",
       "      <th>2012-13</th>\n",
       "      <td>15</td>\n",
       "      <td>38</td>\n",
       "    </tr>\n",
       "    <tr>\n",
       "      <th>2014-15</th>\n",
       "      <td>16</td>\n",
       "      <td>40</td>\n",
       "    </tr>\n",
       "    <tr>\n",
       "      <th>2016-17</th>\n",
       "      <td>15</td>\n",
       "      <td>37</td>\n",
       "    </tr>\n",
       "    <tr>\n",
       "      <th>2018-19</th>\n",
       "      <td>15</td>\n",
       "      <td>36</td>\n",
       "    </tr>\n",
       "    <tr>\n",
       "      <th>2020-21</th>\n",
       "      <td>16</td>\n",
       "      <td>40</td>\n",
       "    </tr>\n",
       "  </tbody>\n",
       "</table>\n",
       "</div>"
      ],
      "text/plain": [
       "                  count  sum\n",
       "Test Series Year            \n",
       "1996-97               4    4\n",
       "1997-98              11   22\n",
       "1999-00              11   21\n",
       "2000-01              12   24\n",
       "2003-04              16   40\n",
       "2004-05              16   40\n",
       "2007-08              15   36\n",
       "2008-09              16   40\n",
       "2010-11               8   12\n",
       "2011-12              14   35\n",
       "2012-13              15   38\n",
       "2014-15              16   40\n",
       "2016-17              15   37\n",
       "2018-19              15   36\n",
       "2020-21              16   40"
      ]
     },
     "execution_count": 9,
     "metadata": {},
     "output_type": "execute_result"
    }
   ],
   "source": [
    "df.groupby('Test Series Year')['Test Number'].agg(['count','sum'])"
   ]
  },
  {
   "cell_type": "code",
   "execution_count": 10,
   "metadata": {},
   "outputs": [
    {
     "data": {
      "text/plain": [
       "<AxesSubplot: xlabel='Test Series Year'>"
      ]
     },
     "execution_count": 10,
     "metadata": {},
     "output_type": "execute_result"
    },
    {
     "data": {
      "image/png": "[encoded data removed]",
      "text/plain": [
       "<Figure size 640x480 with 1 Axes>"
      ]
     },
     "metadata": {},
     "output_type": "display_data"
    }
   ],
   "source": [
    "df.groupby('Test Series Year')['Test Number'].agg(['count','sum']).plot(kind='bar')"
   ]
  },
  {
   "cell_type": "code",
   "execution_count": 11,
   "metadata": {},
   "outputs": [
    {
     "data": {
      "text/plain": [
       "Test Number\n",
       "1    60\n",
       "2    53\n",
       "3    49\n",
       "4    38\n",
       "Name: Test Series Year, dtype: int64"
      ]
     },
     "execution_count": 11,
     "metadata": {},
     "output_type": "execute_result"
    }
   ],
   "source": [
    "df.groupby('Test Number')['Test Series Year'].count()"
   ]
  },
  {
   "cell_type": "code",
   "execution_count": 12,
   "metadata": {},
   "outputs": [
    {
     "data": {
      "text/plain": [
       "200"
      ]
     },
     "execution_count": 12,
     "metadata": {},
     "output_type": "execute_result"
    }
   ],
   "source": [
    "df['Test Number'].count()"
   ]
  },
  {
   "cell_type": "code",
   "execution_count": 13,
   "metadata": {},
   "outputs": [
    {
     "data": {
      "text/html": [
       "<div>\n",
       "<style scoped>\n",
       "    .dataframe tbody tr th:only-of-type {\n",
       "        vertical-align: middle;\n",
       "    }\n",
       "\n",
       "    .dataframe tbody tr th {\n",
       "        vertical-align: top;\n",
       "    }\n",
       "\n",
       "    .dataframe thead th {\n",
       "        text-align: right;\n",
       "    }\n",
       "</style>\n",
       "<table border=\"1\" class=\"dataframe\">\n",
       "  <thead>\n",
       "    <tr style=\"text-align: right;\">\n",
       "      <th></th>\n",
       "      <th>Test Series Year</th>\n",
       "      <th>Test Number</th>\n",
       "      <th>Innings</th>\n",
       "      <th>Venue</th>\n",
       "      <th>Host</th>\n",
       "      <th>Highest Scorer</th>\n",
       "      <th>Team</th>\n",
       "      <th>Runs by highest scorer</th>\n",
       "      <th>best bowler</th>\n",
       "      <th>wickets by best bowler</th>\n",
       "      <th>team total</th>\n",
       "      <th>Winner</th>\n",
       "      <th>Win Margin</th>\n",
       "      <th>MOTM</th>\n",
       "      <th>Ind captain</th>\n",
       "      <th>Aus captain</th>\n",
       "      <th>MOTS</th>\n",
       "      <th>Series Win</th>\n",
       "    </tr>\n",
       "  </thead>\n",
       "  <tbody>\n",
       "    <tr>\n",
       "      <th>0</th>\n",
       "      <td>1996-97</td>\n",
       "      <td>1</td>\n",
       "      <td>1</td>\n",
       "      <td>Delhi</td>\n",
       "      <td>India</td>\n",
       "      <td>Michael Slater</td>\n",
       "      <td>Australia</td>\n",
       "      <td>44</td>\n",
       "      <td>Anil Kumble</td>\n",
       "      <td>4.0</td>\n",
       "      <td>182/10</td>\n",
       "      <td>India</td>\n",
       "      <td>7w</td>\n",
       "      <td>Nayan Mongia</td>\n",
       "      <td>Sachin Tendulkar</td>\n",
       "      <td>Mark Taylor</td>\n",
       "      <td>Nayan Mongia</td>\n",
       "      <td>India</td>\n",
       "    </tr>\n",
       "    <tr>\n",
       "      <th>1</th>\n",
       "      <td>1996-97</td>\n",
       "      <td>1</td>\n",
       "      <td>2</td>\n",
       "      <td>Delhi</td>\n",
       "      <td>India</td>\n",
       "      <td>Nayan Mongia</td>\n",
       "      <td>India</td>\n",
       "      <td>152</td>\n",
       "      <td>Paul Reiffel</td>\n",
       "      <td>3.0</td>\n",
       "      <td>361/10</td>\n",
       "      <td>India</td>\n",
       "      <td>7w</td>\n",
       "      <td>Nayan Mongia</td>\n",
       "      <td>Sachin Tendulkar</td>\n",
       "      <td>Mark Taylor</td>\n",
       "      <td>Nayan Mongia</td>\n",
       "      <td>India</td>\n",
       "    </tr>\n",
       "    <tr>\n",
       "      <th>2</th>\n",
       "      <td>1996-97</td>\n",
       "      <td>1</td>\n",
       "      <td>3</td>\n",
       "      <td>Delhi</td>\n",
       "      <td>India</td>\n",
       "      <td>Steve Waugh</td>\n",
       "      <td>Australia</td>\n",
       "      <td>67</td>\n",
       "      <td>Anil Kumble</td>\n",
       "      <td>5.0</td>\n",
       "      <td>234/10</td>\n",
       "      <td>India</td>\n",
       "      <td>7w</td>\n",
       "      <td>Nayan Mongia</td>\n",
       "      <td>Sachin Tendulkar</td>\n",
       "      <td>Mark Taylor</td>\n",
       "      <td>Nayan Mongia</td>\n",
       "      <td>India</td>\n",
       "    </tr>\n",
       "    <tr>\n",
       "      <th>3</th>\n",
       "      <td>1996-97</td>\n",
       "      <td>1</td>\n",
       "      <td>4</td>\n",
       "      <td>Delhi</td>\n",
       "      <td>India</td>\n",
       "      <td>Mohd. Azharuddin</td>\n",
       "      <td>India</td>\n",
       "      <td>21</td>\n",
       "      <td>Paul Reiffel</td>\n",
       "      <td>2.0</td>\n",
       "      <td>56/3</td>\n",
       "      <td>India</td>\n",
       "      <td>7w</td>\n",
       "      <td>Nayan Mongia</td>\n",
       "      <td>Sachin Tendulkar</td>\n",
       "      <td>Mark Taylor</td>\n",
       "      <td>Nayan Mongia</td>\n",
       "      <td>India</td>\n",
       "    </tr>\n",
       "    <tr>\n",
       "      <th>4</th>\n",
       "      <td>1997-98</td>\n",
       "      <td>1</td>\n",
       "      <td>1</td>\n",
       "      <td>Chennai</td>\n",
       "      <td>India</td>\n",
       "      <td>Navjot Sidhu</td>\n",
       "      <td>India</td>\n",
       "      <td>62</td>\n",
       "      <td>Shane Warne</td>\n",
       "      <td>4.0</td>\n",
       "      <td>257/10</td>\n",
       "      <td>India</td>\n",
       "      <td>179r</td>\n",
       "      <td>Sachin Tendulkar</td>\n",
       "      <td>Mohd. Azharuddin</td>\n",
       "      <td>Mark Taylor</td>\n",
       "      <td>Sachin Tendulkar</td>\n",
       "      <td>India</td>\n",
       "    </tr>\n",
       "    <tr>\n",
       "      <th>...</th>\n",
       "      <td>...</td>\n",
       "      <td>...</td>\n",
       "      <td>...</td>\n",
       "      <td>...</td>\n",
       "      <td>...</td>\n",
       "      <td>...</td>\n",
       "      <td>...</td>\n",
       "      <td>...</td>\n",
       "      <td>...</td>\n",
       "      <td>...</td>\n",
       "      <td>...</td>\n",
       "      <td>...</td>\n",
       "      <td>...</td>\n",
       "      <td>...</td>\n",
       "      <td>...</td>\n",
       "      <td>...</td>\n",
       "      <td>...</td>\n",
       "      <td>...</td>\n",
       "    </tr>\n",
       "    <tr>\n",
       "      <th>195</th>\n",
       "      <td>2020-21</td>\n",
       "      <td>3</td>\n",
       "      <td>4</td>\n",
       "      <td>Sydney</td>\n",
       "      <td>Australia</td>\n",
       "      <td>Rishabh Pant</td>\n",
       "      <td>India</td>\n",
       "      <td>97</td>\n",
       "      <td>Josh Hazlewood</td>\n",
       "      <td>2.0</td>\n",
       "      <td>334/5</td>\n",
       "      <td>Drawn</td>\n",
       "      <td>0</td>\n",
       "      <td>Steve Smith</td>\n",
       "      <td>Ajinkya Rahane</td>\n",
       "      <td>Tim Paine</td>\n",
       "      <td>Pat Cummins</td>\n",
       "      <td>India</td>\n",
       "    </tr>\n",
       "    <tr>\n",
       "      <th>196</th>\n",
       "      <td>2020-21</td>\n",
       "      <td>4</td>\n",
       "      <td>1</td>\n",
       "      <td>Brisbane</td>\n",
       "      <td>Australia</td>\n",
       "      <td>Marnus Labuschagne</td>\n",
       "      <td>Australia</td>\n",
       "      <td>108</td>\n",
       "      <td>T Natarajan</td>\n",
       "      <td>3.0</td>\n",
       "      <td>369/10</td>\n",
       "      <td>India</td>\n",
       "      <td>3w</td>\n",
       "      <td>Rishabh Pant</td>\n",
       "      <td>Ajinkya Rahane</td>\n",
       "      <td>Tim Paine</td>\n",
       "      <td>Pat Cummins</td>\n",
       "      <td>India</td>\n",
       "    </tr>\n",
       "    <tr>\n",
       "      <th>197</th>\n",
       "      <td>2020-21</td>\n",
       "      <td>4</td>\n",
       "      <td>2</td>\n",
       "      <td>Brisbane</td>\n",
       "      <td>Australia</td>\n",
       "      <td>Shardul Thakur</td>\n",
       "      <td>India</td>\n",
       "      <td>67</td>\n",
       "      <td>Josh Hazlewood</td>\n",
       "      <td>5.0</td>\n",
       "      <td>336/10</td>\n",
       "      <td>India</td>\n",
       "      <td>3w</td>\n",
       "      <td>Rishabh Pant</td>\n",
       "      <td>Ajinkya Rahane</td>\n",
       "      <td>Tim Paine</td>\n",
       "      <td>Pat Cummins</td>\n",
       "      <td>India</td>\n",
       "    </tr>\n",
       "    <tr>\n",
       "      <th>198</th>\n",
       "      <td>2020-21</td>\n",
       "      <td>4</td>\n",
       "      <td>3</td>\n",
       "      <td>Brisbane</td>\n",
       "      <td>Australia</td>\n",
       "      <td>Steve Smith</td>\n",
       "      <td>Australia</td>\n",
       "      <td>55</td>\n",
       "      <td>Mohd. Siraj</td>\n",
       "      <td>5.0</td>\n",
       "      <td>294/10</td>\n",
       "      <td>India</td>\n",
       "      <td>3w</td>\n",
       "      <td>Rishabh Pant</td>\n",
       "      <td>Ajinkya Rahane</td>\n",
       "      <td>Tim Paine</td>\n",
       "      <td>Pat Cummins</td>\n",
       "      <td>India</td>\n",
       "    </tr>\n",
       "    <tr>\n",
       "      <th>199</th>\n",
       "      <td>2020-21</td>\n",
       "      <td>4</td>\n",
       "      <td>4</td>\n",
       "      <td>Brisbane</td>\n",
       "      <td>Australia</td>\n",
       "      <td>Shubman Gill</td>\n",
       "      <td>India</td>\n",
       "      <td>91</td>\n",
       "      <td>Pat Cummins</td>\n",
       "      <td>4.0</td>\n",
       "      <td>329/7</td>\n",
       "      <td>India</td>\n",
       "      <td>3w</td>\n",
       "      <td>Rishabh Pant</td>\n",
       "      <td>Ajinkya Rahane</td>\n",
       "      <td>Tim Paine</td>\n",
       "      <td>Pat Cummins</td>\n",
       "      <td>India</td>\n",
       "    </tr>\n",
       "  </tbody>\n",
       "</table>\n",
       "<p>200 rows × 18 columns</p>\n",
       "</div>"
      ],
      "text/plain": [
       "    Test Series Year  Test Number  Innings     Venue       Host  \\\n",
       "0            1996-97            1        1     Delhi      India   \n",
       "1            1996-97            1        2     Delhi      India   \n",
       "2            1996-97            1        3     Delhi      India   \n",
       "3            1996-97            1        4     Delhi      India   \n",
       "4            1997-98            1        1   Chennai      India   \n",
       "..               ...          ...      ...       ...        ...   \n",
       "195          2020-21            3        4    Sydney  Australia   \n",
       "196          2020-21            4        1  Brisbane  Australia   \n",
       "197          2020-21            4        2  Brisbane  Australia   \n",
       "198          2020-21            4        3  Brisbane  Australia   \n",
       "199          2020-21            4        4  Brisbane  Australia   \n",
       "\n",
       "         Highest Scorer       Team  Runs by highest scorer     best bowler  \\\n",
       "0        Michael Slater  Australia                      44     Anil Kumble   \n",
       "1          Nayan Mongia      India                     152    Paul Reiffel   \n",
       "2           Steve Waugh  Australia                      67     Anil Kumble   \n",
       "3      Mohd. Azharuddin      India                      21    Paul Reiffel   \n",
       "4          Navjot Sidhu      India                      62     Shane Warne   \n",
       "..                  ...        ...                     ...             ...   \n",
       "195        Rishabh Pant      India                      97  Josh Hazlewood   \n",
       "196  Marnus Labuschagne  Australia                     108     T Natarajan   \n",
       "197      Shardul Thakur      India                      67  Josh Hazlewood   \n",
       "198         Steve Smith  Australia                      55     Mohd. Siraj   \n",
       "199        Shubman Gill      India                      91     Pat Cummins   \n",
       "\n",
       "     wickets by best bowler team total Winner Win Margin              MOTM  \\\n",
       "0                       4.0     182/10  India         7w      Nayan Mongia   \n",
       "1                       3.0     361/10  India         7w      Nayan Mongia   \n",
       "2                       5.0     234/10  India         7w      Nayan Mongia   \n",
       "3                       2.0       56/3  India         7w      Nayan Mongia   \n",
       "4                       4.0     257/10  India       179r  Sachin Tendulkar   \n",
       "..                      ...        ...    ...        ...               ...   \n",
       "195                     2.0      334/5  Drawn          0       Steve Smith   \n",
       "196                     3.0     369/10  India         3w      Rishabh Pant   \n",
       "197                     5.0     336/10  India         3w      Rishabh Pant   \n",
       "198                     5.0     294/10  India         3w      Rishabh Pant   \n",
       "199                     4.0      329/7  India         3w      Rishabh Pant   \n",
       "\n",
       "          Ind captain  Aus captain              MOTS Series Win  \n",
       "0    Sachin Tendulkar  Mark Taylor      Nayan Mongia      India  \n",
       "1    Sachin Tendulkar  Mark Taylor      Nayan Mongia      India  \n",
       "2    Sachin Tendulkar  Mark Taylor      Nayan Mongia      India  \n",
       "3    Sachin Tendulkar  Mark Taylor      Nayan Mongia      India  \n",
       "4    Mohd. Azharuddin  Mark Taylor  Sachin Tendulkar      India  \n",
       "..                ...          ...               ...        ...  \n",
       "195    Ajinkya Rahane    Tim Paine       Pat Cummins      India  \n",
       "196    Ajinkya Rahane    Tim Paine       Pat Cummins      India  \n",
       "197    Ajinkya Rahane    Tim Paine       Pat Cummins      India  \n",
       "198    Ajinkya Rahane    Tim Paine       Pat Cummins      India  \n",
       "199    Ajinkya Rahane    Tim Paine       Pat Cummins      India  \n",
       "\n",
       "[200 rows x 18 columns]"
      ]
     },
     "execution_count": 13,
     "metadata": {},
     "output_type": "execute_result"
    }
   ],
   "source": [
    "df"
   ]
  },
  {
   "cell_type": "code",
   "execution_count": 14,
   "metadata": {},
   "outputs": [
    {
     "data": {
      "text/plain": [
       "Venue\n",
       "Adelaide      27\n",
       "Bengaluru     20\n",
       "Brisbane      12\n",
       "Chennai       16\n",
       "Delhi         12\n",
       "Dharamsala     4\n",
       "Hyderabad      3\n",
       "Kolkata        7\n",
       "Melbourne     28\n",
       "Mohali        12\n",
       "Mumbai         8\n",
       "Nagpur         8\n",
       "Perth         11\n",
       "Pune           4\n",
       "Ranchi         3\n",
       "Sydney        25\n",
       "Name: Venue, dtype: int64"
      ]
     },
     "execution_count": 14,
     "metadata": {},
     "output_type": "execute_result"
    }
   ],
   "source": [
    "df.groupby('Venue')['Venue'].count()"
   ]
  },
  {
   "cell_type": "code",
   "execution_count": 15,
   "metadata": {},
   "outputs": [
    {
     "data": {
      "text/plain": [
       "<AxesSubplot: xlabel='Venue'>"
      ]
     },
     "execution_count": 15,
     "metadata": {},
     "output_type": "execute_result"
    },
    {
     "data": {
      "image/png": "[encoded data removed]",
      "text/plain": [
       "<Figure size 640x480 with 1 Axes>"
      ]
     },
     "metadata": {},
     "output_type": "display_data"
    }
   ],
   "source": [
    "df.groupby('Venue')['Venue'].count().plot(kind='bar')"
   ]
  },
  {
   "cell_type": "code",
   "execution_count": 16,
   "metadata": {},
   "outputs": [
    {
     "data": {
      "text/plain": [
       "<AxesSubplot: xlabel='Venue', ylabel='count'>"
      ]
     },
     "execution_count": 16,
     "metadata": {},
     "output_type": "execute_result"
    },
    {
     "data": {
      "image/png": "[encoded data removed]",
      "text/plain": [
       "<Figure size 640x480 with 1 Axes>"
      ]
     },
     "metadata": {},
     "output_type": "display_data"
    }
   ],
   "source": [
    "sns.countplot(x='Venue',data=df)"
   ]
  },
  {
   "cell_type": "code",
   "execution_count": 17,
   "metadata": {},
   "outputs": [
    {
     "data": {
      "text/plain": [
       "<seaborn.axisgrid.JointGrid at 0x1a8da761fd0>"
      ]
     },
     "execution_count": 17,
     "metadata": {},
     "output_type": "execute_result"
    },
    {
     "data": {
      "image/png": "[encoded data removed]",
      "text/plain": [
       "<Figure size 600x600 with 3 Axes>"
      ]
     },
     "metadata": {},
     "output_type": "display_data"
    }
   ],
   "source": [
    "sns.jointplot(x='Test Number',y='Venue',data=df)"
   ]
  },
  {
   "attachments": {},
   "cell_type": "markdown",
   "metadata": {},
   "source": [
    "By the above graph we can conclude that mostly the match were played in melbourne😊"
   ]
  },
  {
   "cell_type": "code",
   "execution_count": 18,
   "metadata": {},
   "outputs": [
    {
     "data": {
      "text/plain": [
       "<seaborn.axisgrid.JointGrid at 0x1a8da843580>"
      ]
     },
     "execution_count": 18,
     "metadata": {},
     "output_type": "execute_result"
    },
    {
     "data": {
      "image/png": "[encoded data removed]",
      "text/plain": [
       "<Figure size 600x600 with 3 Axes>"
      ]
     },
     "metadata": {},
     "output_type": "display_data"
    }
   ],
   "source": [
    "sns.jointplot(x='Test Number',y='Venue',data=df)"
   ]
  },
  {
   "cell_type": "code",
   "execution_count": 19,
   "metadata": {},
   "outputs": [
    {
     "data": {
      "text/plain": [
       "<seaborn.axisgrid.PairGrid at 0x1a8daaedf10>"
      ]
     },
     "execution_count": 19,
     "metadata": {},
     "output_type": "execute_result"
    },
    {
     "data": {
      "image/png": "[encoded data removed]",
      "text/plain": [
       "<Figure size 1000x1000 with 20 Axes>"
      ]
     },
     "metadata": {},
     "output_type": "display_data"
    }
   ],
   "source": [
    "sns.pairplot(data=df)"
   ]
  },
  {
   "cell_type": "code",
   "execution_count": 20,
   "metadata": {},
   "outputs": [
    {
     "data": {
      "text/plain": [
       "<AxesSubplot: xlabel='Test Number', ylabel='Venue'>"
      ]
     },
     "execution_count": 20,
     "metadata": {},
     "output_type": "execute_result"
    },
    {
     "data": {
      "image/png": "[encoded data removed]",
      "text/plain": [
       "<Figure size 640x480 with 1 Axes>"
      ]
     },
     "metadata": {},
     "output_type": "display_data"
    }
   ],
   "source": [
    "sns.violinplot(x='Test Number',y='Venue',data=df)"
   ]
  },
  {
   "cell_type": "code",
   "execution_count": 21,
   "metadata": {},
   "outputs": [
    {
     "data": {
      "text/html": [
       "<div>\n",
       "<style scoped>\n",
       "    .dataframe tbody tr th:only-of-type {\n",
       "        vertical-align: middle;\n",
       "    }\n",
       "\n",
       "    .dataframe tbody tr th {\n",
       "        vertical-align: top;\n",
       "    }\n",
       "\n",
       "    .dataframe thead th {\n",
       "        text-align: right;\n",
       "    }\n",
       "</style>\n",
       "<table border=\"1\" class=\"dataframe\">\n",
       "  <thead>\n",
       "    <tr style=\"text-align: right;\">\n",
       "      <th></th>\n",
       "      <th>Test Series Year</th>\n",
       "      <th>Test Number</th>\n",
       "      <th>Innings</th>\n",
       "      <th>Venue</th>\n",
       "      <th>Host</th>\n",
       "      <th>Highest Scorer</th>\n",
       "      <th>Team</th>\n",
       "      <th>Runs by highest scorer</th>\n",
       "      <th>best bowler</th>\n",
       "      <th>wickets by best bowler</th>\n",
       "      <th>team total</th>\n",
       "      <th>Winner</th>\n",
       "      <th>Win Margin</th>\n",
       "      <th>MOTM</th>\n",
       "      <th>Ind captain</th>\n",
       "      <th>Aus captain</th>\n",
       "      <th>MOTS</th>\n",
       "      <th>Series Win</th>\n",
       "    </tr>\n",
       "  </thead>\n",
       "  <tbody>\n",
       "    <tr>\n",
       "      <th>0</th>\n",
       "      <td>1996-97</td>\n",
       "      <td>1</td>\n",
       "      <td>1</td>\n",
       "      <td>Delhi</td>\n",
       "      <td>India</td>\n",
       "      <td>Michael Slater</td>\n",
       "      <td>Australia</td>\n",
       "      <td>44</td>\n",
       "      <td>Anil Kumble</td>\n",
       "      <td>4.0</td>\n",
       "      <td>182/10</td>\n",
       "      <td>India</td>\n",
       "      <td>7w</td>\n",
       "      <td>Nayan Mongia</td>\n",
       "      <td>Sachin Tendulkar</td>\n",
       "      <td>Mark Taylor</td>\n",
       "      <td>Nayan Mongia</td>\n",
       "      <td>India</td>\n",
       "    </tr>\n",
       "    <tr>\n",
       "      <th>1</th>\n",
       "      <td>1996-97</td>\n",
       "      <td>1</td>\n",
       "      <td>2</td>\n",
       "      <td>Delhi</td>\n",
       "      <td>India</td>\n",
       "      <td>Nayan Mongia</td>\n",
       "      <td>India</td>\n",
       "      <td>152</td>\n",
       "      <td>Paul Reiffel</td>\n",
       "      <td>3.0</td>\n",
       "      <td>361/10</td>\n",
       "      <td>India</td>\n",
       "      <td>7w</td>\n",
       "      <td>Nayan Mongia</td>\n",
       "      <td>Sachin Tendulkar</td>\n",
       "      <td>Mark Taylor</td>\n",
       "      <td>Nayan Mongia</td>\n",
       "      <td>India</td>\n",
       "    </tr>\n",
       "    <tr>\n",
       "      <th>2</th>\n",
       "      <td>1996-97</td>\n",
       "      <td>1</td>\n",
       "      <td>3</td>\n",
       "      <td>Delhi</td>\n",
       "      <td>India</td>\n",
       "      <td>Steve Waugh</td>\n",
       "      <td>Australia</td>\n",
       "      <td>67</td>\n",
       "      <td>Anil Kumble</td>\n",
       "      <td>5.0</td>\n",
       "      <td>234/10</td>\n",
       "      <td>India</td>\n",
       "      <td>7w</td>\n",
       "      <td>Nayan Mongia</td>\n",
       "      <td>Sachin Tendulkar</td>\n",
       "      <td>Mark Taylor</td>\n",
       "      <td>Nayan Mongia</td>\n",
       "      <td>India</td>\n",
       "    </tr>\n",
       "  </tbody>\n",
       "</table>\n",
       "</div>"
      ],
      "text/plain": [
       "  Test Series Year  Test Number  Innings  Venue   Host  Highest Scorer  \\\n",
       "0          1996-97            1        1  Delhi  India  Michael Slater   \n",
       "1          1996-97            1        2  Delhi  India    Nayan Mongia   \n",
       "2          1996-97            1        3  Delhi  India     Steve Waugh   \n",
       "\n",
       "        Team  Runs by highest scorer   best bowler  wickets by best bowler  \\\n",
       "0  Australia                      44   Anil Kumble                     4.0   \n",
       "1      India                     152  Paul Reiffel                     3.0   \n",
       "2  Australia                      67   Anil Kumble                     5.0   \n",
       "\n",
       "  team total Winner Win Margin          MOTM       Ind captain  Aus captain  \\\n",
       "0     182/10  India         7w  Nayan Mongia  Sachin Tendulkar  Mark Taylor   \n",
       "1     361/10  India         7w  Nayan Mongia  Sachin Tendulkar  Mark Taylor   \n",
       "2     234/10  India         7w  Nayan Mongia  Sachin Tendulkar  Mark Taylor   \n",
       "\n",
       "           MOTS Series Win  \n",
       "0  Nayan Mongia      India  \n",
       "1  Nayan Mongia      India  \n",
       "2  Nayan Mongia      India  "
      ]
     },
     "execution_count": 21,
     "metadata": {},
     "output_type": "execute_result"
    }
   ],
   "source": [
    "df.head(3)"
   ]
  },
  {
   "cell_type": "code",
   "execution_count": 22,
   "metadata": {},
   "outputs": [
    {
     "data": {
      "text/plain": [
       "<pandas.core.groupby.generic.SeriesGroupBy object at 0x000001A8DCF70670>"
      ]
     },
     "execution_count": 22,
     "metadata": {},
     "output_type": "execute_result"
    }
   ],
   "source": [
    "df.groupby('Test Series Year')['MOTS']"
   ]
  },
  {
   "cell_type": "code",
   "execution_count": 23,
   "metadata": {},
   "outputs": [
    {
     "data": {
      "text/plain": [
       "{'1996-97',\n",
       " '1997-98',\n",
       " '1999-00',\n",
       " '2000-01',\n",
       " '2003-04',\n",
       " '2004-05',\n",
       " '2007-08',\n",
       " '2008-09',\n",
       " '2010-11',\n",
       " '2011-12',\n",
       " '2012-13',\n",
       " '2014-15',\n",
       " '2016-17',\n",
       " '2018-19',\n",
       " '2020-21'}"
      ]
     },
     "execution_count": 23,
     "metadata": {},
     "output_type": "execute_result"
    }
   ],
   "source": [
    "q = df['Test Series Year'].to_list()\n",
    "e = set(q)\n",
    "e"
   ]
  },
  {
   "cell_type": "code",
   "execution_count": 24,
   "metadata": {},
   "outputs": [
    {
     "name": "stdout",
     "output_type": "stream",
     "text": [
      "{'Ishant Sharma', 'Ravichandran Ashwin', 'Pat Cummins', 'Damien Martyn', 'Harbhajan Singh', 'Steve Smith', 'Cheteshwar Pujara', 'Sachin Tendulkar', 'Nayan Mongia', \"Ravindra Jadeja'\", 'Rahul Dravid', 'Brett Lee', 'Michael Clarke'}\n"
     ]
    }
   ],
   "source": [
    "print(set(df['MOTS']))"
   ]
  },
  {
   "cell_type": "code",
   "execution_count": 25,
   "metadata": {},
   "outputs": [
    {
     "data": {
      "text/plain": [
       "Test Series Year\n",
       "1996-97           Nayan Mongia\n",
       "1997-98       Sachin Tendulkar\n",
       "1999-00       Sachin Tendulkar\n",
       "2000-01        Harbhajan Singh\n",
       "2003-04           Rahul Dravid\n",
       "2004-05          Damien Martyn\n",
       "2007-08              Brett Lee\n",
       "2008-09          Ishant Sharma\n",
       "2010-11       Sachin Tendulkar\n",
       "2011-12         Michael Clarke\n",
       "2012-13    Ravichandran Ashwin\n",
       "2014-15            Steve Smith\n",
       "2016-17       Ravindra Jadeja'\n",
       "2018-19      Cheteshwar Pujara\n",
       "2020-21            Pat Cummins\n",
       "Name: MOTS, dtype: object"
      ]
     },
     "execution_count": 25,
     "metadata": {},
     "output_type": "execute_result"
    }
   ],
   "source": [
    "df.groupby('Test Series Year')['MOTS'].first()"
   ]
  },
  {
   "cell_type": "code",
   "execution_count": 26,
   "metadata": {},
   "outputs": [
    {
     "data": {
      "text/plain": [
       "Test Series Year\n",
       "1996-97           [Nayan Mongia]\n",
       "1997-98       [Sachin Tendulkar]\n",
       "1999-00       [Sachin Tendulkar]\n",
       "2000-01        [Harbhajan Singh]\n",
       "2003-04           [Rahul Dravid]\n",
       "2004-05          [Damien Martyn]\n",
       "2007-08              [Brett Lee]\n",
       "2008-09          [Ishant Sharma]\n",
       "2010-11       [Sachin Tendulkar]\n",
       "2011-12         [Michael Clarke]\n",
       "2012-13    [Ravichandran Ashwin]\n",
       "2014-15            [Steve Smith]\n",
       "2016-17       [Ravindra Jadeja']\n",
       "2018-19      [Cheteshwar Pujara]\n",
       "2020-21            [Pat Cummins]\n",
       "Name: MOTS, dtype: object"
      ]
     },
     "execution_count": 26,
     "metadata": {},
     "output_type": "execute_result"
    }
   ],
   "source": [
    "df.groupby('Test Series Year')['MOTS'].unique()"
   ]
  },
  {
   "cell_type": "code",
   "execution_count": 27,
   "metadata": {},
   "outputs": [
    {
     "data": {
      "text/plain": [
       "Test Series Year  MOTS               \n",
       "1996-97           Nayan Mongia            4\n",
       "1997-98           Sachin Tendulkar       11\n",
       "1999-00           Sachin Tendulkar       11\n",
       "2000-01           Harbhajan Singh        12\n",
       "2003-04           Rahul Dravid           16\n",
       "2004-05           Damien Martyn          16\n",
       "2007-08           Brett Lee              15\n",
       "2008-09           Ishant Sharma          16\n",
       "2010-11           Sachin Tendulkar        8\n",
       "2011-12           Michael Clarke         14\n",
       "2012-13           Ravichandran Ashwin    15\n",
       "2014-15           Steve Smith            16\n",
       "2016-17           Ravindra Jadeja'       15\n",
       "2018-19           Cheteshwar Pujara      15\n",
       "2020-21           Pat Cummins            16\n",
       "Name: MOTS, dtype: int64"
      ]
     },
     "execution_count": 27,
     "metadata": {},
     "output_type": "execute_result"
    }
   ],
   "source": [
    "df.groupby('Test Series Year')['MOTS'].value_counts()"
   ]
  },
  {
   "cell_type": "code",
   "execution_count": 28,
   "metadata": {},
   "outputs": [
    {
     "data": {
      "text/html": [
       "<div>\n",
       "<style scoped>\n",
       "    .dataframe tbody tr th:only-of-type {\n",
       "        vertical-align: middle;\n",
       "    }\n",
       "\n",
       "    .dataframe tbody tr th {\n",
       "        vertical-align: top;\n",
       "    }\n",
       "\n",
       "    .dataframe thead th {\n",
       "        text-align: right;\n",
       "    }\n",
       "</style>\n",
       "<table border=\"1\" class=\"dataframe\">\n",
       "  <thead>\n",
       "    <tr style=\"text-align: right;\">\n",
       "      <th></th>\n",
       "      <th>Test Series Year</th>\n",
       "      <th>Test Number</th>\n",
       "      <th>Innings</th>\n",
       "      <th>Venue</th>\n",
       "      <th>Host</th>\n",
       "      <th>Highest Scorer</th>\n",
       "      <th>Team</th>\n",
       "      <th>Runs by highest scorer</th>\n",
       "      <th>best bowler</th>\n",
       "      <th>wickets by best bowler</th>\n",
       "      <th>team total</th>\n",
       "      <th>Winner</th>\n",
       "      <th>Win Margin</th>\n",
       "      <th>MOTM</th>\n",
       "      <th>Ind captain</th>\n",
       "      <th>Aus captain</th>\n",
       "      <th>MOTS</th>\n",
       "      <th>Series Win</th>\n",
       "    </tr>\n",
       "  </thead>\n",
       "  <tbody>\n",
       "    <tr>\n",
       "      <th>0</th>\n",
       "      <td>1996-97</td>\n",
       "      <td>1</td>\n",
       "      <td>1</td>\n",
       "      <td>Delhi</td>\n",
       "      <td>India</td>\n",
       "      <td>Michael Slater</td>\n",
       "      <td>Australia</td>\n",
       "      <td>44</td>\n",
       "      <td>Anil Kumble</td>\n",
       "      <td>4.0</td>\n",
       "      <td>182/10</td>\n",
       "      <td>India</td>\n",
       "      <td>7w</td>\n",
       "      <td>Nayan Mongia</td>\n",
       "      <td>Sachin Tendulkar</td>\n",
       "      <td>Mark Taylor</td>\n",
       "      <td>Nayan Mongia</td>\n",
       "      <td>India</td>\n",
       "    </tr>\n",
       "  </tbody>\n",
       "</table>\n",
       "</div>"
      ],
      "text/plain": [
       "  Test Series Year  Test Number  Innings  Venue   Host  Highest Scorer  \\\n",
       "0          1996-97            1        1  Delhi  India  Michael Slater   \n",
       "\n",
       "        Team  Runs by highest scorer  best bowler  wickets by best bowler  \\\n",
       "0  Australia                      44  Anil Kumble                     4.0   \n",
       "\n",
       "  team total Winner Win Margin          MOTM       Ind captain  Aus captain  \\\n",
       "0     182/10  India         7w  Nayan Mongia  Sachin Tendulkar  Mark Taylor   \n",
       "\n",
       "           MOTS Series Win  \n",
       "0  Nayan Mongia      India  "
      ]
     },
     "execution_count": 28,
     "metadata": {},
     "output_type": "execute_result"
    }
   ],
   "source": [
    "df.head(1)"
   ]
  },
  {
   "cell_type": "code",
   "execution_count": 29,
   "metadata": {},
   "outputs": [
    {
     "data": {
      "text/plain": [
       "Test Series Year  Innings\n",
       "1996-97           1          1\n",
       "                  2          1\n",
       "                  3          1\n",
       "                  4          1\n",
       "1997-98           1          3\n",
       "                  2          3\n",
       "                  3          3\n",
       "                  4          2\n",
       "1999-00           1          3\n",
       "                  2          3\n",
       "                  3          3\n",
       "                  4          2\n",
       "2000-01           1          3\n",
       "                  2          3\n",
       "                  3          3\n",
       "                  4          3\n",
       "2003-04           1          4\n",
       "                  2          4\n",
       "                  3          4\n",
       "                  4          4\n",
       "2004-05           1          4\n",
       "                  2          4\n",
       "                  3          4\n",
       "                  4          4\n",
       "2007-08           1          4\n",
       "                  2          4\n",
       "                  3          4\n",
       "                  4          3\n",
       "2008-09           1          4\n",
       "                  2          4\n",
       "                  3          4\n",
       "                  4          4\n",
       "2010-11           1          2\n",
       "                  2          2\n",
       "                  3          2\n",
       "                  4          2\n",
       "2011-12           1          4\n",
       "                  2          4\n",
       "                  3          4\n",
       "                  4          2\n",
       "2012-13           1          4\n",
       "                  2          4\n",
       "                  3          4\n",
       "                  4          3\n",
       "2014-15           1          4\n",
       "                  2          4\n",
       "                  3          4\n",
       "                  4          4\n",
       "2016-17           1          4\n",
       "                  2          4\n",
       "                  3          4\n",
       "                  4          3\n",
       "2018-19           1          4\n",
       "                  2          4\n",
       "                  3          4\n",
       "                  4          3\n",
       "2020-21           1          4\n",
       "                  2          4\n",
       "                  3          4\n",
       "                  4          4\n",
       "Name: Innings, dtype: int64"
      ]
     },
     "execution_count": 29,
     "metadata": {},
     "output_type": "execute_result"
    }
   ],
   "source": [
    "df.groupby('Test Series Year')['Innings'].value_counts()"
   ]
  },
  {
   "cell_type": "code",
   "execution_count": 30,
   "metadata": {},
   "outputs": [
    {
     "name": "stdout",
     "output_type": "stream",
     "text": [
      "{'2004-05', '1996-97', '2000-01', '2018-19', '2020-21', '2010-11', '2011-12', '2016-17', '2014-15', '1997-98', '2003-04', '2012-13', '1999-00', '2007-08', '2008-09'}\n"
     ]
    }
   ],
   "source": [
    "x = df['Test Series Year'].to_list()\n",
    "print(set(x))"
   ]
  },
  {
   "cell_type": "code",
   "execution_count": 41,
   "metadata": {},
   "outputs": [
    {
     "data": {
      "text/html": [
       "<div>\n",
       "<style scoped>\n",
       "    .dataframe tbody tr th:only-of-type {\n",
       "        vertical-align: middle;\n",
       "    }\n",
       "\n",
       "    .dataframe tbody tr th {\n",
       "        vertical-align: top;\n",
       "    }\n",
       "\n",
       "    .dataframe thead th {\n",
       "        text-align: right;\n",
       "    }\n",
       "</style>\n",
       "<table border=\"1\" class=\"dataframe\">\n",
       "  <thead>\n",
       "    <tr style=\"text-align: right;\">\n",
       "      <th></th>\n",
       "      <th>Test Series Year</th>\n",
       "      <th>Test Number</th>\n",
       "      <th>Innings</th>\n",
       "      <th>Venue</th>\n",
       "      <th>Host</th>\n",
       "      <th>Highest Scorer</th>\n",
       "      <th>Team</th>\n",
       "      <th>Runs by highest scorer</th>\n",
       "      <th>best bowler</th>\n",
       "      <th>wickets by best bowler</th>\n",
       "      <th>team total</th>\n",
       "      <th>Winner</th>\n",
       "      <th>Win Margin</th>\n",
       "      <th>MOTM</th>\n",
       "      <th>Ind captain</th>\n",
       "      <th>Aus captain</th>\n",
       "      <th>MOTS</th>\n",
       "      <th>Series Win</th>\n",
       "    </tr>\n",
       "  </thead>\n",
       "  <tbody>\n",
       "    <tr>\n",
       "      <th>169</th>\n",
       "      <td>2018-19</td>\n",
       "      <td>1</td>\n",
       "      <td>1</td>\n",
       "      <td>Adelaide</td>\n",
       "      <td>Australia</td>\n",
       "      <td>Cheteshwar Pujara</td>\n",
       "      <td>India</td>\n",
       "      <td>123</td>\n",
       "      <td>Josh Hazlewood</td>\n",
       "      <td>3.0</td>\n",
       "      <td>250/10</td>\n",
       "      <td>India</td>\n",
       "      <td>31r</td>\n",
       "      <td>Cheteshwar Pujara</td>\n",
       "      <td>Virat Kohli</td>\n",
       "      <td>Tim Paine</td>\n",
       "      <td>Cheteshwar Pujara</td>\n",
       "      <td>India</td>\n",
       "    </tr>\n",
       "    <tr>\n",
       "      <th>170</th>\n",
       "      <td>2018-19</td>\n",
       "      <td>1</td>\n",
       "      <td>2</td>\n",
       "      <td>Adelaide</td>\n",
       "      <td>Australia</td>\n",
       "      <td>Travis Head</td>\n",
       "      <td>Australia</td>\n",
       "      <td>72</td>\n",
       "      <td>Jasprit Bumrah</td>\n",
       "      <td>3.0</td>\n",
       "      <td>235/10</td>\n",
       "      <td>India</td>\n",
       "      <td>31r</td>\n",
       "      <td>Cheteshwar Pujara</td>\n",
       "      <td>Virat Kohli</td>\n",
       "      <td>Tim Paine</td>\n",
       "      <td>Cheteshwar Pujara</td>\n",
       "      <td>India</td>\n",
       "    </tr>\n",
       "    <tr>\n",
       "      <th>171</th>\n",
       "      <td>2018-19</td>\n",
       "      <td>1</td>\n",
       "      <td>3</td>\n",
       "      <td>Adelaide</td>\n",
       "      <td>Australia</td>\n",
       "      <td>Cheteshwar Pujara</td>\n",
       "      <td>India</td>\n",
       "      <td>71</td>\n",
       "      <td>Nathan Lyon</td>\n",
       "      <td>6.0</td>\n",
       "      <td>307/10</td>\n",
       "      <td>India</td>\n",
       "      <td>31r</td>\n",
       "      <td>Cheteshwar Pujara</td>\n",
       "      <td>Virat Kohli</td>\n",
       "      <td>Tim Paine</td>\n",
       "      <td>Cheteshwar Pujara</td>\n",
       "      <td>India</td>\n",
       "    </tr>\n",
       "    <tr>\n",
       "      <th>172</th>\n",
       "      <td>2018-19</td>\n",
       "      <td>1</td>\n",
       "      <td>4</td>\n",
       "      <td>Adelaide</td>\n",
       "      <td>Australia</td>\n",
       "      <td>Shaun Marsh</td>\n",
       "      <td>Australia</td>\n",
       "      <td>60</td>\n",
       "      <td>Ravichandran Ashwin</td>\n",
       "      <td>3.0</td>\n",
       "      <td>291/10</td>\n",
       "      <td>India</td>\n",
       "      <td>31r</td>\n",
       "      <td>Cheteshwar Pujara</td>\n",
       "      <td>Virat Kohli</td>\n",
       "      <td>Tim Paine</td>\n",
       "      <td>Cheteshwar Pujara</td>\n",
       "      <td>India</td>\n",
       "    </tr>\n",
       "    <tr>\n",
       "      <th>173</th>\n",
       "      <td>2018-19</td>\n",
       "      <td>2</td>\n",
       "      <td>1</td>\n",
       "      <td>Perth</td>\n",
       "      <td>Australia</td>\n",
       "      <td>Marcus Harris</td>\n",
       "      <td>Australia</td>\n",
       "      <td>70</td>\n",
       "      <td>Ishant Sharma</td>\n",
       "      <td>4.0</td>\n",
       "      <td>326/10</td>\n",
       "      <td>Australia</td>\n",
       "      <td>146r</td>\n",
       "      <td>Nathan Lyon</td>\n",
       "      <td>Virat Kohli</td>\n",
       "      <td>Tim Paine</td>\n",
       "      <td>Cheteshwar Pujara</td>\n",
       "      <td>India</td>\n",
       "    </tr>\n",
       "    <tr>\n",
       "      <th>174</th>\n",
       "      <td>2018-19</td>\n",
       "      <td>2</td>\n",
       "      <td>2</td>\n",
       "      <td>Perth</td>\n",
       "      <td>Australia</td>\n",
       "      <td>Virat Kohli</td>\n",
       "      <td>India</td>\n",
       "      <td>123</td>\n",
       "      <td>Nathan Lyon</td>\n",
       "      <td>5.0</td>\n",
       "      <td>283/10</td>\n",
       "      <td>Australia</td>\n",
       "      <td>146r</td>\n",
       "      <td>Nathan Lyon</td>\n",
       "      <td>Virat Kohli</td>\n",
       "      <td>Tim Paine</td>\n",
       "      <td>Cheteshwar Pujara</td>\n",
       "      <td>India</td>\n",
       "    </tr>\n",
       "    <tr>\n",
       "      <th>175</th>\n",
       "      <td>2018-19</td>\n",
       "      <td>2</td>\n",
       "      <td>3</td>\n",
       "      <td>Perth</td>\n",
       "      <td>Australia</td>\n",
       "      <td>Usman Khawaja</td>\n",
       "      <td>Australia</td>\n",
       "      <td>72</td>\n",
       "      <td>Mohd. Shami</td>\n",
       "      <td>6.0</td>\n",
       "      <td>243/10</td>\n",
       "      <td>Australia</td>\n",
       "      <td>146r</td>\n",
       "      <td>Nathan Lyon</td>\n",
       "      <td>Virat Kohli</td>\n",
       "      <td>Tim Paine</td>\n",
       "      <td>Cheteshwar Pujara</td>\n",
       "      <td>India</td>\n",
       "    </tr>\n",
       "    <tr>\n",
       "      <th>176</th>\n",
       "      <td>2018-19</td>\n",
       "      <td>2</td>\n",
       "      <td>4</td>\n",
       "      <td>Perth</td>\n",
       "      <td>Australia</td>\n",
       "      <td>Ajinkya Rahane</td>\n",
       "      <td>India</td>\n",
       "      <td>30</td>\n",
       "      <td>Nathan Lyon</td>\n",
       "      <td>3.0</td>\n",
       "      <td>140/10</td>\n",
       "      <td>Australia</td>\n",
       "      <td>146r</td>\n",
       "      <td>Nathan Lyon</td>\n",
       "      <td>Virat Kohli</td>\n",
       "      <td>Tim Paine</td>\n",
       "      <td>Cheteshwar Pujara</td>\n",
       "      <td>India</td>\n",
       "    </tr>\n",
       "    <tr>\n",
       "      <th>177</th>\n",
       "      <td>2018-19</td>\n",
       "      <td>3</td>\n",
       "      <td>1</td>\n",
       "      <td>Melbourne</td>\n",
       "      <td>Australia</td>\n",
       "      <td>Cheteshwar Pujara</td>\n",
       "      <td>India</td>\n",
       "      <td>106</td>\n",
       "      <td>Pat Cummins</td>\n",
       "      <td>3.0</td>\n",
       "      <td>443/7</td>\n",
       "      <td>India</td>\n",
       "      <td>137r</td>\n",
       "      <td>Jasprit Bumrah</td>\n",
       "      <td>Virat Kohli</td>\n",
       "      <td>Tim Paine</td>\n",
       "      <td>Cheteshwar Pujara</td>\n",
       "      <td>India</td>\n",
       "    </tr>\n",
       "    <tr>\n",
       "      <th>178</th>\n",
       "      <td>2018-19</td>\n",
       "      <td>3</td>\n",
       "      <td>2</td>\n",
       "      <td>Melbourne</td>\n",
       "      <td>Australia</td>\n",
       "      <td>Marcus Harris</td>\n",
       "      <td>Australia</td>\n",
       "      <td>22</td>\n",
       "      <td>Jasprit Bumrah</td>\n",
       "      <td>6.0</td>\n",
       "      <td>151/10</td>\n",
       "      <td>India</td>\n",
       "      <td>137r</td>\n",
       "      <td>Jasprit Bumrah</td>\n",
       "      <td>Virat Kohli</td>\n",
       "      <td>Tim Paine</td>\n",
       "      <td>Cheteshwar Pujara</td>\n",
       "      <td>India</td>\n",
       "    </tr>\n",
       "    <tr>\n",
       "      <th>179</th>\n",
       "      <td>2018-19</td>\n",
       "      <td>3</td>\n",
       "      <td>3</td>\n",
       "      <td>Melbourne</td>\n",
       "      <td>Australia</td>\n",
       "      <td>Mayank Agarwal</td>\n",
       "      <td>India</td>\n",
       "      <td>42</td>\n",
       "      <td>Pat Cummins</td>\n",
       "      <td>6.0</td>\n",
       "      <td>106/8</td>\n",
       "      <td>India</td>\n",
       "      <td>137r</td>\n",
       "      <td>Jasprit Bumrah</td>\n",
       "      <td>Virat Kohli</td>\n",
       "      <td>Tim Paine</td>\n",
       "      <td>Cheteshwar Pujara</td>\n",
       "      <td>India</td>\n",
       "    </tr>\n",
       "    <tr>\n",
       "      <th>180</th>\n",
       "      <td>2018-19</td>\n",
       "      <td>3</td>\n",
       "      <td>4</td>\n",
       "      <td>Melbourne</td>\n",
       "      <td>Australia</td>\n",
       "      <td>Pat Cummins</td>\n",
       "      <td>Australia</td>\n",
       "      <td>63</td>\n",
       "      <td>Ravindra Jadeja</td>\n",
       "      <td>3.0</td>\n",
       "      <td>261/10</td>\n",
       "      <td>India</td>\n",
       "      <td>137r</td>\n",
       "      <td>Jasprit Bumrah</td>\n",
       "      <td>Virat Kohli</td>\n",
       "      <td>Tim Paine</td>\n",
       "      <td>Cheteshwar Pujara</td>\n",
       "      <td>India</td>\n",
       "    </tr>\n",
       "    <tr>\n",
       "      <th>181</th>\n",
       "      <td>2018-19</td>\n",
       "      <td>4</td>\n",
       "      <td>1</td>\n",
       "      <td>Sydney</td>\n",
       "      <td>Australia</td>\n",
       "      <td>Cheteshwar Pujara</td>\n",
       "      <td>India</td>\n",
       "      <td>193</td>\n",
       "      <td>Nathan Lyon</td>\n",
       "      <td>4.0</td>\n",
       "      <td>622/7</td>\n",
       "      <td>Drawn</td>\n",
       "      <td>0</td>\n",
       "      <td>Cheteshwar Pujara</td>\n",
       "      <td>Virat Kohli</td>\n",
       "      <td>Tim Paine</td>\n",
       "      <td>Cheteshwar Pujara</td>\n",
       "      <td>India</td>\n",
       "    </tr>\n",
       "    <tr>\n",
       "      <th>182</th>\n",
       "      <td>2018-19</td>\n",
       "      <td>4</td>\n",
       "      <td>2</td>\n",
       "      <td>Sydney</td>\n",
       "      <td>Australia</td>\n",
       "      <td>Marcus Harris</td>\n",
       "      <td>Australia</td>\n",
       "      <td>79</td>\n",
       "      <td>Kuldeep Yadav</td>\n",
       "      <td>5.0</td>\n",
       "      <td>300/10</td>\n",
       "      <td>Drawn</td>\n",
       "      <td>0</td>\n",
       "      <td>Cheteshwar Pujara</td>\n",
       "      <td>Virat Kohli</td>\n",
       "      <td>Tim Paine</td>\n",
       "      <td>Cheteshwar Pujara</td>\n",
       "      <td>India</td>\n",
       "    </tr>\n",
       "    <tr>\n",
       "      <th>183</th>\n",
       "      <td>2018-19</td>\n",
       "      <td>4</td>\n",
       "      <td>3</td>\n",
       "      <td>Sydney</td>\n",
       "      <td>Australia</td>\n",
       "      <td>Usman Khawaja</td>\n",
       "      <td>Australia</td>\n",
       "      <td>4</td>\n",
       "      <td>Jasprit Bumrah</td>\n",
       "      <td>0.0</td>\n",
       "      <td>6/0</td>\n",
       "      <td>Drawn</td>\n",
       "      <td>0</td>\n",
       "      <td>Cheteshwar Pujara</td>\n",
       "      <td>Virat Kohli</td>\n",
       "      <td>Tim Paine</td>\n",
       "      <td>Cheteshwar Pujara</td>\n",
       "      <td>India</td>\n",
       "    </tr>\n",
       "  </tbody>\n",
       "</table>\n",
       "</div>"
      ],
      "text/plain": [
       "    Test Series Year  Test Number  Innings      Venue       Host  \\\n",
       "169          2018-19            1        1   Adelaide  Australia   \n",
       "170          2018-19            1        2   Adelaide  Australia   \n",
       "171          2018-19            1        3   Adelaide  Australia   \n",
       "172          2018-19            1        4   Adelaide  Australia   \n",
       "173          2018-19            2        1      Perth  Australia   \n",
       "174          2018-19            2        2      Perth  Australia   \n",
       "175          2018-19            2        3      Perth  Australia   \n",
       "176          2018-19            2        4      Perth  Australia   \n",
       "177          2018-19            3        1  Melbourne  Australia   \n",
       "178          2018-19            3        2  Melbourne  Australia   \n",
       "179          2018-19            3        3  Melbourne  Australia   \n",
       "180          2018-19            3        4  Melbourne  Australia   \n",
       "181          2018-19            4        1     Sydney  Australia   \n",
       "182          2018-19            4        2     Sydney  Australia   \n",
       "183          2018-19            4        3     Sydney  Australia   \n",
       "\n",
       "        Highest Scorer       Team  Runs by highest scorer  \\\n",
       "169  Cheteshwar Pujara      India                     123   \n",
       "170        Travis Head  Australia                      72   \n",
       "171  Cheteshwar Pujara      India                      71   \n",
       "172        Shaun Marsh  Australia                      60   \n",
       "173      Marcus Harris  Australia                      70   \n",
       "174        Virat Kohli      India                     123   \n",
       "175      Usman Khawaja  Australia                      72   \n",
       "176     Ajinkya Rahane      India                      30   \n",
       "177  Cheteshwar Pujara      India                     106   \n",
       "178      Marcus Harris  Australia                      22   \n",
       "179     Mayank Agarwal      India                      42   \n",
       "180        Pat Cummins  Australia                      63   \n",
       "181  Cheteshwar Pujara      India                     193   \n",
       "182      Marcus Harris  Australia                      79   \n",
       "183      Usman Khawaja  Australia                       4   \n",
       "\n",
       "             best bowler  wickets by best bowler team total     Winner  \\\n",
       "169       Josh Hazlewood                     3.0     250/10      India   \n",
       "170       Jasprit Bumrah                     3.0     235/10      India   \n",
       "171          Nathan Lyon                     6.0     307/10      India   \n",
       "172  Ravichandran Ashwin                     3.0     291/10      India   \n",
       "173        Ishant Sharma                     4.0     326/10  Australia   \n",
       "174          Nathan Lyon                     5.0     283/10  Australia   \n",
       "175          Mohd. Shami                     6.0     243/10  Australia   \n",
       "176          Nathan Lyon                     3.0     140/10  Australia   \n",
       "177          Pat Cummins                     3.0      443/7      India   \n",
       "178       Jasprit Bumrah                     6.0     151/10      India   \n",
       "179          Pat Cummins                     6.0      106/8      India   \n",
       "180      Ravindra Jadeja                     3.0     261/10      India   \n",
       "181          Nathan Lyon                     4.0      622/7      Drawn   \n",
       "182        Kuldeep Yadav                     5.0     300/10      Drawn   \n",
       "183       Jasprit Bumrah                     0.0        6/0      Drawn   \n",
       "\n",
       "    Win Margin               MOTM  Ind captain Aus captain               MOTS  \\\n",
       "169        31r  Cheteshwar Pujara  Virat Kohli   Tim Paine  Cheteshwar Pujara   \n",
       "170        31r  Cheteshwar Pujara  Virat Kohli   Tim Paine  Cheteshwar Pujara   \n",
       "171        31r  Cheteshwar Pujara  Virat Kohli   Tim Paine  Cheteshwar Pujara   \n",
       "172        31r  Cheteshwar Pujara  Virat Kohli   Tim Paine  Cheteshwar Pujara   \n",
       "173       146r        Nathan Lyon  Virat Kohli   Tim Paine  Cheteshwar Pujara   \n",
       "174       146r        Nathan Lyon  Virat Kohli   Tim Paine  Cheteshwar Pujara   \n",
       "175       146r        Nathan Lyon  Virat Kohli   Tim Paine  Cheteshwar Pujara   \n",
       "176       146r        Nathan Lyon  Virat Kohli   Tim Paine  Cheteshwar Pujara   \n",
       "177       137r     Jasprit Bumrah  Virat Kohli   Tim Paine  Cheteshwar Pujara   \n",
       "178       137r     Jasprit Bumrah  Virat Kohli   Tim Paine  Cheteshwar Pujara   \n",
       "179       137r     Jasprit Bumrah  Virat Kohli   Tim Paine  Cheteshwar Pujara   \n",
       "180       137r     Jasprit Bumrah  Virat Kohli   Tim Paine  Cheteshwar Pujara   \n",
       "181          0  Cheteshwar Pujara  Virat Kohli   Tim Paine  Cheteshwar Pujara   \n",
       "182          0  Cheteshwar Pujara  Virat Kohli   Tim Paine  Cheteshwar Pujara   \n",
       "183          0  Cheteshwar Pujara  Virat Kohli   Tim Paine  Cheteshwar Pujara   \n",
       "\n",
       "    Series Win  \n",
       "169      India  \n",
       "170      India  \n",
       "171      India  \n",
       "172      India  \n",
       "173      India  \n",
       "174      India  \n",
       "175      India  \n",
       "176      India  \n",
       "177      India  \n",
       "178      India  \n",
       "179      India  \n",
       "180      India  \n",
       "181      India  \n",
       "182      India  \n",
       "183      India  "
      ]
     },
     "execution_count": 41,
     "metadata": {},
     "output_type": "execute_result"
    }
   ],
   "source": [
    "d = (input(\"Select Year from above choice\"))\n",
    "r = df['Test Series Year'] == d \n",
    "u = df[r]\n",
    "u"
   ]
  },
  {
   "cell_type": "code",
   "execution_count": 38,
   "metadata": {},
   "outputs": [
    {
     "data": {
      "text/plain": [
       "Test Series Year\n",
       "1996-97    1\n",
       "1997-98    3\n",
       "1999-00    3\n",
       "2000-01    3\n",
       "2003-04    4\n",
       "2004-05    4\n",
       "2007-08    4\n",
       "2008-09    4\n",
       "2010-11    2\n",
       "2011-12    4\n",
       "2012-13    4\n",
       "2014-15    4\n",
       "2016-17    4\n",
       "2018-19    4\n",
       "2020-21    4\n",
       "Name: Test Number, dtype: int64"
      ]
     },
     "execution_count": 38,
     "metadata": {},
     "output_type": "execute_result"
    }
   ],
   "source": [
    "df.groupby('Test Series Year')['Test Number'].max()"
   ]
  },
  {
   "cell_type": "code",
   "execution_count": 40,
   "metadata": {},
   "outputs": [
    {
     "data": {
      "application/vnd.plotly.v1+json": {
       "config": {
        "plotlyServerURL": "https://plot.ly"
       },
       "data": [
        {
         "alignmentgroup": "True",
         "hovertemplate": "Test Series Year=%{x}<br>Test Number=%{y}<extra></extra>",
         "legendgroup": "1996-97",
         "marker": {
          "color": "#636efa",
          "pattern": {
           "shape": ""
          }
         },
         "name": "1996-97",
         "offsetgroup": "1996-97",
         "orientation": "v",
         "showlegend": true,
         "textposition": "auto",
         "type": "bar",
         "x": [
          "1996-97"
         ],
         "xaxis": "x",
         "y": [
          1
         ],
         "yaxis": "y"
        },
        {
         "alignmentgroup": "True",
         "hovertemplate": "Test Series Year=%{x}<br>Test Number=%{y}<extra></extra>",
         "legendgroup": "1997-98",
         "marker": {
          "color": "#EF553B",
          "pattern": {
           "shape": ""
          }
         },
         "name": "1997-98",
         "offsetgroup": "1997-98",
         "orientation": "v",
         "showlegend": true,
         "textposition": "auto",
         "type": "bar",
         "x": [
          "1997-98"
         ],
         "xaxis": "x",
         "y": [
          3
         ],
         "yaxis": "y"
        },
        {
         "alignmentgroup": "True",
         "hovertemplate": "Test Series Year=%{x}<br>Test Number=%{y}<extra></extra>",
         "legendgroup": "1999-00",
         "marker": {
          "color": "#00cc96",
          "pattern": {
           "shape": ""
          }
         },
         "name": "1999-00",
         "offsetgroup": "1999-00",
         "orientation": "v",
         "showlegend": true,
         "textposition": "auto",
         "type": "bar",
         "x": [
          "1999-00"
         ],
         "xaxis": "x",
         "y": [
          3
         ],
         "yaxis": "y"
        },
        {
         "alignmentgroup": "True",
         "hovertemplate": "Test Series Year=%{x}<br>Test Number=%{y}<extra></extra>",
         "legendgroup": "2000-01",
         "marker": {
          "color": "#ab63fa",
          "pattern": {
           "shape": ""
          }
         },
         "name": "2000-01",
         "offsetgroup": "2000-01",
         "orientation": "v",
         "showlegend": true,
         "textposition": "auto",
         "type": "bar",
         "x": [
          "2000-01"
         ],
         "xaxis": "x",
         "y": [
          3
         ],
         "yaxis": "y"
        },
        {
         "alignmentgroup": "True",
         "hovertemplate": "Test Series Year=%{x}<br>Test Number=%{y}<extra></extra>",
         "legendgroup": "2003-04",
         "marker": {
          "color": "#FFA15A",
          "pattern": {
           "shape": ""
          }
         },
         "name": "2003-04",
         "offsetgroup": "2003-04",
         "orientation": "v",
         "showlegend": true,
         "textposition": "auto",
         "type": "bar",
         "x": [
          "2003-04"
         ],
         "xaxis": "x",
         "y": [
          4
         ],
         "yaxis": "y"
        },
        {
         "alignmentgroup": "True",
         "hovertemplate": "Test Series Year=%{x}<br>Test Number=%{y}<extra></extra>",
         "legendgroup": "2004-05",
         "marker": {
          "color": "#19d3f3",
          "pattern": {
           "shape": ""
          }
         },
         "name": "2004-05",
         "offsetgroup": "2004-05",
         "orientation": "v",
         "showlegend": true,
         "textposition": "auto",
         "type": "bar",
         "x": [
          "2004-05"
         ],
         "xaxis": "x",
         "y": [
          4
         ],
         "yaxis": "y"
        },
        {
         "alignmentgroup": "True",
         "hovertemplate": "Test Series Year=%{x}<br>Test Number=%{y}<extra></extra>",
         "legendgroup": "2007-08",
         "marker": {
          "color": "#FF6692",
          "pattern": {
           "shape": ""
          }
         },
         "name": "2007-08",
         "offsetgroup": "2007-08",
         "orientation": "v",
         "showlegend": true,
         "textposition": "auto",
         "type": "bar",
         "x": [
          "2007-08"
         ],
         "xaxis": "x",
         "y": [
          4
         ],
         "yaxis": "y"
        },
        {
         "alignmentgroup": "True",
         "hovertemplate": "Test Series Year=%{x}<br>Test Number=%{y}<extra></extra>",
         "legendgroup": "2008-09",
         "marker": {
          "color": "#B6E880",
          "pattern": {
           "shape": ""
          }
         },
         "name": "2008-09",
         "offsetgroup": "2008-09",
         "orientation": "v",
         "showlegend": true,
         "textposition": "auto",
         "type": "bar",
         "x": [
          "2008-09"
         ],
         "xaxis": "x",
         "y": [
          4
         ],
         "yaxis": "y"
        },
        {
         "alignmentgroup": "True",
         "hovertemplate": "Test Series Year=%{x}<br>Test Number=%{y}<extra></extra>",
         "legendgroup": "2010-11",
         "marker": {
          "color": "#FF97FF",
          "pattern": {
           "shape": ""
          }
         },
         "name": "2010-11",
         "offsetgroup": "2010-11",
         "orientation": "v",
         "showlegend": true,
         "textposition": "auto",
         "type": "bar",
         "x": [
          "2010-11"
         ],
         "xaxis": "x",
         "y": [
          2
         ],
         "yaxis": "y"
        },
        {
         "alignmentgroup": "True",
         "hovertemplate": "Test Series Year=%{x}<br>Test Number=%{y}<extra></extra>",
         "legendgroup": "2011-12",
         "marker": {
          "color": "#FECB52",
          "pattern": {
           "shape": ""
          }
         },
         "name": "2011-12",
         "offsetgroup": "2011-12",
         "orientation": "v",
         "showlegend": true,
         "textposition": "auto",
         "type": "bar",
         "x": [
          "2011-12"
         ],
         "xaxis": "x",
         "y": [
          4
         ],
         "yaxis": "y"
        },
        {
         "alignmentgroup": "True",
         "hovertemplate": "Test Series Year=%{x}<br>Test Number=%{y}<extra></extra>",
         "legendgroup": "2012-13",
         "marker": {
          "color": "#636efa",
          "pattern": {
           "shape": ""
          }
         },
         "name": "2012-13",
         "offsetgroup": "2012-13",
         "orientation": "v",
         "showlegend": true,
         "textposition": "auto",
         "type": "bar",
         "x": [
          "2012-13"
         ],
         "xaxis": "x",
         "y": [
          4
         ],
         "yaxis": "y"
        },
        {
         "alignmentgroup": "True",
         "hovertemplate": "Test Series Year=%{x}<br>Test Number=%{y}<extra></extra>",
         "legendgroup": "2014-15",
         "marker": {
          "color": "#EF553B",
          "pattern": {
           "shape": ""
          }
         },
         "name": "2014-15",
         "offsetgroup": "2014-15",
         "orientation": "v",
         "showlegend": true,
         "textposition": "auto",
         "type": "bar",
         "x": [
          "2014-15"
         ],
         "xaxis": "x",
         "y": [
          4
         ],
         "yaxis": "y"
        },
        {
         "alignmentgroup": "True",
         "hovertemplate": "Test Series Year=%{x}<br>Test Number=%{y}<extra></extra>",
         "legendgroup": "2016-17",
         "marker": {
          "color": "#00cc96",
          "pattern": {
           "shape": ""
          }
         },
         "name": "2016-17",
         "offsetgroup": "2016-17",
         "orientation": "v",
         "showlegend": true,
         "textposition": "auto",
         "type": "bar",
         "x": [
          "2016-17"
         ],
         "xaxis": "x",
         "y": [
          4
         ],
         "yaxis": "y"
        },
        {
         "alignmentgroup": "True",
         "hovertemplate": "Test Series Year=%{x}<br>Test Number=%{y}<extra></extra>",
         "legendgroup": "2018-19",
         "marker": {
          "color": "#ab63fa",
          "pattern": {
           "shape": ""
          }
         },
         "name": "2018-19",
         "offsetgroup": "2018-19",
         "orientation": "v",
         "showlegend": true,
         "textposition": "auto",
         "type": "bar",
         "x": [
          "2018-19"
         ],
         "xaxis": "x",
         "y": [
          4
         ],
         "yaxis": "y"
        },
        {
         "alignmentgroup": "True",
         "hovertemplate": "Test Series Year=%{x}<br>Test Number=%{y}<extra></extra>",
         "legendgroup": "2020-21",
         "marker": {
          "color": "#FFA15A",
          "pattern": {
           "shape": ""
          }
         },
         "name": "2020-21",
         "offsetgroup": "2020-21",
         "orientation": "v",
         "showlegend": true,
         "textposition": "auto",
         "type": "bar",
         "x": [
          "2020-21"
         ],
         "xaxis": "x",
         "y": [
          4
         ],
         "yaxis": "y"
        }
       ],
       "layout": {
        "barmode": "relative",
        "legend": {
         "title": {
          "text": "Test Series Year"
         },
         "tracegroupgap": 0
        },
        "margin": {
         "t": 60
        },
        "template": {
         "data": {
          "bar": [
           {
            "error_x": {
             "color": "#2a3f5f"
            },
            "error_y": {
             "color": "#2a3f5f"
            },
            "marker": {
             "line": {
              "color": "#E5ECF6",
              "width": 0.5
             },
             "pattern": {
              "fillmode": "overlay",
              "size": 10,
              "solidity": 0.2
             }
            },
            "type": "bar"
           }
          ],
          "barpolar": [
           {
            "marker": {
             "line": {
              "color": "#E5ECF6",
              "width": 0.5
             },
             "pattern": {
              "fillmode": "overlay",
              "size": 10,
              "solidity": 0.2
             }
            },
            "type": "barpolar"
           }
          ],
          "carpet": [
           {
            "aaxis": {
             "endlinecolor": "#2a3f5f",
             "gridcolor": "white",
             "linecolor": "white",
             "minorgridcolor": "white",
             "startlinecolor": "#2a3f5f"
            },
            "baxis": {
             "endlinecolor": "#2a3f5f",
             "gridcolor": "white",
             "linecolor": "white",
             "minorgridcolor": "white",
             "startlinecolor": "#2a3f5f"
            },
            "type": "carpet"
           }
          ],
          "choropleth": [
           {
            "colorbar": {
             "outlinewidth": 0,
             "ticks": ""
            },
            "type": "choropleth"
           }
          ],
          "contour": [
           {
            "colorbar": {
             "outlinewidth": 0,
             "ticks": ""
            },
            "colorscale": [
             [
              0,
              "#0d0887"
             ],
             [
              0.1111111111111111,
              "#46039f"
             ],
             [
              0.2222222222222222,
              "#7201a8"
             ],
             [
              0.3333333333333333,
              "#9c179e"
             ],
             [
              0.4444444444444444,
              "#bd3786"
             ],
             [
              0.5555555555555556,
              "#d8576b"
             ],
             [
              0.6666666666666666,
              "#ed7953"
             ],
             [
              0.7777777777777778,
              "#fb9f3a"
             ],
             [
              0.8888888888888888,
              "#fdca26"
             ],
             [
              1,
              "#f0f921"
             ]
            ],
            "type": "contour"
           }
          ],
          "contourcarpet": [
           {
            "colorbar": {
             "outlinewidth": 0,
             "ticks": ""
            },
            "type": "contourcarpet"
           }
          ],
          "heatmap": [
           {
            "colorbar": {
             "outlinewidth": 0,
             "ticks": ""
            },
            "colorscale": [
             [
              0,
              "#0d0887"
             ],
             [
              0.1111111111111111,
              "#46039f"
             ],
             [
              0.2222222222222222,
              "#7201a8"
             ],
             [
              0.3333333333333333,
              "#9c179e"
             ],
             [
              0.4444444444444444,
              "#bd3786"
             ],
             [
              0.5555555555555556,
              "#d8576b"
             ],
             [
              0.6666666666666666,
              "#ed7953"
             ],
             [
              0.7777777777777778,
              "#fb9f3a"
             ],
             [
              0.8888888888888888,
              "#fdca26"
             ],
             [
              1,
              "#f0f921"
             ]
            ],
            "type": "heatmap"
           }
          ],
          "heatmapgl": [
           {
            "colorbar": {
             "outlinewidth": 0,
             "ticks": ""
            },
            "colorscale": [
             [
              0,
              "#0d0887"
             ],
             [
              0.1111111111111111,
              "#46039f"
             ],
             [
              0.2222222222222222,
              "#7201a8"
             ],
             [
              0.3333333333333333,
              "#9c179e"
             ],
             [
              0.4444444444444444,
              "#bd3786"
             ],
             [
              0.5555555555555556,
              "#d8576b"
             ],
             [
              0.6666666666666666,
              "#ed7953"
             ],
             [
              0.7777777777777778,
              "#fb9f3a"
             ],
             [
              0.8888888888888888,
              "#fdca26"
             ],
             [
              1,
              "#f0f921"
             ]
            ],
            "type": "heatmapgl"
           }
          ],
          "histogram": [
           {
            "marker": {
             "pattern": {
              "fillmode": "overlay",
              "size": 10,
              "solidity": 0.2
             }
            },
            "type": "histogram"
           }
          ],
          "histogram2d": [
           {
            "colorbar": {
             "outlinewidth": 0,
             "ticks": ""
            },
            "colorscale": [
             [
              0,
              "#0d0887"
             ],
             [
              0.1111111111111111,
              "#46039f"
             ],
             [
              0.2222222222222222,
              "#7201a8"
             ],
             [
              0.3333333333333333,
              "#9c179e"
             ],
             [
              0.4444444444444444,
              "#bd3786"
             ],
             [
              0.5555555555555556,
              "#d8576b"
             ],
             [
              0.6666666666666666,
              "#ed7953"
             ],
             [
              0.7777777777777778,
              "#fb9f3a"
             ],
             [
              0.8888888888888888,
              "#fdca26"
             ],
             [
              1,
              "#f0f921"
             ]
            ],
            "type": "histogram2d"
           }
          ],
          "histogram2dcontour": [
           {
            "colorbar": {
             "outlinewidth": 0,
             "ticks": ""
            },
            "colorscale": [
             [
              0,
              "#0d0887"
             ],
             [
              0.1111111111111111,
              "#46039f"
             ],
             [
              0.2222222222222222,
              "#7201a8"
             ],
             [
              0.3333333333333333,
              "#9c179e"
             ],
             [
              0.4444444444444444,
              "#bd3786"
             ],
             [
              0.5555555555555556,
              "#d8576b"
             ],
             [
              0.6666666666666666,
              "#ed7953"
             ],
             [
              0.7777777777777778,
              "#fb9f3a"
             ],
             [
              0.8888888888888888,
              "#fdca26"
             ],
             [
              1,
              "#f0f921"
             ]
            ],
            "type": "histogram2dcontour"
           }
          ],
          "mesh3d": [
           {
            "colorbar": {
             "outlinewidth": 0,
             "ticks": ""
            },
            "type": "mesh3d"
           }
          ],
          "parcoords": [
           {
            "line": {
             "colorbar": {
              "outlinewidth": 0,
              "ticks": ""
             }
            },
            "type": "parcoords"
           }
          ],
          "pie": [
           {
            "automargin": true,
            "type": "pie"
           }
          ],
          "scatter": [
           {
            "fillpattern": {
             "fillmode": "overlay",
             "size": 10,
             "solidity": 0.2
            },
            "type": "scatter"
           }
          ],
          "scatter3d": [
           {
            "line": {
             "colorbar": {
              "outlinewidth": 0,
              "ticks": ""
             }
            },
            "marker": {
             "colorbar": {
              "outlinewidth": 0,
              "ticks": ""
             }
            },
            "type": "scatter3d"
           }
          ],
          "scattercarpet": [
           {
            "marker": {
             "colorbar": {
              "outlinewidth": 0,
              "ticks": ""
             }
            },
            "type": "scattercarpet"
           }
          ],
          "scattergeo": [
           {
            "marker": {
             "colorbar": {
              "outlinewidth": 0,
              "ticks": ""
             }
            },
            "type": "scattergeo"
           }
          ],
          "scattergl": [
           {
            "marker": {
             "colorbar": {
              "outlinewidth": 0,
              "ticks": ""
             }
            },
            "type": "scattergl"
           }
          ],
          "scattermapbox": [
           {
            "marker": {
             "colorbar": {
              "outlinewidth": 0,
              "ticks": ""
             }
            },
            "type": "scattermapbox"
           }
          ],
          "scatterpolar": [
           {
            "marker": {
             "colorbar": {
              "outlinewidth": 0,
              "ticks": ""
             }
            },
            "type": "scatterpolar"
           }
          ],
          "scatterpolargl": [
           {
            "marker": {
             "colorbar": {
              "outlinewidth": 0,
              "ticks": ""
             }
            },
            "type": "scatterpolargl"
           }
          ],
          "scatterternary": [
           {
            "marker": {
             "colorbar": {
              "outlinewidth": 0,
              "ticks": ""
             }
            },
            "type": "scatterternary"
           }
          ],
          "surface": [
           {
            "colorbar": {
             "outlinewidth": 0,
             "ticks": ""
            },
            "colorscale": [
             [
              0,
              "#0d0887"
             ],
             [
              0.1111111111111111,
              "#46039f"
             ],
             [
              0.2222222222222222,
              "#7201a8"
             ],
             [
              0.3333333333333333,
              "#9c179e"
             ],
             [
              0.4444444444444444,
              "#bd3786"
             ],
             [
              0.5555555555555556,
              "#d8576b"
             ],
             [
              0.6666666666666666,
              "#ed7953"
             ],
             [
              0.7777777777777778,
              "#fb9f3a"
             ],
             [
              0.8888888888888888,
              "#fdca26"
             ],
             [
              1,
              "#f0f921"
             ]
            ],
            "type": "surface"
           }
          ],
          "table": [
           {
            "cells": {
             "fill": {
              "color": "#EBF0F8"
             },
             "line": {
              "color": "white"
             }
            },
            "header": {
             "fill": {
              "color": "#C8D4E3"
             },
             "line": {
              "color": "white"
             }
            },
            "type": "table"
           }
          ]
         },
         "layout": {
          "annotationdefaults": {
           "arrowcolor": "#2a3f5f",
           "arrowhead": 0,
           "arrowwidth": 1
          },
          "autotypenumbers": "strict",
          "coloraxis": {
           "colorbar": {
            "outlinewidth": 0,
            "ticks": ""
           }
          },
          "colorscale": {
           "diverging": [
            [
             0,
             "#8e0152"
            ],
            [
             0.1,
             "#c51b7d"
            ],
            [
             0.2,
             "#de77ae"
            ],
            [
             0.3,
             "#f1b6da"
            ],
            [
             0.4,
             "#fde0ef"
            ],
            [
             0.5,
             "#f7f7f7"
            ],
            [
             0.6,
             "#e6f5d0"
            ],
            [
             0.7,
             "#b8e186"
            ],
            [
             0.8,
             "#7fbc41"
            ],
            [
             0.9,
             "#4d9221"
            ],
            [
             1,
             "#276419"
            ]
           ],
           "sequential": [
            [
             0,
             "#0d0887"
            ],
            [
             0.1111111111111111,
             "#46039f"
            ],
            [
             0.2222222222222222,
             "#7201a8"
            ],
            [
             0.3333333333333333,
             "#9c179e"
            ],
            [
             0.4444444444444444,
             "#bd3786"
            ],
            [
             0.5555555555555556,
             "#d8576b"
            ],
            [
             0.6666666666666666,
             "#ed7953"
            ],
            [
             0.7777777777777778,
             "#fb9f3a"
            ],
            [
             0.8888888888888888,
             "#fdca26"
            ],
            [
             1,
             "#f0f921"
            ]
           ],
           "sequentialminus": [
            [
             0,
             "#0d0887"
            ],
            [
             0.1111111111111111,
             "#46039f"
            ],
            [
             0.2222222222222222,
             "#7201a8"
            ],
            [
             0.3333333333333333,
             "#9c179e"
            ],
            [
             0.4444444444444444,
             "#bd3786"
            ],
            [
             0.5555555555555556,
             "#d8576b"
            ],
            [
             0.6666666666666666,
             "#ed7953"
            ],
            [
             0.7777777777777778,
             "#fb9f3a"
            ],
            [
             0.8888888888888888,
             "#fdca26"
            ],
            [
             1,
             "#f0f921"
            ]
           ]
          },
          "colorway": [
           "#636efa",
           "#EF553B",
           "#00cc96",
           "#ab63fa",
           "#FFA15A",
           "#19d3f3",
           "#FF6692",
           "#B6E880",
           "#FF97FF",
           "#FECB52"
          ],
          "font": {
           "color": "#2a3f5f"
          },
          "geo": {
           "bgcolor": "white",
           "lakecolor": "white",
           "landcolor": "#E5ECF6",
           "showlakes": true,
           "showland": true,
           "subunitcolor": "white"
          },
          "hoverlabel": {
           "align": "left"
          },
          "hovermode": "closest",
          "mapbox": {
           "style": "light"
          },
          "paper_bgcolor": "white",
          "plot_bgcolor": "#E5ECF6",
          "polar": {
           "angularaxis": {
            "gridcolor": "white",
            "linecolor": "white",
            "ticks": ""
           },
           "bgcolor": "#E5ECF6",
           "radialaxis": {
            "gridcolor": "white",
            "linecolor": "white",
            "ticks": ""
           }
          },
          "scene": {
           "xaxis": {
            "backgroundcolor": "#E5ECF6",
            "gridcolor": "white",
            "gridwidth": 2,
            "linecolor": "white",
            "showbackground": true,
            "ticks": "",
            "zerolinecolor": "white"
           },
           "yaxis": {
            "backgroundcolor": "#E5ECF6",
            "gridcolor": "white",
            "gridwidth": 2,
            "linecolor": "white",
            "showbackground": true,
            "ticks": "",
            "zerolinecolor": "white"
           },
           "zaxis": {
            "backgroundcolor": "#E5ECF6",
            "gridcolor": "white",
            "gridwidth": 2,
            "linecolor": "white",
            "showbackground": true,
            "ticks": "",
            "zerolinecolor": "white"
           }
          },
          "shapedefaults": {
           "line": {
            "color": "#2a3f5f"
           }
          },
          "ternary": {
           "aaxis": {
            "gridcolor": "white",
            "linecolor": "white",
            "ticks": ""
           },
           "baxis": {
            "gridcolor": "white",
            "linecolor": "white",
            "ticks": ""
           },
           "bgcolor": "#E5ECF6",
           "caxis": {
            "gridcolor": "white",
            "linecolor": "white",
            "ticks": ""
           }
          },
          "title": {
           "x": 0.05
          },
          "xaxis": {
           "automargin": true,
           "gridcolor": "white",
           "linecolor": "white",
           "ticks": "",
           "title": {
            "standoff": 15
           },
           "zerolinecolor": "white",
           "zerolinewidth": 2
          },
          "yaxis": {
           "automargin": true,
           "gridcolor": "white",
           "linecolor": "white",
           "ticks": "",
           "title": {
            "standoff": 15
           },
           "zerolinecolor": "white",
           "zerolinewidth": 2
          }
         }
        },
        "xaxis": {
         "anchor": "y",
         "categoryarray": [
          "1996-97",
          "1997-98",
          "1999-00",
          "2000-01",
          "2003-04",
          "2004-05",
          "2007-08",
          "2008-09",
          "2010-11",
          "2011-12",
          "2012-13",
          "2014-15",
          "2016-17",
          "2018-19",
          "2020-21"
         ],
         "categoryorder": "array",
         "domain": [
          0,
          1
         ],
         "title": {
          "text": "Test Series Year"
         }
        },
        "yaxis": {
         "anchor": "x",
         "domain": [
          0,
          1
         ],
         "title": {
          "text": "Test Number"
         }
        }
       }
      }
     },
     "metadata": {},
     "output_type": "display_data"
    }
   ],
   "source": [
    "a = df.groupby('Test Series Year')['Test Number'].max()\n",
    "px.bar(a,x=a.index,y='Test Number',color = a.index)"
   ]
  },
  {
   "cell_type": "code",
   "execution_count": null,
   "metadata": {},
   "outputs": [],
   "source": []
  }
 ],
 "metadata": {
  "kernelspec": {
   "display_name": "base",
   "language": "python",
   "name": "python3"
  },
  "language_info": {
   "codemirror_mode": {
    "name": "ipython",
    "version": 3
   },
   "file_extension": ".py",
   "mimetype": "text/x-python",
   "name": "python",
   "nbconvert_exporter": "python",
   "pygments_lexer": "ipython3",
   "version": "3.9.12"
  },
  "orig_nbformat": 4,
  "vscode": {
   "interpreter": {
    "hash": "4e8f3a7a02010f64316f648f42951c185bd81b36418d82413abe5bcaf48078d2"
   }
  }
 },
 "nbformat": 4,
 "nbformat_minor": 2
}
