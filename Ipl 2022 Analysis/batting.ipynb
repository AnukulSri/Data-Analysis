{
 "cells": [
  {
   "cell_type": "code",
   "execution_count": 1,
   "metadata": {},
   "outputs": [],
   "source": [
    "import numpy as np\n",
    "import matplotlib.pyplot as plt\n",
    "import pandas as pd\n",
    "import plotly.express as px"
   ]
  },
  {
   "cell_type": "code",
   "execution_count": 2,
   "metadata": {},
   "outputs": [
    {
     "data": {
      "text/html": [
       "<div>\n",
       "<style scoped>\n",
       "    .dataframe tbody tr th:only-of-type {\n",
       "        vertical-align: middle;\n",
       "    }\n",
       "\n",
       "    .dataframe tbody tr th {\n",
       "        vertical-align: top;\n",
       "    }\n",
       "\n",
       "    .dataframe thead th {\n",
       "        text-align: right;\n",
       "    }\n",
       "</style>\n",
       "<table border=\"1\" class=\"dataframe\">\n",
       "  <thead>\n",
       "    <tr style=\"text-align: right;\">\n",
       "      <th></th>\n",
       "      <th>MatchID</th>\n",
       "      <th>InningsNo</th>\n",
       "      <th>Team</th>\n",
       "      <th>PlayerName</th>\n",
       "      <th>MatchPlayingOrder</th>\n",
       "      <th>BowlerName</th>\n",
       "      <th>OutDesc</th>\n",
       "      <th>Runs</th>\n",
       "      <th>Balls</th>\n",
       "      <th>DotBalls</th>\n",
       "      <th>Ones</th>\n",
       "      <th>Twos</th>\n",
       "      <th>Threes</th>\n",
       "      <th>Fours</th>\n",
       "      <th>Sixes</th>\n",
       "      <th>StrikeRate</th>\n",
       "      <th>WicketNo</th>\n",
       "      <th>AgainstFast</th>\n",
       "      <th>AgainstSpin</th>\n",
       "    </tr>\n",
       "  </thead>\n",
       "  <tbody>\n",
       "    <tr>\n",
       "      <th>0</th>\n",
       "      <td>1</td>\n",
       "      <td>1</td>\n",
       "      <td>CSK</td>\n",
       "      <td>Ruturaj  Gaikwad</td>\n",
       "      <td>1</td>\n",
       "      <td>Umesh Yadav</td>\n",
       "      <td>c Nitish Rana b Umesh Yadav</td>\n",
       "      <td>0</td>\n",
       "      <td>4</td>\n",
       "      <td>4</td>\n",
       "      <td>0</td>\n",
       "      <td>0</td>\n",
       "      <td>0</td>\n",
       "      <td>0</td>\n",
       "      <td>0</td>\n",
       "      <td>0.00</td>\n",
       "      <td>3.0</td>\n",
       "      <td>3</td>\n",
       "      <td>0</td>\n",
       "    </tr>\n",
       "    <tr>\n",
       "      <th>1</th>\n",
       "      <td>1</td>\n",
       "      <td>1</td>\n",
       "      <td>CSK</td>\n",
       "      <td>Devon Conway</td>\n",
       "      <td>2</td>\n",
       "      <td>Umesh Yadav</td>\n",
       "      <td>c Shreyas Iyer b Umesh Yadav</td>\n",
       "      <td>3</td>\n",
       "      <td>8</td>\n",
       "      <td>5</td>\n",
       "      <td>3</td>\n",
       "      <td>0</td>\n",
       "      <td>0</td>\n",
       "      <td>0</td>\n",
       "      <td>0</td>\n",
       "      <td>37.50</td>\n",
       "      <td>2.0</td>\n",
       "      <td>8</td>\n",
       "      <td>0</td>\n",
       "    </tr>\n",
       "    <tr>\n",
       "      <th>2</th>\n",
       "      <td>1</td>\n",
       "      <td>1</td>\n",
       "      <td>CSK</td>\n",
       "      <td>Robin Uthappa</td>\n",
       "      <td>3</td>\n",
       "      <td>Varun Chakaravarthy</td>\n",
       "      <td>st Sheldon Jackson b Varun Chakaravarthy</td>\n",
       "      <td>28</td>\n",
       "      <td>21</td>\n",
       "      <td>10</td>\n",
       "      <td>6</td>\n",
       "      <td>1</td>\n",
       "      <td>0</td>\n",
       "      <td>2</td>\n",
       "      <td>2</td>\n",
       "      <td>133.33</td>\n",
       "      <td>5.0</td>\n",
       "      <td>15</td>\n",
       "      <td>6</td>\n",
       "    </tr>\n",
       "    <tr>\n",
       "      <th>3</th>\n",
       "      <td>1</td>\n",
       "      <td>1</td>\n",
       "      <td>CSK</td>\n",
       "      <td>Ambati Rayudu</td>\n",
       "      <td>4</td>\n",
       "      <td>Sunil Narine</td>\n",
       "      <td>run out (Shreyas Iyer)</td>\n",
       "      <td>15</td>\n",
       "      <td>17</td>\n",
       "      <td>10</td>\n",
       "      <td>5</td>\n",
       "      <td>0</td>\n",
       "      <td>0</td>\n",
       "      <td>1</td>\n",
       "      <td>1</td>\n",
       "      <td>88.24</td>\n",
       "      <td>1.0</td>\n",
       "      <td>4</td>\n",
       "      <td>13</td>\n",
       "    </tr>\n",
       "    <tr>\n",
       "      <th>4</th>\n",
       "      <td>1</td>\n",
       "      <td>1</td>\n",
       "      <td>CSK</td>\n",
       "      <td>Ravindra Jadeja</td>\n",
       "      <td>5</td>\n",
       "      <td>NaN</td>\n",
       "      <td>not out</td>\n",
       "      <td>26</td>\n",
       "      <td>28</td>\n",
       "      <td>8</td>\n",
       "      <td>18</td>\n",
       "      <td>1</td>\n",
       "      <td>0</td>\n",
       "      <td>0</td>\n",
       "      <td>1</td>\n",
       "      <td>92.86</td>\n",
       "      <td>NaN</td>\n",
       "      <td>14</td>\n",
       "      <td>14</td>\n",
       "    </tr>\n",
       "    <tr>\n",
       "      <th>...</th>\n",
       "      <td>...</td>\n",
       "      <td>...</td>\n",
       "      <td>...</td>\n",
       "      <td>...</td>\n",
       "      <td>...</td>\n",
       "      <td>...</td>\n",
       "      <td>...</td>\n",
       "      <td>...</td>\n",
       "      <td>...</td>\n",
       "      <td>...</td>\n",
       "      <td>...</td>\n",
       "      <td>...</td>\n",
       "      <td>...</td>\n",
       "      <td>...</td>\n",
       "      <td>...</td>\n",
       "      <td>...</td>\n",
       "      <td>...</td>\n",
       "      <td>...</td>\n",
       "      <td>...</td>\n",
       "    </tr>\n",
       "    <tr>\n",
       "      <th>1623</th>\n",
       "      <td>76</td>\n",
       "      <td>2</td>\n",
       "      <td>GT</td>\n",
       "      <td>Rashid Khan</td>\n",
       "      <td>7</td>\n",
       "      <td>NaN</td>\n",
       "      <td>NaN</td>\n",
       "      <td>0</td>\n",
       "      <td>0</td>\n",
       "      <td>0</td>\n",
       "      <td>0</td>\n",
       "      <td>0</td>\n",
       "      <td>0</td>\n",
       "      <td>0</td>\n",
       "      <td>0</td>\n",
       "      <td>-</td>\n",
       "      <td>NaN</td>\n",
       "      <td>0</td>\n",
       "      <td>0</td>\n",
       "    </tr>\n",
       "    <tr>\n",
       "      <th>1624</th>\n",
       "      <td>76</td>\n",
       "      <td>2</td>\n",
       "      <td>GT</td>\n",
       "      <td>Sai Kishore</td>\n",
       "      <td>8</td>\n",
       "      <td>NaN</td>\n",
       "      <td>NaN</td>\n",
       "      <td>0</td>\n",
       "      <td>0</td>\n",
       "      <td>0</td>\n",
       "      <td>0</td>\n",
       "      <td>0</td>\n",
       "      <td>0</td>\n",
       "      <td>0</td>\n",
       "      <td>0</td>\n",
       "      <td>-</td>\n",
       "      <td>NaN</td>\n",
       "      <td>0</td>\n",
       "      <td>0</td>\n",
       "    </tr>\n",
       "    <tr>\n",
       "      <th>1625</th>\n",
       "      <td>76</td>\n",
       "      <td>2</td>\n",
       "      <td>GT</td>\n",
       "      <td>Mohammad Shami</td>\n",
       "      <td>9</td>\n",
       "      <td>NaN</td>\n",
       "      <td>NaN</td>\n",
       "      <td>0</td>\n",
       "      <td>0</td>\n",
       "      <td>0</td>\n",
       "      <td>0</td>\n",
       "      <td>0</td>\n",
       "      <td>0</td>\n",
       "      <td>0</td>\n",
       "      <td>0</td>\n",
       "      <td>-</td>\n",
       "      <td>NaN</td>\n",
       "      <td>0</td>\n",
       "      <td>0</td>\n",
       "    </tr>\n",
       "    <tr>\n",
       "      <th>1626</th>\n",
       "      <td>76</td>\n",
       "      <td>2</td>\n",
       "      <td>GT</td>\n",
       "      <td>Lockie Ferguson</td>\n",
       "      <td>10</td>\n",
       "      <td>NaN</td>\n",
       "      <td>NaN</td>\n",
       "      <td>0</td>\n",
       "      <td>0</td>\n",
       "      <td>0</td>\n",
       "      <td>0</td>\n",
       "      <td>0</td>\n",
       "      <td>0</td>\n",
       "      <td>0</td>\n",
       "      <td>0</td>\n",
       "      <td>-</td>\n",
       "      <td>NaN</td>\n",
       "      <td>0</td>\n",
       "      <td>0</td>\n",
       "    </tr>\n",
       "    <tr>\n",
       "      <th>1627</th>\n",
       "      <td>76</td>\n",
       "      <td>2</td>\n",
       "      <td>GT</td>\n",
       "      <td>Yash Dayal</td>\n",
       "      <td>11</td>\n",
       "      <td>NaN</td>\n",
       "      <td>NaN</td>\n",
       "      <td>0</td>\n",
       "      <td>0</td>\n",
       "      <td>0</td>\n",
       "      <td>0</td>\n",
       "      <td>0</td>\n",
       "      <td>0</td>\n",
       "      <td>0</td>\n",
       "      <td>0</td>\n",
       "      <td>-</td>\n",
       "      <td>NaN</td>\n",
       "      <td>0</td>\n",
       "      <td>0</td>\n",
       "    </tr>\n",
       "  </tbody>\n",
       "</table>\n",
       "<p>1628 rows × 19 columns</p>\n",
       "</div>"
      ],
      "text/plain": [
       "      MatchID  InningsNo Team        PlayerName  MatchPlayingOrder  \\\n",
       "0           1          1  CSK  Ruturaj  Gaikwad                  1   \n",
       "1           1          1  CSK      Devon Conway                  2   \n",
       "2           1          1  CSK     Robin Uthappa                  3   \n",
       "3           1          1  CSK     Ambati Rayudu                  4   \n",
       "4           1          1  CSK   Ravindra Jadeja                  5   \n",
       "...       ...        ...  ...               ...                ...   \n",
       "1623       76          2   GT       Rashid Khan                  7   \n",
       "1624       76          2   GT       Sai Kishore                  8   \n",
       "1625       76          2   GT    Mohammad Shami                  9   \n",
       "1626       76          2   GT   Lockie Ferguson                 10   \n",
       "1627       76          2   GT        Yash Dayal                 11   \n",
       "\n",
       "               BowlerName                                   OutDesc  Runs  \\\n",
       "0             Umesh Yadav               c Nitish Rana b Umesh Yadav     0   \n",
       "1             Umesh Yadav              c Shreyas Iyer b Umesh Yadav     3   \n",
       "2     Varun Chakaravarthy  st Sheldon Jackson b Varun Chakaravarthy    28   \n",
       "3            Sunil Narine                    run out (Shreyas Iyer)    15   \n",
       "4                     NaN                                   not out    26   \n",
       "...                   ...                                       ...   ...   \n",
       "1623                  NaN                                       NaN     0   \n",
       "1624                  NaN                                       NaN     0   \n",
       "1625                  NaN                                       NaN     0   \n",
       "1626                  NaN                                       NaN     0   \n",
       "1627                  NaN                                       NaN     0   \n",
       "\n",
       "      Balls  DotBalls  Ones  Twos  Threes  Fours  Sixes StrikeRate  WicketNo  \\\n",
       "0         4         4     0     0       0      0      0       0.00       3.0   \n",
       "1         8         5     3     0       0      0      0      37.50       2.0   \n",
       "2        21        10     6     1       0      2      2     133.33       5.0   \n",
       "3        17        10     5     0       0      1      1      88.24       1.0   \n",
       "4        28         8    18     1       0      0      1      92.86       NaN   \n",
       "...     ...       ...   ...   ...     ...    ...    ...        ...       ...   \n",
       "1623      0         0     0     0       0      0      0          -       NaN   \n",
       "1624      0         0     0     0       0      0      0          -       NaN   \n",
       "1625      0         0     0     0       0      0      0          -       NaN   \n",
       "1626      0         0     0     0       0      0      0          -       NaN   \n",
       "1627      0         0     0     0       0      0      0          -       NaN   \n",
       "\n",
       "      AgainstFast  AgainstSpin  \n",
       "0               3            0  \n",
       "1               8            0  \n",
       "2              15            6  \n",
       "3               4           13  \n",
       "4              14           14  \n",
       "...           ...          ...  \n",
       "1623            0            0  \n",
       "1624            0            0  \n",
       "1625            0            0  \n",
       "1626            0            0  \n",
       "1627            0            0  \n",
       "\n",
       "[1628 rows x 19 columns]"
      ]
     },
     "execution_count": 2,
     "metadata": {},
     "output_type": "execute_result"
    }
   ],
   "source": [
    "df = pd.read_csv('batting.csv')\n",
    "df"
   ]
  },
  {
   "cell_type": "code",
   "execution_count": 3,
   "metadata": {},
   "outputs": [
    {
     "name": "stdout",
     "output_type": "stream",
     "text": [
      "<class 'pandas.core.frame.DataFrame'>\n",
      "RangeIndex: 1628 entries, 0 to 1627\n",
      "Data columns (total 19 columns):\n",
      " #   Column             Non-Null Count  Dtype  \n",
      "---  ------             --------------  -----  \n",
      " 0   MatchID            1628 non-null   int64  \n",
      " 1   InningsNo          1628 non-null   int64  \n",
      " 2   Team               1628 non-null   object \n",
      " 3   PlayerName         1628 non-null   object \n",
      " 4   MatchPlayingOrder  1628 non-null   int64  \n",
      " 5   BowlerName         912 non-null    object \n",
      " 6   OutDesc            1176 non-null   object \n",
      " 7   Runs               1628 non-null   int64  \n",
      " 8   Balls              1628 non-null   int64  \n",
      " 9   DotBalls           1628 non-null   int64  \n",
      " 10  Ones               1628 non-null   int64  \n",
      " 11  Twos               1628 non-null   int64  \n",
      " 12  Threes             1628 non-null   int64  \n",
      " 13  Fours              1628 non-null   int64  \n",
      " 14  Sixes              1628 non-null   int64  \n",
      " 15  StrikeRate         1628 non-null   object \n",
      " 16  WicketNo           911 non-null    float64\n",
      " 17  AgainstFast        1628 non-null   int64  \n",
      " 18  AgainstSpin        1628 non-null   int64  \n",
      "dtypes: float64(1), int64(13), object(5)\n",
      "memory usage: 241.8+ KB\n"
     ]
    }
   ],
   "source": [
    "df.info()"
   ]
  },
  {
   "cell_type": "code",
   "execution_count": 4,
   "metadata": {},
   "outputs": [
    {
     "data": {
      "text/html": [
       "<div>\n",
       "<style scoped>\n",
       "    .dataframe tbody tr th:only-of-type {\n",
       "        vertical-align: middle;\n",
       "    }\n",
       "\n",
       "    .dataframe tbody tr th {\n",
       "        vertical-align: top;\n",
       "    }\n",
       "\n",
       "    .dataframe thead th {\n",
       "        text-align: right;\n",
       "    }\n",
       "</style>\n",
       "<table border=\"1\" class=\"dataframe\">\n",
       "  <thead>\n",
       "    <tr style=\"text-align: right;\">\n",
       "      <th></th>\n",
       "      <th>MatchID</th>\n",
       "      <th>InningsNo</th>\n",
       "      <th>MatchPlayingOrder</th>\n",
       "      <th>Runs</th>\n",
       "      <th>Balls</th>\n",
       "      <th>DotBalls</th>\n",
       "      <th>Ones</th>\n",
       "      <th>Twos</th>\n",
       "      <th>Threes</th>\n",
       "      <th>Fours</th>\n",
       "      <th>Sixes</th>\n",
       "      <th>WicketNo</th>\n",
       "      <th>AgainstFast</th>\n",
       "      <th>AgainstSpin</th>\n",
       "    </tr>\n",
       "  </thead>\n",
       "  <tbody>\n",
       "    <tr>\n",
       "      <th>count</th>\n",
       "      <td>1628.000000</td>\n",
       "      <td>1628.000000</td>\n",
       "      <td>1628.000000</td>\n",
       "      <td>1628.000000</td>\n",
       "      <td>1628.000000</td>\n",
       "      <td>1628.000000</td>\n",
       "      <td>1628.000000</td>\n",
       "      <td>1628.000000</td>\n",
       "      <td>1628.000000</td>\n",
       "      <td>1628.000000</td>\n",
       "      <td>1628.000000</td>\n",
       "      <td>911.000000</td>\n",
       "      <td>1628.000000</td>\n",
       "      <td>1628.000000</td>\n",
       "    </tr>\n",
       "    <tr>\n",
       "      <th>mean</th>\n",
       "      <td>37.608108</td>\n",
       "      <td>1.500000</td>\n",
       "      <td>6.000000</td>\n",
       "      <td>14.159705</td>\n",
       "      <td>10.571253</td>\n",
       "      <td>4.093980</td>\n",
       "      <td>3.921376</td>\n",
       "      <td>0.627150</td>\n",
       "      <td>0.035627</td>\n",
       "      <td>1.238943</td>\n",
       "      <td>0.652334</td>\n",
       "      <td>4.472009</td>\n",
       "      <td>6.824324</td>\n",
       "      <td>3.702703</td>\n",
       "    </tr>\n",
       "    <tr>\n",
       "      <th>std</th>\n",
       "      <td>21.547791</td>\n",
       "      <td>0.500154</td>\n",
       "      <td>3.163249</td>\n",
       "      <td>20.275401</td>\n",
       "      <td>13.142609</td>\n",
       "      <td>4.778989</td>\n",
       "      <td>5.697342</td>\n",
       "      <td>1.153994</td>\n",
       "      <td>0.201307</td>\n",
       "      <td>2.058166</td>\n",
       "      <td>1.272667</td>\n",
       "      <td>2.863763</td>\n",
       "      <td>8.534458</td>\n",
       "      <td>5.950012</td>\n",
       "    </tr>\n",
       "    <tr>\n",
       "      <th>min</th>\n",
       "      <td>1.000000</td>\n",
       "      <td>1.000000</td>\n",
       "      <td>1.000000</td>\n",
       "      <td>0.000000</td>\n",
       "      <td>0.000000</td>\n",
       "      <td>0.000000</td>\n",
       "      <td>0.000000</td>\n",
       "      <td>0.000000</td>\n",
       "      <td>0.000000</td>\n",
       "      <td>0.000000</td>\n",
       "      <td>0.000000</td>\n",
       "      <td>1.000000</td>\n",
       "      <td>0.000000</td>\n",
       "      <td>0.000000</td>\n",
       "    </tr>\n",
       "    <tr>\n",
       "      <th>25%</th>\n",
       "      <td>19.000000</td>\n",
       "      <td>1.000000</td>\n",
       "      <td>3.000000</td>\n",
       "      <td>0.000000</td>\n",
       "      <td>0.000000</td>\n",
       "      <td>0.000000</td>\n",
       "      <td>0.000000</td>\n",
       "      <td>0.000000</td>\n",
       "      <td>0.000000</td>\n",
       "      <td>0.000000</td>\n",
       "      <td>0.000000</td>\n",
       "      <td>2.000000</td>\n",
       "      <td>0.000000</td>\n",
       "      <td>0.000000</td>\n",
       "    </tr>\n",
       "    <tr>\n",
       "      <th>50%</th>\n",
       "      <td>37.500000</td>\n",
       "      <td>1.500000</td>\n",
       "      <td>6.000000</td>\n",
       "      <td>5.000000</td>\n",
       "      <td>6.000000</td>\n",
       "      <td>2.000000</td>\n",
       "      <td>1.000000</td>\n",
       "      <td>0.000000</td>\n",
       "      <td>0.000000</td>\n",
       "      <td>0.000000</td>\n",
       "      <td>0.000000</td>\n",
       "      <td>4.000000</td>\n",
       "      <td>4.000000</td>\n",
       "      <td>0.000000</td>\n",
       "    </tr>\n",
       "    <tr>\n",
       "      <th>75%</th>\n",
       "      <td>56.000000</td>\n",
       "      <td>2.000000</td>\n",
       "      <td>9.000000</td>\n",
       "      <td>22.000000</td>\n",
       "      <td>16.000000</td>\n",
       "      <td>7.000000</td>\n",
       "      <td>6.000000</td>\n",
       "      <td>1.000000</td>\n",
       "      <td>0.000000</td>\n",
       "      <td>2.000000</td>\n",
       "      <td>1.000000</td>\n",
       "      <td>6.000000</td>\n",
       "      <td>11.000000</td>\n",
       "      <td>5.000000</td>\n",
       "    </tr>\n",
       "    <tr>\n",
       "      <th>max</th>\n",
       "      <td>76.000000</td>\n",
       "      <td>2.000000</td>\n",
       "      <td>11.000000</td>\n",
       "      <td>140.000000</td>\n",
       "      <td>70.000000</td>\n",
       "      <td>28.000000</td>\n",
       "      <td>32.000000</td>\n",
       "      <td>10.000000</td>\n",
       "      <td>2.000000</td>\n",
       "      <td>13.000000</td>\n",
       "      <td>10.000000</td>\n",
       "      <td>11.000000</td>\n",
       "      <td>57.000000</td>\n",
       "      <td>30.000000</td>\n",
       "    </tr>\n",
       "  </tbody>\n",
       "</table>\n",
       "</div>"
      ],
      "text/plain": [
       "           MatchID    InningsNo  MatchPlayingOrder         Runs        Balls  \\\n",
       "count  1628.000000  1628.000000        1628.000000  1628.000000  1628.000000   \n",
       "mean     37.608108     1.500000           6.000000    14.159705    10.571253   \n",
       "std      21.547791     0.500154           3.163249    20.275401    13.142609   \n",
       "min       1.000000     1.000000           1.000000     0.000000     0.000000   \n",
       "25%      19.000000     1.000000           3.000000     0.000000     0.000000   \n",
       "50%      37.500000     1.500000           6.000000     5.000000     6.000000   \n",
       "75%      56.000000     2.000000           9.000000    22.000000    16.000000   \n",
       "max      76.000000     2.000000          11.000000   140.000000    70.000000   \n",
       "\n",
       "          DotBalls         Ones         Twos       Threes        Fours  \\\n",
       "count  1628.000000  1628.000000  1628.000000  1628.000000  1628.000000   \n",
       "mean      4.093980     3.921376     0.627150     0.035627     1.238943   \n",
       "std       4.778989     5.697342     1.153994     0.201307     2.058166   \n",
       "min       0.000000     0.000000     0.000000     0.000000     0.000000   \n",
       "25%       0.000000     0.000000     0.000000     0.000000     0.000000   \n",
       "50%       2.000000     1.000000     0.000000     0.000000     0.000000   \n",
       "75%       7.000000     6.000000     1.000000     0.000000     2.000000   \n",
       "max      28.000000    32.000000    10.000000     2.000000    13.000000   \n",
       "\n",
       "             Sixes    WicketNo  AgainstFast  AgainstSpin  \n",
       "count  1628.000000  911.000000  1628.000000  1628.000000  \n",
       "mean      0.652334    4.472009     6.824324     3.702703  \n",
       "std       1.272667    2.863763     8.534458     5.950012  \n",
       "min       0.000000    1.000000     0.000000     0.000000  \n",
       "25%       0.000000    2.000000     0.000000     0.000000  \n",
       "50%       0.000000    4.000000     4.000000     0.000000  \n",
       "75%       1.000000    6.000000    11.000000     5.000000  \n",
       "max      10.000000   11.000000    57.000000    30.000000  "
      ]
     },
     "execution_count": 4,
     "metadata": {},
     "output_type": "execute_result"
    }
   ],
   "source": [
    "df.describe()"
   ]
  },
  {
   "cell_type": "code",
   "execution_count": 5,
   "metadata": {},
   "outputs": [
    {
     "data": {
      "text/html": [
       "<div>\n",
       "<style scoped>\n",
       "    .dataframe tbody tr th:only-of-type {\n",
       "        vertical-align: middle;\n",
       "    }\n",
       "\n",
       "    .dataframe tbody tr th {\n",
       "        vertical-align: top;\n",
       "    }\n",
       "\n",
       "    .dataframe thead th {\n",
       "        text-align: right;\n",
       "    }\n",
       "</style>\n",
       "<table border=\"1\" class=\"dataframe\">\n",
       "  <thead>\n",
       "    <tr style=\"text-align: right;\">\n",
       "      <th></th>\n",
       "      <th>MatchID</th>\n",
       "      <th>InningsNo</th>\n",
       "      <th>Team</th>\n",
       "      <th>PlayerName</th>\n",
       "      <th>MatchPlayingOrder</th>\n",
       "      <th>BowlerName</th>\n",
       "      <th>OutDesc</th>\n",
       "      <th>Runs</th>\n",
       "      <th>Balls</th>\n",
       "      <th>DotBalls</th>\n",
       "      <th>Ones</th>\n",
       "      <th>Twos</th>\n",
       "      <th>Threes</th>\n",
       "      <th>Fours</th>\n",
       "      <th>Sixes</th>\n",
       "      <th>StrikeRate</th>\n",
       "      <th>WicketNo</th>\n",
       "      <th>AgainstFast</th>\n",
       "      <th>AgainstSpin</th>\n",
       "    </tr>\n",
       "  </thead>\n",
       "  <tbody>\n",
       "    <tr>\n",
       "      <th>0</th>\n",
       "      <td>1</td>\n",
       "      <td>1</td>\n",
       "      <td>CSK</td>\n",
       "      <td>Ruturaj  Gaikwad</td>\n",
       "      <td>1</td>\n",
       "      <td>Umesh Yadav</td>\n",
       "      <td>c Nitish Rana b Umesh Yadav</td>\n",
       "      <td>0</td>\n",
       "      <td>4</td>\n",
       "      <td>4</td>\n",
       "      <td>0</td>\n",
       "      <td>0</td>\n",
       "      <td>0</td>\n",
       "      <td>0</td>\n",
       "      <td>0</td>\n",
       "      <td>0.00</td>\n",
       "      <td>3.0</td>\n",
       "      <td>3</td>\n",
       "      <td>0</td>\n",
       "    </tr>\n",
       "    <tr>\n",
       "      <th>1</th>\n",
       "      <td>1</td>\n",
       "      <td>1</td>\n",
       "      <td>CSK</td>\n",
       "      <td>Devon Conway</td>\n",
       "      <td>2</td>\n",
       "      <td>Umesh Yadav</td>\n",
       "      <td>c Shreyas Iyer b Umesh Yadav</td>\n",
       "      <td>3</td>\n",
       "      <td>8</td>\n",
       "      <td>5</td>\n",
       "      <td>3</td>\n",
       "      <td>0</td>\n",
       "      <td>0</td>\n",
       "      <td>0</td>\n",
       "      <td>0</td>\n",
       "      <td>37.50</td>\n",
       "      <td>2.0</td>\n",
       "      <td>8</td>\n",
       "      <td>0</td>\n",
       "    </tr>\n",
       "    <tr>\n",
       "      <th>2</th>\n",
       "      <td>1</td>\n",
       "      <td>1</td>\n",
       "      <td>CSK</td>\n",
       "      <td>Robin Uthappa</td>\n",
       "      <td>3</td>\n",
       "      <td>Varun Chakaravarthy</td>\n",
       "      <td>st Sheldon Jackson b Varun Chakaravarthy</td>\n",
       "      <td>28</td>\n",
       "      <td>21</td>\n",
       "      <td>10</td>\n",
       "      <td>6</td>\n",
       "      <td>1</td>\n",
       "      <td>0</td>\n",
       "      <td>2</td>\n",
       "      <td>2</td>\n",
       "      <td>133.33</td>\n",
       "      <td>5.0</td>\n",
       "      <td>15</td>\n",
       "      <td>6</td>\n",
       "    </tr>\n",
       "    <tr>\n",
       "      <th>3</th>\n",
       "      <td>1</td>\n",
       "      <td>1</td>\n",
       "      <td>CSK</td>\n",
       "      <td>Ambati Rayudu</td>\n",
       "      <td>4</td>\n",
       "      <td>Sunil Narine</td>\n",
       "      <td>run out (Shreyas Iyer)</td>\n",
       "      <td>15</td>\n",
       "      <td>17</td>\n",
       "      <td>10</td>\n",
       "      <td>5</td>\n",
       "      <td>0</td>\n",
       "      <td>0</td>\n",
       "      <td>1</td>\n",
       "      <td>1</td>\n",
       "      <td>88.24</td>\n",
       "      <td>1.0</td>\n",
       "      <td>4</td>\n",
       "      <td>13</td>\n",
       "    </tr>\n",
       "    <tr>\n",
       "      <th>4</th>\n",
       "      <td>1</td>\n",
       "      <td>1</td>\n",
       "      <td>CSK</td>\n",
       "      <td>Ravindra Jadeja</td>\n",
       "      <td>5</td>\n",
       "      <td>NaN</td>\n",
       "      <td>not out</td>\n",
       "      <td>26</td>\n",
       "      <td>28</td>\n",
       "      <td>8</td>\n",
       "      <td>18</td>\n",
       "      <td>1</td>\n",
       "      <td>0</td>\n",
       "      <td>0</td>\n",
       "      <td>1</td>\n",
       "      <td>92.86</td>\n",
       "      <td>NaN</td>\n",
       "      <td>14</td>\n",
       "      <td>14</td>\n",
       "    </tr>\n",
       "  </tbody>\n",
       "</table>\n",
       "</div>"
      ],
      "text/plain": [
       "   MatchID  InningsNo Team        PlayerName  MatchPlayingOrder  \\\n",
       "0        1          1  CSK  Ruturaj  Gaikwad                  1   \n",
       "1        1          1  CSK      Devon Conway                  2   \n",
       "2        1          1  CSK     Robin Uthappa                  3   \n",
       "3        1          1  CSK     Ambati Rayudu                  4   \n",
       "4        1          1  CSK   Ravindra Jadeja                  5   \n",
       "\n",
       "            BowlerName                                   OutDesc  Runs  Balls  \\\n",
       "0          Umesh Yadav               c Nitish Rana b Umesh Yadav     0      4   \n",
       "1          Umesh Yadav              c Shreyas Iyer b Umesh Yadav     3      8   \n",
       "2  Varun Chakaravarthy  st Sheldon Jackson b Varun Chakaravarthy    28     21   \n",
       "3         Sunil Narine                    run out (Shreyas Iyer)    15     17   \n",
       "4                  NaN                                   not out    26     28   \n",
       "\n",
       "   DotBalls  Ones  Twos  Threes  Fours  Sixes StrikeRate  WicketNo  \\\n",
       "0         4     0     0       0      0      0       0.00       3.0   \n",
       "1         5     3     0       0      0      0      37.50       2.0   \n",
       "2        10     6     1       0      2      2     133.33       5.0   \n",
       "3        10     5     0       0      1      1      88.24       1.0   \n",
       "4         8    18     1       0      0      1      92.86       NaN   \n",
       "\n",
       "   AgainstFast  AgainstSpin  \n",
       "0            3            0  \n",
       "1            8            0  \n",
       "2           15            6  \n",
       "3            4           13  \n",
       "4           14           14  "
      ]
     },
     "execution_count": 5,
     "metadata": {},
     "output_type": "execute_result"
    }
   ],
   "source": [
    "df.head()"
   ]
  },
  {
   "cell_type": "code",
   "execution_count": 6,
   "metadata": {},
   "outputs": [
    {
     "data": {
      "text/html": [
       "<div>\n",
       "<style scoped>\n",
       "    .dataframe tbody tr th:only-of-type {\n",
       "        vertical-align: middle;\n",
       "    }\n",
       "\n",
       "    .dataframe tbody tr th {\n",
       "        vertical-align: top;\n",
       "    }\n",
       "\n",
       "    .dataframe thead th {\n",
       "        text-align: right;\n",
       "    }\n",
       "</style>\n",
       "<table border=\"1\" class=\"dataframe\">\n",
       "  <thead>\n",
       "    <tr style=\"text-align: right;\">\n",
       "      <th></th>\n",
       "      <th>MatchID</th>\n",
       "      <th>InningsNo</th>\n",
       "      <th>Team</th>\n",
       "      <th>PlayerName</th>\n",
       "      <th>MatchPlayingOrder</th>\n",
       "      <th>BowlerName</th>\n",
       "      <th>OutDesc</th>\n",
       "      <th>Runs</th>\n",
       "      <th>Balls</th>\n",
       "      <th>DotBalls</th>\n",
       "      <th>Ones</th>\n",
       "      <th>Twos</th>\n",
       "      <th>Threes</th>\n",
       "      <th>Fours</th>\n",
       "      <th>Sixes</th>\n",
       "      <th>StrikeRate</th>\n",
       "      <th>WicketNo</th>\n",
       "      <th>AgainstFast</th>\n",
       "      <th>AgainstSpin</th>\n",
       "    </tr>\n",
       "  </thead>\n",
       "  <tbody>\n",
       "    <tr>\n",
       "      <th>1623</th>\n",
       "      <td>76</td>\n",
       "      <td>2</td>\n",
       "      <td>GT</td>\n",
       "      <td>Rashid Khan</td>\n",
       "      <td>7</td>\n",
       "      <td>NaN</td>\n",
       "      <td>NaN</td>\n",
       "      <td>0</td>\n",
       "      <td>0</td>\n",
       "      <td>0</td>\n",
       "      <td>0</td>\n",
       "      <td>0</td>\n",
       "      <td>0</td>\n",
       "      <td>0</td>\n",
       "      <td>0</td>\n",
       "      <td>-</td>\n",
       "      <td>NaN</td>\n",
       "      <td>0</td>\n",
       "      <td>0</td>\n",
       "    </tr>\n",
       "    <tr>\n",
       "      <th>1624</th>\n",
       "      <td>76</td>\n",
       "      <td>2</td>\n",
       "      <td>GT</td>\n",
       "      <td>Sai Kishore</td>\n",
       "      <td>8</td>\n",
       "      <td>NaN</td>\n",
       "      <td>NaN</td>\n",
       "      <td>0</td>\n",
       "      <td>0</td>\n",
       "      <td>0</td>\n",
       "      <td>0</td>\n",
       "      <td>0</td>\n",
       "      <td>0</td>\n",
       "      <td>0</td>\n",
       "      <td>0</td>\n",
       "      <td>-</td>\n",
       "      <td>NaN</td>\n",
       "      <td>0</td>\n",
       "      <td>0</td>\n",
       "    </tr>\n",
       "    <tr>\n",
       "      <th>1625</th>\n",
       "      <td>76</td>\n",
       "      <td>2</td>\n",
       "      <td>GT</td>\n",
       "      <td>Mohammad Shami</td>\n",
       "      <td>9</td>\n",
       "      <td>NaN</td>\n",
       "      <td>NaN</td>\n",
       "      <td>0</td>\n",
       "      <td>0</td>\n",
       "      <td>0</td>\n",
       "      <td>0</td>\n",
       "      <td>0</td>\n",
       "      <td>0</td>\n",
       "      <td>0</td>\n",
       "      <td>0</td>\n",
       "      <td>-</td>\n",
       "      <td>NaN</td>\n",
       "      <td>0</td>\n",
       "      <td>0</td>\n",
       "    </tr>\n",
       "    <tr>\n",
       "      <th>1626</th>\n",
       "      <td>76</td>\n",
       "      <td>2</td>\n",
       "      <td>GT</td>\n",
       "      <td>Lockie Ferguson</td>\n",
       "      <td>10</td>\n",
       "      <td>NaN</td>\n",
       "      <td>NaN</td>\n",
       "      <td>0</td>\n",
       "      <td>0</td>\n",
       "      <td>0</td>\n",
       "      <td>0</td>\n",
       "      <td>0</td>\n",
       "      <td>0</td>\n",
       "      <td>0</td>\n",
       "      <td>0</td>\n",
       "      <td>-</td>\n",
       "      <td>NaN</td>\n",
       "      <td>0</td>\n",
       "      <td>0</td>\n",
       "    </tr>\n",
       "    <tr>\n",
       "      <th>1627</th>\n",
       "      <td>76</td>\n",
       "      <td>2</td>\n",
       "      <td>GT</td>\n",
       "      <td>Yash Dayal</td>\n",
       "      <td>11</td>\n",
       "      <td>NaN</td>\n",
       "      <td>NaN</td>\n",
       "      <td>0</td>\n",
       "      <td>0</td>\n",
       "      <td>0</td>\n",
       "      <td>0</td>\n",
       "      <td>0</td>\n",
       "      <td>0</td>\n",
       "      <td>0</td>\n",
       "      <td>0</td>\n",
       "      <td>-</td>\n",
       "      <td>NaN</td>\n",
       "      <td>0</td>\n",
       "      <td>0</td>\n",
       "    </tr>\n",
       "  </tbody>\n",
       "</table>\n",
       "</div>"
      ],
      "text/plain": [
       "      MatchID  InningsNo Team       PlayerName  MatchPlayingOrder BowlerName  \\\n",
       "1623       76          2   GT      Rashid Khan                  7        NaN   \n",
       "1624       76          2   GT      Sai Kishore                  8        NaN   \n",
       "1625       76          2   GT   Mohammad Shami                  9        NaN   \n",
       "1626       76          2   GT  Lockie Ferguson                 10        NaN   \n",
       "1627       76          2   GT       Yash Dayal                 11        NaN   \n",
       "\n",
       "     OutDesc  Runs  Balls  DotBalls  Ones  Twos  Threes  Fours  Sixes  \\\n",
       "1623     NaN     0      0         0     0     0       0      0      0   \n",
       "1624     NaN     0      0         0     0     0       0      0      0   \n",
       "1625     NaN     0      0         0     0     0       0      0      0   \n",
       "1626     NaN     0      0         0     0     0       0      0      0   \n",
       "1627     NaN     0      0         0     0     0       0      0      0   \n",
       "\n",
       "     StrikeRate  WicketNo  AgainstFast  AgainstSpin  \n",
       "1623          -       NaN            0            0  \n",
       "1624          -       NaN            0            0  \n",
       "1625          -       NaN            0            0  \n",
       "1626          -       NaN            0            0  \n",
       "1627          -       NaN            0            0  "
      ]
     },
     "execution_count": 6,
     "metadata": {},
     "output_type": "execute_result"
    }
   ],
   "source": [
    "df.tail()"
   ]
  },
  {
   "cell_type": "code",
   "execution_count": 7,
   "metadata": {},
   "outputs": [
    {
     "data": {
      "text/plain": [
       "MatchID                0\n",
       "InningsNo              0\n",
       "Team                   0\n",
       "PlayerName             0\n",
       "MatchPlayingOrder      0\n",
       "BowlerName           716\n",
       "OutDesc              452\n",
       "Runs                   0\n",
       "Balls                  0\n",
       "DotBalls               0\n",
       "Ones                   0\n",
       "Twos                   0\n",
       "Threes                 0\n",
       "Fours                  0\n",
       "Sixes                  0\n",
       "StrikeRate             0\n",
       "WicketNo             717\n",
       "AgainstFast            0\n",
       "AgainstSpin            0\n",
       "dtype: int64"
      ]
     },
     "execution_count": 7,
     "metadata": {},
     "output_type": "execute_result"
    }
   ],
   "source": [
    "df.isnull().sum()"
   ]
  },
  {
   "cell_type": "code",
   "execution_count": 8,
   "metadata": {},
   "outputs": [
    {
     "name": "stdout",
     "output_type": "stream",
     "text": [
      "['MatchID', 'InningsNo', 'Team', 'PlayerName', 'MatchPlayingOrder', 'BowlerName', 'OutDesc', 'Runs', 'Balls', 'DotBalls', 'Ones', 'Twos', 'Threes', 'Fours', 'Sixes', 'StrikeRate', 'WicketNo', 'AgainstFast', 'AgainstSpin']\n"
     ]
    }
   ],
   "source": [
    "print(df.columns.to_list())"
   ]
  },
  {
   "cell_type": "code",
   "execution_count": 9,
   "metadata": {},
   "outputs": [
    {
     "data": {
      "text/plain": [
       "Team\n",
       "CSK     154\n",
       "DC      154\n",
       "GT      176\n",
       "KKR     154\n",
       "LSG     165\n",
       "MI      154\n",
       "PBSK    154\n",
       "RCB     176\n",
       "RR      187\n",
       "SRH     154\n",
       "Name: Team, dtype: int64"
      ]
     },
     "execution_count": 9,
     "metadata": {},
     "output_type": "execute_result"
    }
   ],
   "source": [
    "df.groupby('Team')['Team'].count()"
   ]
  },
  {
   "cell_type": "markdown",
   "metadata": {},
   "source": [
    "# count the total no. of sixes in ipl 2022"
   ]
  },
  {
   "cell_type": "code",
   "execution_count": 10,
   "metadata": {},
   "outputs": [
    {
     "data": {
      "text/plain": [
       "1062"
      ]
     },
     "execution_count": 10,
     "metadata": {},
     "output_type": "execute_result"
    }
   ],
   "source": [
    "df['Sixes'].sum()"
   ]
  },
  {
   "cell_type": "markdown",
   "metadata": {},
   "source": [
    "# count the total no. of Ones in ipl 2022"
   ]
  },
  {
   "cell_type": "code",
   "execution_count": 11,
   "metadata": {},
   "outputs": [
    {
     "data": {
      "text/plain": [
       "6384"
      ]
     },
     "execution_count": 11,
     "metadata": {},
     "output_type": "execute_result"
    }
   ],
   "source": [
    "df['Ones'].sum()"
   ]
  },
  {
   "cell_type": "markdown",
   "metadata": {},
   "source": [
    "# count the total no. of Twos in ipl 2022"
   ]
  },
  {
   "cell_type": "code",
   "execution_count": 12,
   "metadata": {},
   "outputs": [
    {
     "data": {
      "text/plain": [
       "1021"
      ]
     },
     "execution_count": 12,
     "metadata": {},
     "output_type": "execute_result"
    }
   ],
   "source": [
    "df['Twos'].sum()"
   ]
  },
  {
   "cell_type": "markdown",
   "metadata": {},
   "source": [
    "# count the total no. of Threes in ipl 2022"
   ]
  },
  {
   "cell_type": "code",
   "execution_count": 13,
   "metadata": {},
   "outputs": [
    {
     "data": {
      "text/plain": [
       "58"
      ]
     },
     "execution_count": 13,
     "metadata": {},
     "output_type": "execute_result"
    }
   ],
   "source": [
    "df['Threes'].sum()"
   ]
  },
  {
   "cell_type": "markdown",
   "metadata": {},
   "source": [
    "# count the total no. of Fours in ipl 2022"
   ]
  },
  {
   "cell_type": "code",
   "execution_count": 14,
   "metadata": {},
   "outputs": [
    {
     "data": {
      "text/plain": [
       "2017"
      ]
     },
     "execution_count": 14,
     "metadata": {},
     "output_type": "execute_result"
    }
   ],
   "source": [
    "df['Fours'].sum()"
   ]
  },
  {
   "cell_type": "markdown",
   "metadata": {},
   "source": [
    "# count total ball played in ipl 2022"
   ]
  },
  {
   "cell_type": "code",
   "execution_count": 15,
   "metadata": {},
   "outputs": [
    {
     "data": {
      "text/plain": [
       "17210"
      ]
     },
     "execution_count": 15,
     "metadata": {},
     "output_type": "execute_result"
    }
   ],
   "source": [
    "df['Balls'].sum()"
   ]
  },
  {
   "cell_type": "markdown",
   "metadata": {},
   "source": [
    "# count the the dot ball in ipl 2022"
   ]
  },
  {
   "cell_type": "code",
   "execution_count": 16,
   "metadata": {},
   "outputs": [
    {
     "data": {
      "text/plain": [
       "6665"
      ]
     },
     "execution_count": 16,
     "metadata": {},
     "output_type": "execute_result"
    }
   ],
   "source": [
    "df['DotBalls'].sum()"
   ]
  },
  {
   "cell_type": "markdown",
   "metadata": {},
   "source": [
    "# count total runs in ipl 2022"
   ]
  },
  {
   "cell_type": "code",
   "execution_count": 17,
   "metadata": {},
   "outputs": [
    {
     "data": {
      "text/plain": [
       "23052"
      ]
     },
     "execution_count": 17,
     "metadata": {},
     "output_type": "execute_result"
    }
   ],
   "source": [
    "df['Runs'].sum()"
   ]
  },
  {
   "cell_type": "code",
   "execution_count": 18,
   "metadata": {},
   "outputs": [
    {
     "data": {
      "text/html": [
       "<div>\n",
       "<style scoped>\n",
       "    .dataframe tbody tr th:only-of-type {\n",
       "        vertical-align: middle;\n",
       "    }\n",
       "\n",
       "    .dataframe tbody tr th {\n",
       "        vertical-align: top;\n",
       "    }\n",
       "\n",
       "    .dataframe thead th {\n",
       "        text-align: right;\n",
       "    }\n",
       "</style>\n",
       "<table border=\"1\" class=\"dataframe\">\n",
       "  <thead>\n",
       "    <tr style=\"text-align: right;\">\n",
       "      <th></th>\n",
       "      <th>MatchID</th>\n",
       "      <th>InningsNo</th>\n",
       "      <th>Team</th>\n",
       "      <th>PlayerName</th>\n",
       "      <th>MatchPlayingOrder</th>\n",
       "      <th>BowlerName</th>\n",
       "      <th>OutDesc</th>\n",
       "      <th>Runs</th>\n",
       "      <th>Balls</th>\n",
       "      <th>DotBalls</th>\n",
       "      <th>Ones</th>\n",
       "      <th>Twos</th>\n",
       "      <th>Threes</th>\n",
       "      <th>Fours</th>\n",
       "      <th>Sixes</th>\n",
       "      <th>StrikeRate</th>\n",
       "      <th>WicketNo</th>\n",
       "      <th>AgainstFast</th>\n",
       "      <th>AgainstSpin</th>\n",
       "    </tr>\n",
       "  </thead>\n",
       "  <tbody>\n",
       "    <tr>\n",
       "      <th>0</th>\n",
       "      <td>1</td>\n",
       "      <td>1</td>\n",
       "      <td>CSK</td>\n",
       "      <td>Ruturaj  Gaikwad</td>\n",
       "      <td>1</td>\n",
       "      <td>Umesh Yadav</td>\n",
       "      <td>c Nitish Rana b Umesh Yadav</td>\n",
       "      <td>0</td>\n",
       "      <td>4</td>\n",
       "      <td>4</td>\n",
       "      <td>0</td>\n",
       "      <td>0</td>\n",
       "      <td>0</td>\n",
       "      <td>0</td>\n",
       "      <td>0</td>\n",
       "      <td>0.00</td>\n",
       "      <td>3.0</td>\n",
       "      <td>3</td>\n",
       "      <td>0</td>\n",
       "    </tr>\n",
       "    <tr>\n",
       "      <th>1</th>\n",
       "      <td>1</td>\n",
       "      <td>1</td>\n",
       "      <td>CSK</td>\n",
       "      <td>Devon Conway</td>\n",
       "      <td>2</td>\n",
       "      <td>Umesh Yadav</td>\n",
       "      <td>c Shreyas Iyer b Umesh Yadav</td>\n",
       "      <td>3</td>\n",
       "      <td>8</td>\n",
       "      <td>5</td>\n",
       "      <td>3</td>\n",
       "      <td>0</td>\n",
       "      <td>0</td>\n",
       "      <td>0</td>\n",
       "      <td>0</td>\n",
       "      <td>37.50</td>\n",
       "      <td>2.0</td>\n",
       "      <td>8</td>\n",
       "      <td>0</td>\n",
       "    </tr>\n",
       "    <tr>\n",
       "      <th>2</th>\n",
       "      <td>1</td>\n",
       "      <td>1</td>\n",
       "      <td>CSK</td>\n",
       "      <td>Robin Uthappa</td>\n",
       "      <td>3</td>\n",
       "      <td>Varun Chakaravarthy</td>\n",
       "      <td>st Sheldon Jackson b Varun Chakaravarthy</td>\n",
       "      <td>28</td>\n",
       "      <td>21</td>\n",
       "      <td>10</td>\n",
       "      <td>6</td>\n",
       "      <td>1</td>\n",
       "      <td>0</td>\n",
       "      <td>2</td>\n",
       "      <td>2</td>\n",
       "      <td>133.33</td>\n",
       "      <td>5.0</td>\n",
       "      <td>15</td>\n",
       "      <td>6</td>\n",
       "    </tr>\n",
       "    <tr>\n",
       "      <th>3</th>\n",
       "      <td>1</td>\n",
       "      <td>1</td>\n",
       "      <td>CSK</td>\n",
       "      <td>Ambati Rayudu</td>\n",
       "      <td>4</td>\n",
       "      <td>Sunil Narine</td>\n",
       "      <td>run out (Shreyas Iyer)</td>\n",
       "      <td>15</td>\n",
       "      <td>17</td>\n",
       "      <td>10</td>\n",
       "      <td>5</td>\n",
       "      <td>0</td>\n",
       "      <td>0</td>\n",
       "      <td>1</td>\n",
       "      <td>1</td>\n",
       "      <td>88.24</td>\n",
       "      <td>1.0</td>\n",
       "      <td>4</td>\n",
       "      <td>13</td>\n",
       "    </tr>\n",
       "    <tr>\n",
       "      <th>4</th>\n",
       "      <td>1</td>\n",
       "      <td>1</td>\n",
       "      <td>CSK</td>\n",
       "      <td>Ravindra Jadeja</td>\n",
       "      <td>5</td>\n",
       "      <td>NaN</td>\n",
       "      <td>not out</td>\n",
       "      <td>26</td>\n",
       "      <td>28</td>\n",
       "      <td>8</td>\n",
       "      <td>18</td>\n",
       "      <td>1</td>\n",
       "      <td>0</td>\n",
       "      <td>0</td>\n",
       "      <td>1</td>\n",
       "      <td>92.86</td>\n",
       "      <td>NaN</td>\n",
       "      <td>14</td>\n",
       "      <td>14</td>\n",
       "    </tr>\n",
       "    <tr>\n",
       "      <th>...</th>\n",
       "      <td>...</td>\n",
       "      <td>...</td>\n",
       "      <td>...</td>\n",
       "      <td>...</td>\n",
       "      <td>...</td>\n",
       "      <td>...</td>\n",
       "      <td>...</td>\n",
       "      <td>...</td>\n",
       "      <td>...</td>\n",
       "      <td>...</td>\n",
       "      <td>...</td>\n",
       "      <td>...</td>\n",
       "      <td>...</td>\n",
       "      <td>...</td>\n",
       "      <td>...</td>\n",
       "      <td>...</td>\n",
       "      <td>...</td>\n",
       "      <td>...</td>\n",
       "      <td>...</td>\n",
       "    </tr>\n",
       "    <tr>\n",
       "      <th>1623</th>\n",
       "      <td>76</td>\n",
       "      <td>2</td>\n",
       "      <td>GT</td>\n",
       "      <td>Rashid Khan</td>\n",
       "      <td>7</td>\n",
       "      <td>NaN</td>\n",
       "      <td>NaN</td>\n",
       "      <td>0</td>\n",
       "      <td>0</td>\n",
       "      <td>0</td>\n",
       "      <td>0</td>\n",
       "      <td>0</td>\n",
       "      <td>0</td>\n",
       "      <td>0</td>\n",
       "      <td>0</td>\n",
       "      <td>-</td>\n",
       "      <td>NaN</td>\n",
       "      <td>0</td>\n",
       "      <td>0</td>\n",
       "    </tr>\n",
       "    <tr>\n",
       "      <th>1624</th>\n",
       "      <td>76</td>\n",
       "      <td>2</td>\n",
       "      <td>GT</td>\n",
       "      <td>Sai Kishore</td>\n",
       "      <td>8</td>\n",
       "      <td>NaN</td>\n",
       "      <td>NaN</td>\n",
       "      <td>0</td>\n",
       "      <td>0</td>\n",
       "      <td>0</td>\n",
       "      <td>0</td>\n",
       "      <td>0</td>\n",
       "      <td>0</td>\n",
       "      <td>0</td>\n",
       "      <td>0</td>\n",
       "      <td>-</td>\n",
       "      <td>NaN</td>\n",
       "      <td>0</td>\n",
       "      <td>0</td>\n",
       "    </tr>\n",
       "    <tr>\n",
       "      <th>1625</th>\n",
       "      <td>76</td>\n",
       "      <td>2</td>\n",
       "      <td>GT</td>\n",
       "      <td>Mohammad Shami</td>\n",
       "      <td>9</td>\n",
       "      <td>NaN</td>\n",
       "      <td>NaN</td>\n",
       "      <td>0</td>\n",
       "      <td>0</td>\n",
       "      <td>0</td>\n",
       "      <td>0</td>\n",
       "      <td>0</td>\n",
       "      <td>0</td>\n",
       "      <td>0</td>\n",
       "      <td>0</td>\n",
       "      <td>-</td>\n",
       "      <td>NaN</td>\n",
       "      <td>0</td>\n",
       "      <td>0</td>\n",
       "    </tr>\n",
       "    <tr>\n",
       "      <th>1626</th>\n",
       "      <td>76</td>\n",
       "      <td>2</td>\n",
       "      <td>GT</td>\n",
       "      <td>Lockie Ferguson</td>\n",
       "      <td>10</td>\n",
       "      <td>NaN</td>\n",
       "      <td>NaN</td>\n",
       "      <td>0</td>\n",
       "      <td>0</td>\n",
       "      <td>0</td>\n",
       "      <td>0</td>\n",
       "      <td>0</td>\n",
       "      <td>0</td>\n",
       "      <td>0</td>\n",
       "      <td>0</td>\n",
       "      <td>-</td>\n",
       "      <td>NaN</td>\n",
       "      <td>0</td>\n",
       "      <td>0</td>\n",
       "    </tr>\n",
       "    <tr>\n",
       "      <th>1627</th>\n",
       "      <td>76</td>\n",
       "      <td>2</td>\n",
       "      <td>GT</td>\n",
       "      <td>Yash Dayal</td>\n",
       "      <td>11</td>\n",
       "      <td>NaN</td>\n",
       "      <td>NaN</td>\n",
       "      <td>0</td>\n",
       "      <td>0</td>\n",
       "      <td>0</td>\n",
       "      <td>0</td>\n",
       "      <td>0</td>\n",
       "      <td>0</td>\n",
       "      <td>0</td>\n",
       "      <td>0</td>\n",
       "      <td>-</td>\n",
       "      <td>NaN</td>\n",
       "      <td>0</td>\n",
       "      <td>0</td>\n",
       "    </tr>\n",
       "  </tbody>\n",
       "</table>\n",
       "<p>1628 rows × 19 columns</p>\n",
       "</div>"
      ],
      "text/plain": [
       "      MatchID  InningsNo Team        PlayerName  MatchPlayingOrder  \\\n",
       "0           1          1  CSK  Ruturaj  Gaikwad                  1   \n",
       "1           1          1  CSK      Devon Conway                  2   \n",
       "2           1          1  CSK     Robin Uthappa                  3   \n",
       "3           1          1  CSK     Ambati Rayudu                  4   \n",
       "4           1          1  CSK   Ravindra Jadeja                  5   \n",
       "...       ...        ...  ...               ...                ...   \n",
       "1623       76          2   GT       Rashid Khan                  7   \n",
       "1624       76          2   GT       Sai Kishore                  8   \n",
       "1625       76          2   GT    Mohammad Shami                  9   \n",
       "1626       76          2   GT   Lockie Ferguson                 10   \n",
       "1627       76          2   GT        Yash Dayal                 11   \n",
       "\n",
       "               BowlerName                                   OutDesc  Runs  \\\n",
       "0             Umesh Yadav               c Nitish Rana b Umesh Yadav     0   \n",
       "1             Umesh Yadav              c Shreyas Iyer b Umesh Yadav     3   \n",
       "2     Varun Chakaravarthy  st Sheldon Jackson b Varun Chakaravarthy    28   \n",
       "3            Sunil Narine                    run out (Shreyas Iyer)    15   \n",
       "4                     NaN                                   not out    26   \n",
       "...                   ...                                       ...   ...   \n",
       "1623                  NaN                                       NaN     0   \n",
       "1624                  NaN                                       NaN     0   \n",
       "1625                  NaN                                       NaN     0   \n",
       "1626                  NaN                                       NaN     0   \n",
       "1627                  NaN                                       NaN     0   \n",
       "\n",
       "      Balls  DotBalls  Ones  Twos  Threes  Fours  Sixes StrikeRate  WicketNo  \\\n",
       "0         4         4     0     0       0      0      0       0.00       3.0   \n",
       "1         8         5     3     0       0      0      0      37.50       2.0   \n",
       "2        21        10     6     1       0      2      2     133.33       5.0   \n",
       "3        17        10     5     0       0      1      1      88.24       1.0   \n",
       "4        28         8    18     1       0      0      1      92.86       NaN   \n",
       "...     ...       ...   ...   ...     ...    ...    ...        ...       ...   \n",
       "1623      0         0     0     0       0      0      0          -       NaN   \n",
       "1624      0         0     0     0       0      0      0          -       NaN   \n",
       "1625      0         0     0     0       0      0      0          -       NaN   \n",
       "1626      0         0     0     0       0      0      0          -       NaN   \n",
       "1627      0         0     0     0       0      0      0          -       NaN   \n",
       "\n",
       "      AgainstFast  AgainstSpin  \n",
       "0               3            0  \n",
       "1               8            0  \n",
       "2              15            6  \n",
       "3               4           13  \n",
       "4              14           14  \n",
       "...           ...          ...  \n",
       "1623            0            0  \n",
       "1624            0            0  \n",
       "1625            0            0  \n",
       "1626            0            0  \n",
       "1627            0            0  \n",
       "\n",
       "[1628 rows x 19 columns]"
      ]
     },
     "execution_count": 18,
     "metadata": {},
     "output_type": "execute_result"
    }
   ],
   "source": [
    "df"
   ]
  },
  {
   "cell_type": "markdown",
   "metadata": {},
   "source": [
    "# print the detail of CSK team"
   ]
  },
  {
   "cell_type": "code",
   "execution_count": 19,
   "metadata": {},
   "outputs": [
    {
     "data": {
      "text/html": [
       "<div>\n",
       "<style scoped>\n",
       "    .dataframe tbody tr th:only-of-type {\n",
       "        vertical-align: middle;\n",
       "    }\n",
       "\n",
       "    .dataframe tbody tr th {\n",
       "        vertical-align: top;\n",
       "    }\n",
       "\n",
       "    .dataframe thead th {\n",
       "        text-align: right;\n",
       "    }\n",
       "</style>\n",
       "<table border=\"1\" class=\"dataframe\">\n",
       "  <thead>\n",
       "    <tr style=\"text-align: right;\">\n",
       "      <th></th>\n",
       "      <th>MatchID</th>\n",
       "      <th>InningsNo</th>\n",
       "      <th>Team</th>\n",
       "      <th>PlayerName</th>\n",
       "      <th>MatchPlayingOrder</th>\n",
       "      <th>BowlerName</th>\n",
       "      <th>OutDesc</th>\n",
       "      <th>Runs</th>\n",
       "      <th>Balls</th>\n",
       "      <th>DotBalls</th>\n",
       "      <th>Ones</th>\n",
       "      <th>Twos</th>\n",
       "      <th>Threes</th>\n",
       "      <th>Fours</th>\n",
       "      <th>Sixes</th>\n",
       "      <th>StrikeRate</th>\n",
       "      <th>WicketNo</th>\n",
       "      <th>AgainstFast</th>\n",
       "      <th>AgainstSpin</th>\n",
       "    </tr>\n",
       "  </thead>\n",
       "  <tbody>\n",
       "    <tr>\n",
       "      <th>0</th>\n",
       "      <td>1</td>\n",
       "      <td>1</td>\n",
       "      <td>CSK</td>\n",
       "      <td>Ruturaj  Gaikwad</td>\n",
       "      <td>1</td>\n",
       "      <td>Umesh Yadav</td>\n",
       "      <td>c Nitish Rana b Umesh Yadav</td>\n",
       "      <td>0</td>\n",
       "      <td>4</td>\n",
       "      <td>4</td>\n",
       "      <td>0</td>\n",
       "      <td>0</td>\n",
       "      <td>0</td>\n",
       "      <td>0</td>\n",
       "      <td>0</td>\n",
       "      <td>0.00</td>\n",
       "      <td>3.0</td>\n",
       "      <td>3</td>\n",
       "      <td>0</td>\n",
       "    </tr>\n",
       "    <tr>\n",
       "      <th>1</th>\n",
       "      <td>1</td>\n",
       "      <td>1</td>\n",
       "      <td>CSK</td>\n",
       "      <td>Devon Conway</td>\n",
       "      <td>2</td>\n",
       "      <td>Umesh Yadav</td>\n",
       "      <td>c Shreyas Iyer b Umesh Yadav</td>\n",
       "      <td>3</td>\n",
       "      <td>8</td>\n",
       "      <td>5</td>\n",
       "      <td>3</td>\n",
       "      <td>0</td>\n",
       "      <td>0</td>\n",
       "      <td>0</td>\n",
       "      <td>0</td>\n",
       "      <td>37.50</td>\n",
       "      <td>2.0</td>\n",
       "      <td>8</td>\n",
       "      <td>0</td>\n",
       "    </tr>\n",
       "    <tr>\n",
       "      <th>2</th>\n",
       "      <td>1</td>\n",
       "      <td>1</td>\n",
       "      <td>CSK</td>\n",
       "      <td>Robin Uthappa</td>\n",
       "      <td>3</td>\n",
       "      <td>Varun Chakaravarthy</td>\n",
       "      <td>st Sheldon Jackson b Varun Chakaravarthy</td>\n",
       "      <td>28</td>\n",
       "      <td>21</td>\n",
       "      <td>10</td>\n",
       "      <td>6</td>\n",
       "      <td>1</td>\n",
       "      <td>0</td>\n",
       "      <td>2</td>\n",
       "      <td>2</td>\n",
       "      <td>133.33</td>\n",
       "      <td>5.0</td>\n",
       "      <td>15</td>\n",
       "      <td>6</td>\n",
       "    </tr>\n",
       "    <tr>\n",
       "      <th>3</th>\n",
       "      <td>1</td>\n",
       "      <td>1</td>\n",
       "      <td>CSK</td>\n",
       "      <td>Ambati Rayudu</td>\n",
       "      <td>4</td>\n",
       "      <td>Sunil Narine</td>\n",
       "      <td>run out (Shreyas Iyer)</td>\n",
       "      <td>15</td>\n",
       "      <td>17</td>\n",
       "      <td>10</td>\n",
       "      <td>5</td>\n",
       "      <td>0</td>\n",
       "      <td>0</td>\n",
       "      <td>1</td>\n",
       "      <td>1</td>\n",
       "      <td>88.24</td>\n",
       "      <td>1.0</td>\n",
       "      <td>4</td>\n",
       "      <td>13</td>\n",
       "    </tr>\n",
       "    <tr>\n",
       "      <th>4</th>\n",
       "      <td>1</td>\n",
       "      <td>1</td>\n",
       "      <td>CSK</td>\n",
       "      <td>Ravindra Jadeja</td>\n",
       "      <td>5</td>\n",
       "      <td>NaN</td>\n",
       "      <td>not out</td>\n",
       "      <td>26</td>\n",
       "      <td>28</td>\n",
       "      <td>8</td>\n",
       "      <td>18</td>\n",
       "      <td>1</td>\n",
       "      <td>0</td>\n",
       "      <td>0</td>\n",
       "      <td>1</td>\n",
       "      <td>92.86</td>\n",
       "      <td>NaN</td>\n",
       "      <td>14</td>\n",
       "      <td>14</td>\n",
       "    </tr>\n",
       "    <tr>\n",
       "      <th>...</th>\n",
       "      <td>...</td>\n",
       "      <td>...</td>\n",
       "      <td>...</td>\n",
       "      <td>...</td>\n",
       "      <td>...</td>\n",
       "      <td>...</td>\n",
       "      <td>...</td>\n",
       "      <td>...</td>\n",
       "      <td>...</td>\n",
       "      <td>...</td>\n",
       "      <td>...</td>\n",
       "      <td>...</td>\n",
       "      <td>...</td>\n",
       "      <td>...</td>\n",
       "      <td>...</td>\n",
       "      <td>...</td>\n",
       "      <td>...</td>\n",
       "      <td>...</td>\n",
       "      <td>...</td>\n",
       "    </tr>\n",
       "    <tr>\n",
       "      <th>1480</th>\n",
       "      <td>68</td>\n",
       "      <td>1</td>\n",
       "      <td>CSK</td>\n",
       "      <td>Mitchell Santner</td>\n",
       "      <td>7</td>\n",
       "      <td>NaN</td>\n",
       "      <td>not out</td>\n",
       "      <td>1</td>\n",
       "      <td>2</td>\n",
       "      <td>1</td>\n",
       "      <td>1</td>\n",
       "      <td>0</td>\n",
       "      <td>0</td>\n",
       "      <td>0</td>\n",
       "      <td>0</td>\n",
       "      <td>50.00</td>\n",
       "      <td>NaN</td>\n",
       "      <td>2</td>\n",
       "      <td>0</td>\n",
       "    </tr>\n",
       "    <tr>\n",
       "      <th>1481</th>\n",
       "      <td>68</td>\n",
       "      <td>1</td>\n",
       "      <td>CSK</td>\n",
       "      <td>Simarjeet Singh</td>\n",
       "      <td>10</td>\n",
       "      <td>NaN</td>\n",
       "      <td>not out</td>\n",
       "      <td>3</td>\n",
       "      <td>3</td>\n",
       "      <td>1</td>\n",
       "      <td>1</td>\n",
       "      <td>1</td>\n",
       "      <td>0</td>\n",
       "      <td>0</td>\n",
       "      <td>0</td>\n",
       "      <td>100.00</td>\n",
       "      <td>NaN</td>\n",
       "      <td>3</td>\n",
       "      <td>0</td>\n",
       "    </tr>\n",
       "    <tr>\n",
       "      <th>1482</th>\n",
       "      <td>68</td>\n",
       "      <td>1</td>\n",
       "      <td>CSK</td>\n",
       "      <td>Prashant Solanki</td>\n",
       "      <td>8</td>\n",
       "      <td>NaN</td>\n",
       "      <td>NaN</td>\n",
       "      <td>0</td>\n",
       "      <td>0</td>\n",
       "      <td>0</td>\n",
       "      <td>0</td>\n",
       "      <td>0</td>\n",
       "      <td>0</td>\n",
       "      <td>0</td>\n",
       "      <td>0</td>\n",
       "      <td>-</td>\n",
       "      <td>NaN</td>\n",
       "      <td>0</td>\n",
       "      <td>0</td>\n",
       "    </tr>\n",
       "    <tr>\n",
       "      <th>1483</th>\n",
       "      <td>68</td>\n",
       "      <td>1</td>\n",
       "      <td>CSK</td>\n",
       "      <td>Mukesh Choudhary</td>\n",
       "      <td>9</td>\n",
       "      <td>NaN</td>\n",
       "      <td>NaN</td>\n",
       "      <td>0</td>\n",
       "      <td>0</td>\n",
       "      <td>0</td>\n",
       "      <td>0</td>\n",
       "      <td>0</td>\n",
       "      <td>0</td>\n",
       "      <td>0</td>\n",
       "      <td>0</td>\n",
       "      <td>-</td>\n",
       "      <td>NaN</td>\n",
       "      <td>0</td>\n",
       "      <td>0</td>\n",
       "    </tr>\n",
       "    <tr>\n",
       "      <th>1484</th>\n",
       "      <td>68</td>\n",
       "      <td>1</td>\n",
       "      <td>CSK</td>\n",
       "      <td>Matheesha Pathirana</td>\n",
       "      <td>11</td>\n",
       "      <td>NaN</td>\n",
       "      <td>NaN</td>\n",
       "      <td>0</td>\n",
       "      <td>0</td>\n",
       "      <td>0</td>\n",
       "      <td>0</td>\n",
       "      <td>0</td>\n",
       "      <td>0</td>\n",
       "      <td>0</td>\n",
       "      <td>0</td>\n",
       "      <td>-</td>\n",
       "      <td>NaN</td>\n",
       "      <td>0</td>\n",
       "      <td>0</td>\n",
       "    </tr>\n",
       "  </tbody>\n",
       "</table>\n",
       "<p>154 rows × 19 columns</p>\n",
       "</div>"
      ],
      "text/plain": [
       "      MatchID  InningsNo Team           PlayerName  MatchPlayingOrder  \\\n",
       "0           1          1  CSK     Ruturaj  Gaikwad                  1   \n",
       "1           1          1  CSK         Devon Conway                  2   \n",
       "2           1          1  CSK        Robin Uthappa                  3   \n",
       "3           1          1  CSK        Ambati Rayudu                  4   \n",
       "4           1          1  CSK      Ravindra Jadeja                  5   \n",
       "...       ...        ...  ...                  ...                ...   \n",
       "1480       68          1  CSK     Mitchell Santner                  7   \n",
       "1481       68          1  CSK      Simarjeet Singh                 10   \n",
       "1482       68          1  CSK     Prashant Solanki                  8   \n",
       "1483       68          1  CSK     Mukesh Choudhary                  9   \n",
       "1484       68          1  CSK  Matheesha Pathirana                 11   \n",
       "\n",
       "               BowlerName                                   OutDesc  Runs  \\\n",
       "0             Umesh Yadav               c Nitish Rana b Umesh Yadav     0   \n",
       "1             Umesh Yadav              c Shreyas Iyer b Umesh Yadav     3   \n",
       "2     Varun Chakaravarthy  st Sheldon Jackson b Varun Chakaravarthy    28   \n",
       "3            Sunil Narine                    run out (Shreyas Iyer)    15   \n",
       "4                     NaN                                   not out    26   \n",
       "...                   ...                                       ...   ...   \n",
       "1480                  NaN                                   not out     1   \n",
       "1481                  NaN                                   not out     3   \n",
       "1482                  NaN                                       NaN     0   \n",
       "1483                  NaN                                       NaN     0   \n",
       "1484                  NaN                                       NaN     0   \n",
       "\n",
       "      Balls  DotBalls  Ones  Twos  Threes  Fours  Sixes StrikeRate  WicketNo  \\\n",
       "0         4         4     0     0       0      0      0       0.00       3.0   \n",
       "1         8         5     3     0       0      0      0      37.50       2.0   \n",
       "2        21        10     6     1       0      2      2     133.33       5.0   \n",
       "3        17        10     5     0       0      1      1      88.24       1.0   \n",
       "4        28         8    18     1       0      0      1      92.86       NaN   \n",
       "...     ...       ...   ...   ...     ...    ...    ...        ...       ...   \n",
       "1480      2         1     1     0       0      0      0      50.00       NaN   \n",
       "1481      3         1     1     1       0      0      0     100.00       NaN   \n",
       "1482      0         0     0     0       0      0      0          -       NaN   \n",
       "1483      0         0     0     0       0      0      0          -       NaN   \n",
       "1484      0         0     0     0       0      0      0          -       NaN   \n",
       "\n",
       "      AgainstFast  AgainstSpin  \n",
       "0               3            0  \n",
       "1               8            0  \n",
       "2              15            6  \n",
       "3               4           13  \n",
       "4              14           14  \n",
       "...           ...          ...  \n",
       "1480            2            0  \n",
       "1481            3            0  \n",
       "1482            0            0  \n",
       "1483            0            0  \n",
       "1484            0            0  \n",
       "\n",
       "[154 rows x 19 columns]"
      ]
     },
     "execution_count": 19,
     "metadata": {},
     "output_type": "execute_result"
    }
   ],
   "source": [
    "chennai = df['Team']=='CSK'\n",
    "a = df[chennai]\n",
    "a"
   ]
  },
  {
   "cell_type": "markdown",
   "metadata": {},
   "source": [
    "# find the total runs, sixes, fours, etc by CSK team"
   ]
  },
  {
   "cell_type": "code",
   "execution_count": 20,
   "metadata": {},
   "outputs": [
    {
     "name": "stdout",
     "output_type": "stream",
     "text": [
      "Total runs 2165\n",
      "Total sixes 103\n",
      "Total fours 183\n",
      "Total Dot balls 653\n",
      "Maximum Strike Rate of Player 92.86\n"
     ]
    }
   ],
   "source": [
    "print(\"Total runs\" ,a['Runs'].sum())\n",
    "print(\"Total sixes\",a['Sixes'].sum())\n",
    "print(\"Total fours\",a['Fours'].sum())\n",
    "print(\"Total Dot balls\",a['DotBalls'].sum())\n",
    "print(\"Maximum Strike Rate of Player\",a['StrikeRate'].max())"
   ]
  },
  {
   "cell_type": "code",
   "execution_count": 21,
   "metadata": {},
   "outputs": [
    {
     "data": {
      "text/plain": [
       "'92.86'"
      ]
     },
     "execution_count": 21,
     "metadata": {},
     "output_type": "execute_result"
    }
   ],
   "source": [
    "a['StrikeRate'].max()"
   ]
  },
  {
   "cell_type": "code",
   "execution_count": 22,
   "metadata": {},
   "outputs": [
    {
     "data": {
      "text/html": [
       "<div>\n",
       "<style scoped>\n",
       "    .dataframe tbody tr th:only-of-type {\n",
       "        vertical-align: middle;\n",
       "    }\n",
       "\n",
       "    .dataframe tbody tr th {\n",
       "        vertical-align: top;\n",
       "    }\n",
       "\n",
       "    .dataframe thead th {\n",
       "        text-align: right;\n",
       "    }\n",
       "</style>\n",
       "<table border=\"1\" class=\"dataframe\">\n",
       "  <thead>\n",
       "    <tr style=\"text-align: right;\">\n",
       "      <th></th>\n",
       "      <th>MatchID</th>\n",
       "      <th>InningsNo</th>\n",
       "      <th>Team</th>\n",
       "      <th>PlayerName</th>\n",
       "      <th>MatchPlayingOrder</th>\n",
       "      <th>BowlerName</th>\n",
       "      <th>OutDesc</th>\n",
       "      <th>Runs</th>\n",
       "      <th>Balls</th>\n",
       "      <th>DotBalls</th>\n",
       "      <th>Ones</th>\n",
       "      <th>Twos</th>\n",
       "      <th>Threes</th>\n",
       "      <th>Fours</th>\n",
       "      <th>Sixes</th>\n",
       "      <th>StrikeRate</th>\n",
       "      <th>WicketNo</th>\n",
       "      <th>AgainstFast</th>\n",
       "      <th>AgainstSpin</th>\n",
       "    </tr>\n",
       "  </thead>\n",
       "  <tbody>\n",
       "    <tr>\n",
       "      <th>44</th>\n",
       "      <td>3</td>\n",
       "      <td>1</td>\n",
       "      <td>RCB</td>\n",
       "      <td>Faf Du Plessis</td>\n",
       "      <td>1</td>\n",
       "      <td>Arshdeep Singh</td>\n",
       "      <td>c Shahrukh Khan b Arshdeep Singh</td>\n",
       "      <td>88</td>\n",
       "      <td>57</td>\n",
       "      <td>21</td>\n",
       "      <td>18</td>\n",
       "      <td>8</td>\n",
       "      <td>0</td>\n",
       "      <td>3</td>\n",
       "      <td>7</td>\n",
       "      <td>154.39</td>\n",
       "      <td>1.0</td>\n",
       "      <td>31</td>\n",
       "      <td>26</td>\n",
       "    </tr>\n",
       "    <tr>\n",
       "      <th>45</th>\n",
       "      <td>3</td>\n",
       "      <td>1</td>\n",
       "      <td>RCB</td>\n",
       "      <td>Anuj Rawat</td>\n",
       "      <td>2</td>\n",
       "      <td>Rahul Chahar</td>\n",
       "      <td>b Rahul Chahar</td>\n",
       "      <td>21</td>\n",
       "      <td>20</td>\n",
       "      <td>12</td>\n",
       "      <td>3</td>\n",
       "      <td>2</td>\n",
       "      <td>0</td>\n",
       "      <td>2</td>\n",
       "      <td>1</td>\n",
       "      <td>105.00</td>\n",
       "      <td>9.0</td>\n",
       "      <td>17</td>\n",
       "      <td>3</td>\n",
       "    </tr>\n",
       "    <tr>\n",
       "      <th>46</th>\n",
       "      <td>3</td>\n",
       "      <td>1</td>\n",
       "      <td>RCB</td>\n",
       "      <td>Virat Kohli</td>\n",
       "      <td>3</td>\n",
       "      <td>NaN</td>\n",
       "      <td>not out</td>\n",
       "      <td>41</td>\n",
       "      <td>29</td>\n",
       "      <td>5</td>\n",
       "      <td>17</td>\n",
       "      <td>4</td>\n",
       "      <td>0</td>\n",
       "      <td>1</td>\n",
       "      <td>2</td>\n",
       "      <td>141.38</td>\n",
       "      <td>NaN</td>\n",
       "      <td>10</td>\n",
       "      <td>19</td>\n",
       "    </tr>\n",
       "    <tr>\n",
       "      <th>47</th>\n",
       "      <td>3</td>\n",
       "      <td>1</td>\n",
       "      <td>RCB</td>\n",
       "      <td>Dinesh Karthik</td>\n",
       "      <td>4</td>\n",
       "      <td>NaN</td>\n",
       "      <td>not out</td>\n",
       "      <td>32</td>\n",
       "      <td>14</td>\n",
       "      <td>6</td>\n",
       "      <td>2</td>\n",
       "      <td>0</td>\n",
       "      <td>0</td>\n",
       "      <td>3</td>\n",
       "      <td>3</td>\n",
       "      <td>228.57</td>\n",
       "      <td>NaN</td>\n",
       "      <td>14</td>\n",
       "      <td>0</td>\n",
       "    </tr>\n",
       "    <tr>\n",
       "      <th>48</th>\n",
       "      <td>3</td>\n",
       "      <td>1</td>\n",
       "      <td>RCB</td>\n",
       "      <td>Sherfane Rutherford</td>\n",
       "      <td>5</td>\n",
       "      <td>NaN</td>\n",
       "      <td>NaN</td>\n",
       "      <td>0</td>\n",
       "      <td>0</td>\n",
       "      <td>0</td>\n",
       "      <td>0</td>\n",
       "      <td>0</td>\n",
       "      <td>0</td>\n",
       "      <td>0</td>\n",
       "      <td>0</td>\n",
       "      <td>-</td>\n",
       "      <td>NaN</td>\n",
       "      <td>0</td>\n",
       "      <td>0</td>\n",
       "    </tr>\n",
       "    <tr>\n",
       "      <th>...</th>\n",
       "      <td>...</td>\n",
       "      <td>...</td>\n",
       "      <td>...</td>\n",
       "      <td>...</td>\n",
       "      <td>...</td>\n",
       "      <td>...</td>\n",
       "      <td>...</td>\n",
       "      <td>...</td>\n",
       "      <td>...</td>\n",
       "      <td>...</td>\n",
       "      <td>...</td>\n",
       "      <td>...</td>\n",
       "      <td>...</td>\n",
       "      <td>...</td>\n",
       "      <td>...</td>\n",
       "      <td>...</td>\n",
       "      <td>...</td>\n",
       "      <td>...</td>\n",
       "      <td>...</td>\n",
       "    </tr>\n",
       "    <tr>\n",
       "      <th>1590</th>\n",
       "      <td>75</td>\n",
       "      <td>1</td>\n",
       "      <td>RCB</td>\n",
       "      <td>Shahbaz Ahmed</td>\n",
       "      <td>7</td>\n",
       "      <td>NaN</td>\n",
       "      <td>not out</td>\n",
       "      <td>12</td>\n",
       "      <td>8</td>\n",
       "      <td>5</td>\n",
       "      <td>0</td>\n",
       "      <td>1</td>\n",
       "      <td>0</td>\n",
       "      <td>1</td>\n",
       "      <td>1</td>\n",
       "      <td>150.00</td>\n",
       "      <td>NaN</td>\n",
       "      <td>8</td>\n",
       "      <td>0</td>\n",
       "    </tr>\n",
       "    <tr>\n",
       "      <th>1591</th>\n",
       "      <td>75</td>\n",
       "      <td>1</td>\n",
       "      <td>RCB</td>\n",
       "      <td>Wanindu Hasaranga</td>\n",
       "      <td>8</td>\n",
       "      <td>Prasidh Krishna</td>\n",
       "      <td>b Prasidh Krishna</td>\n",
       "      <td>0</td>\n",
       "      <td>1</td>\n",
       "      <td>1</td>\n",
       "      <td>0</td>\n",
       "      <td>0</td>\n",
       "      <td>0</td>\n",
       "      <td>0</td>\n",
       "      <td>0</td>\n",
       "      <td>0.00</td>\n",
       "      <td>9.0</td>\n",
       "      <td>1</td>\n",
       "      <td>0</td>\n",
       "    </tr>\n",
       "    <tr>\n",
       "      <th>1592</th>\n",
       "      <td>75</td>\n",
       "      <td>1</td>\n",
       "      <td>RCB</td>\n",
       "      <td>Harshal Patel</td>\n",
       "      <td>9</td>\n",
       "      <td>Obed McCoy</td>\n",
       "      <td>b Obed McCoy</td>\n",
       "      <td>1</td>\n",
       "      <td>2</td>\n",
       "      <td>1</td>\n",
       "      <td>1</td>\n",
       "      <td>0</td>\n",
       "      <td>0</td>\n",
       "      <td>0</td>\n",
       "      <td>0</td>\n",
       "      <td>50.00</td>\n",
       "      <td>7.0</td>\n",
       "      <td>2</td>\n",
       "      <td>0</td>\n",
       "    </tr>\n",
       "    <tr>\n",
       "      <th>1593</th>\n",
       "      <td>75</td>\n",
       "      <td>1</td>\n",
       "      <td>RCB</td>\n",
       "      <td>Josh Hazlewood</td>\n",
       "      <td>10</td>\n",
       "      <td>NaN</td>\n",
       "      <td>not out</td>\n",
       "      <td>1</td>\n",
       "      <td>2</td>\n",
       "      <td>1</td>\n",
       "      <td>1</td>\n",
       "      <td>0</td>\n",
       "      <td>0</td>\n",
       "      <td>0</td>\n",
       "      <td>0</td>\n",
       "      <td>50.00</td>\n",
       "      <td>NaN</td>\n",
       "      <td>2</td>\n",
       "      <td>0</td>\n",
       "    </tr>\n",
       "    <tr>\n",
       "      <th>1594</th>\n",
       "      <td>75</td>\n",
       "      <td>1</td>\n",
       "      <td>RCB</td>\n",
       "      <td>Mohammed Siraj</td>\n",
       "      <td>11</td>\n",
       "      <td>NaN</td>\n",
       "      <td>NaN</td>\n",
       "      <td>0</td>\n",
       "      <td>0</td>\n",
       "      <td>0</td>\n",
       "      <td>0</td>\n",
       "      <td>0</td>\n",
       "      <td>0</td>\n",
       "      <td>0</td>\n",
       "      <td>0</td>\n",
       "      <td>-</td>\n",
       "      <td>NaN</td>\n",
       "      <td>0</td>\n",
       "      <td>0</td>\n",
       "    </tr>\n",
       "  </tbody>\n",
       "</table>\n",
       "<p>176 rows × 19 columns</p>\n",
       "</div>"
      ],
      "text/plain": [
       "      MatchID  InningsNo Team           PlayerName  MatchPlayingOrder  \\\n",
       "44          3          1  RCB       Faf Du Plessis                  1   \n",
       "45          3          1  RCB           Anuj Rawat                  2   \n",
       "46          3          1  RCB          Virat Kohli                  3   \n",
       "47          3          1  RCB       Dinesh Karthik                  4   \n",
       "48          3          1  RCB  Sherfane Rutherford                  5   \n",
       "...       ...        ...  ...                  ...                ...   \n",
       "1590       75          1  RCB        Shahbaz Ahmed                  7   \n",
       "1591       75          1  RCB    Wanindu Hasaranga                  8   \n",
       "1592       75          1  RCB        Harshal Patel                  9   \n",
       "1593       75          1  RCB       Josh Hazlewood                 10   \n",
       "1594       75          1  RCB       Mohammed Siraj                 11   \n",
       "\n",
       "           BowlerName                           OutDesc  Runs  Balls  \\\n",
       "44     Arshdeep Singh  c Shahrukh Khan b Arshdeep Singh    88     57   \n",
       "45       Rahul Chahar                    b Rahul Chahar    21     20   \n",
       "46                NaN                           not out    41     29   \n",
       "47                NaN                           not out    32     14   \n",
       "48                NaN                               NaN     0      0   \n",
       "...               ...                               ...   ...    ...   \n",
       "1590              NaN                           not out    12      8   \n",
       "1591  Prasidh Krishna                 b Prasidh Krishna     0      1   \n",
       "1592       Obed McCoy                      b Obed McCoy     1      2   \n",
       "1593              NaN                           not out     1      2   \n",
       "1594              NaN                               NaN     0      0   \n",
       "\n",
       "      DotBalls  Ones  Twos  Threes  Fours  Sixes StrikeRate  WicketNo  \\\n",
       "44          21    18     8       0      3      7     154.39       1.0   \n",
       "45          12     3     2       0      2      1     105.00       9.0   \n",
       "46           5    17     4       0      1      2     141.38       NaN   \n",
       "47           6     2     0       0      3      3     228.57       NaN   \n",
       "48           0     0     0       0      0      0          -       NaN   \n",
       "...        ...   ...   ...     ...    ...    ...        ...       ...   \n",
       "1590         5     0     1       0      1      1     150.00       NaN   \n",
       "1591         1     0     0       0      0      0       0.00       9.0   \n",
       "1592         1     1     0       0      0      0      50.00       7.0   \n",
       "1593         1     1     0       0      0      0      50.00       NaN   \n",
       "1594         0     0     0       0      0      0          -       NaN   \n",
       "\n",
       "      AgainstFast  AgainstSpin  \n",
       "44             31           26  \n",
       "45             17            3  \n",
       "46             10           19  \n",
       "47             14            0  \n",
       "48              0            0  \n",
       "...           ...          ...  \n",
       "1590            8            0  \n",
       "1591            1            0  \n",
       "1592            2            0  \n",
       "1593            2            0  \n",
       "1594            0            0  \n",
       "\n",
       "[176 rows x 19 columns]"
      ]
     },
     "execution_count": 22,
     "metadata": {},
     "output_type": "execute_result"
    }
   ],
   "source": [
    "team = input(\"Enter Team\")\n",
    "chennai = df['Team']==team\n",
    "b = df[chennai]\n",
    "b"
   ]
  },
  {
   "cell_type": "code",
   "execution_count": 23,
   "metadata": {},
   "outputs": [
    {
     "name": "stdout",
     "output_type": "stream",
     "text": [
      "176\n",
      "['Faf Du Plessis', 'Anuj Rawat', 'Virat Kohli', 'Dinesh Karthik', 'Sherfane Rutherford', 'David Willey', 'Wanindu Hasaranga', 'Shahbaz Ahmed', 'Harshal Patel', 'Mohammed Siraj', 'Akash Deep', 'Faf Du Plessis', 'Anuj Rawat', 'Virat Kohli', 'David Willey', 'Sherfane Rutherford', 'Shahbaz Ahmed', 'Dinesh Karthik', 'Wanindu Hasaranga', 'Harshal Patel', 'Mohammed Siraj', 'Akash Deep', 'Faf Du Plessis', 'Anuj Rawat', 'Virat Kohli', 'David Willey', 'Sherfane Rutherford', 'Shahbaz Ahmed', 'Dinesh Karthik', 'Harshal Patel', 'Wanindu Hasaranga', 'Mohammed Siraj', 'Akash Deep', 'Faf Du Plessis', 'Anuj Rawat', 'Virat Kohli', 'Dinesh Karthik', 'Glenn Maxwell', 'Shahbaz Ahmed', 'Harshal Patel', 'David Willey', 'Wanindu Hasaranga', 'Akash Deep', 'Mohammed Siraj', 'Faf Du Plessis', 'Anuj Rawat', 'Virat Kohli', 'Glenn Maxwell', 'Shahbaz Ahmed', 'Suyash S Prabhudessai', 'Dinesh Karthik', 'Wanindu Hasaranga', 'Akash Deep', 'Mohammed Siraj', 'Josh Hazlewood', 'Faf Du Plessis', 'Anuj Rawat', 'Virat Kohli', 'Glenn Maxwell', 'Suyash S Prabhudessai', 'Shahbaz Ahmed', 'Dinesh Karthik', 'Wanindu Hasaranga', 'Harshal Patel', 'Josh Hazlewood', 'Mohammed Siraj', 'Anuj Rawat', 'Faf Du Plessis', 'Virat Kohli', 'Glenn Maxwell', 'Suyash S Prabhudessai', 'Shahbaz Ahmed', 'Dinesh Karthik', 'Harshal Patel', 'Wanindu Hasaranga', 'Josh Hazlewood', 'Mohammed Siraj', 'Faf Du Plessis', 'Anuj Rawat', 'Virat Kohli', 'Glenn Maxwell', 'Suyash S Prabhudessai', 'Shahbaz Ahmed', 'Dinesh Karthik', 'Harshal Patel', 'Wanindu Hasaranga', 'Josh Hazlewood', 'Mohammed Siraj', 'Virat Kohli', 'Faf Du Plessis', 'Rajat Patidar', 'Glenn Maxwell', 'Shahbaz Ahmed', 'Suyash S Prabhudessai', 'Dinesh Karthik', 'Wanindu Hasaranga', 'Harshal Patel', 'Mohammed Siraj', 'Josh Hazlewood', 'Virat Kohli', 'Faf Du Plessis', 'Rajat Patidar', 'Glenn Maxwell', 'Dinesh Karthik', 'Shahbaz Ahmed', 'Mahipal Lomror', 'Wanindu Hasaranga', 'Harshal Patel', 'Josh Hazlewood', 'Mohammed Siraj', 'Virat Kohli', 'Faf Du Plessis', 'Glenn Maxwell', 'Mahipal Lomror', 'Rajat Patidar', 'Dinesh Karthik', 'Wanindu Hasaranga', 'Shahbaz Ahmed', 'Harshal Patel', 'Mohammed Siraj', 'Josh Hazlewood', 'Virat Kohli', 'Faf Du Plessis', 'Rajat Patidar', 'Glenn Maxwell', 'Dinesh Karthik', 'Mahipal Lomror', 'Shahbaz Ahmed', 'Wanindu Hasaranga', 'Harshal Patel', 'Josh Hazlewood', 'Mohammed Siraj', 'Virat Kohli', 'Faf Du Plessis', 'Rajat Patidar', 'Mahipal Lomror', 'Glenn Maxwell', 'Dinesh Karthik', 'Shahbaz Ahmed', 'Harshal Patel', 'Wanindu Hasaranga', 'Mohammed Siraj', 'Josh Hazlewood', 'Virat Kohli', 'Faf Du Plessis', 'Glenn Maxwell', 'Dinesh Karthik', 'Rajat Patidar', 'Mahipal Lomror', 'Shahbaz Ahmed', 'Wanindu Hasaranga', 'Harshal Patel', 'Siddarth Kaul', 'Josh Hazlewood', 'Virat Kohli', 'Faf Du Plessis', 'Rajat Patidar', 'Glenn Maxwell', 'Mahipal Lomror', 'Dinesh Karthik', 'Shahbaz Ahmed', 'Wanindu Hasaranga', 'Harshal Patel', 'Josh Hazlewood', 'Mohammed Siraj', 'Virat Kohli', 'Faf Du Plessis', 'Rajat Patidar', 'Glenn Maxwell', 'Mahipal Lomror', 'Dinesh Karthik', 'Shahbaz Ahmed', 'Wanindu Hasaranga', 'Harshal Patel', 'Josh Hazlewood', 'Mohammed Siraj']\n"
     ]
    }
   ],
   "source": [
    "print(b['PlayerName'].count())\n",
    "print(b['PlayerName'].tolist())"
   ]
  },
  {
   "cell_type": "markdown",
   "metadata": {},
   "source": [
    "# print the no. of match played by a player in ipl 2022 by specific team"
   ]
  },
  {
   "cell_type": "code",
   "execution_count": 24,
   "metadata": {},
   "outputs": [
    {
     "data": {
      "text/plain": [
       "PlayerName\n",
       "Akash Deep                5\n",
       "Anuj Rawat                8\n",
       "David Willey              4\n",
       "Dinesh Karthik           16\n",
       "Faf Du Plessis           16\n",
       "Glenn Maxwell            13\n",
       "Harshal Patel            15\n",
       "Josh Hazlewood           12\n",
       "Mahipal Lomror            7\n",
       "Mohammed Siraj           15\n",
       "Rajat Patidar             8\n",
       "Shahbaz Ahmed            16\n",
       "Sherfane Rutherford       3\n",
       "Siddarth Kaul             1\n",
       "Suyash S Prabhudessai     5\n",
       "Virat Kohli              16\n",
       "Wanindu Hasaranga        16\n",
       "Name: PlayerName, dtype: int64"
      ]
     },
     "execution_count": 24,
     "metadata": {},
     "output_type": "execute_result"
    }
   ],
   "source": [
    "b.groupby('PlayerName')['PlayerName'].count()"
   ]
  },
  {
   "cell_type": "code",
   "execution_count": 25,
   "metadata": {},
   "outputs": [
    {
     "data": {
      "text/plain": [
       "MatchID\n",
       "3     11\n",
       "6     11\n",
       "13    11\n",
       "18    11\n",
       "22    11\n",
       "27    11\n",
       "31    11\n",
       "36    11\n",
       "39    11\n",
       "43    11\n",
       "49    11\n",
       "54    11\n",
       "60    11\n",
       "67    11\n",
       "74    11\n",
       "75    11\n",
       "Name: PlayerName, dtype: int64"
      ]
     },
     "execution_count": 25,
     "metadata": {},
     "output_type": "execute_result"
    }
   ],
   "source": [
    "b.groupby('MatchID')['PlayerName'].count()"
   ]
  },
  {
   "cell_type": "markdown",
   "metadata": {},
   "source": [
    "# print the players names who played match in specified matchId"
   ]
  },
  {
   "cell_type": "code",
   "execution_count": 26,
   "metadata": {},
   "outputs": [
    {
     "name": "stdout",
     "output_type": "stream",
     "text": [
      "['Virat Kohli', 'Faf Du Plessis', 'Rajat Patidar', 'Glenn Maxwell', 'Dinesh Karthik', 'Shahbaz Ahmed', 'Mahipal Lomror', 'Wanindu Hasaranga', 'Harshal Patel', 'Josh Hazlewood', 'Mohammed Siraj']\n"
     ]
    }
   ],
   "source": [
    "s= int(input(\"Enter a Match Id\"))\n",
    "MatchId_check = b['MatchID'] ==  s\n",
    "print(b[MatchId_check]['PlayerName'].tolist())"
   ]
  },
  {
   "cell_type": "markdown",
   "metadata": {},
   "source": [
    "# plot the graph to compare the no. of matches each player played in ipl"
   ]
  },
  {
   "cell_type": "code",
   "execution_count": 27,
   "metadata": {},
   "outputs": [
    {
     "data": {
      "text/plain": [
       "<AxesSubplot:xlabel='PlayerName'>"
      ]
     },
     "execution_count": 27,
     "metadata": {},
     "output_type": "execute_result"
    },
    {
     "data": {
      "image/png": "[encoded data removed]",
      "text/plain": [
       "<Figure size 640x480 with 1 Axes>"
      ]
     },
     "metadata": {},
     "output_type": "display_data"
    }
   ],
   "source": [
    "b.groupby('PlayerName')['PlayerName'].count().plot(kind='bar')"
   ]
  },
  {
   "cell_type": "markdown",
   "metadata": {},
   "source": [
    "# print all the detail of players in specified matchId"
   ]
  },
  {
   "cell_type": "code",
   "execution_count": 28,
   "metadata": {},
   "outputs": [
    {
     "data": {
      "text/html": [
       "<div>\n",
       "<style scoped>\n",
       "    .dataframe tbody tr th:only-of-type {\n",
       "        vertical-align: middle;\n",
       "    }\n",
       "\n",
       "    .dataframe tbody tr th {\n",
       "        vertical-align: top;\n",
       "    }\n",
       "\n",
       "    .dataframe thead th {\n",
       "        text-align: right;\n",
       "    }\n",
       "</style>\n",
       "<table border=\"1\" class=\"dataframe\">\n",
       "  <thead>\n",
       "    <tr style=\"text-align: right;\">\n",
       "      <th></th>\n",
       "      <th>MatchID</th>\n",
       "      <th>InningsNo</th>\n",
       "      <th>Team</th>\n",
       "      <th>PlayerName</th>\n",
       "      <th>MatchPlayingOrder</th>\n",
       "      <th>BowlerName</th>\n",
       "      <th>OutDesc</th>\n",
       "      <th>Runs</th>\n",
       "      <th>Balls</th>\n",
       "      <th>DotBalls</th>\n",
       "      <th>Ones</th>\n",
       "      <th>Twos</th>\n",
       "      <th>Threes</th>\n",
       "      <th>Fours</th>\n",
       "      <th>Sixes</th>\n",
       "      <th>StrikeRate</th>\n",
       "      <th>WicketNo</th>\n",
       "      <th>AgainstFast</th>\n",
       "      <th>AgainstSpin</th>\n",
       "    </tr>\n",
       "  </thead>\n",
       "  <tbody>\n",
       "    <tr>\n",
       "      <th>924</th>\n",
       "      <td>43</td>\n",
       "      <td>1</td>\n",
       "      <td>RCB</td>\n",
       "      <td>Virat Kohli</td>\n",
       "      <td>2</td>\n",
       "      <td>Mohammad Shami</td>\n",
       "      <td>b Mohammad Shami</td>\n",
       "      <td>58</td>\n",
       "      <td>53</td>\n",
       "      <td>20</td>\n",
       "      <td>24</td>\n",
       "      <td>2</td>\n",
       "      <td>0</td>\n",
       "      <td>6</td>\n",
       "      <td>1</td>\n",
       "      <td>109.43</td>\n",
       "      <td>7.0</td>\n",
       "      <td>43</td>\n",
       "      <td>10</td>\n",
       "    </tr>\n",
       "    <tr>\n",
       "      <th>925</th>\n",
       "      <td>43</td>\n",
       "      <td>1</td>\n",
       "      <td>RCB</td>\n",
       "      <td>Faf Du Plessis</td>\n",
       "      <td>3</td>\n",
       "      <td>Pradeep Sangwan</td>\n",
       "      <td>c Wriddhiman Saha b Pradeep Sangwan</td>\n",
       "      <td>0</td>\n",
       "      <td>4</td>\n",
       "      <td>4</td>\n",
       "      <td>0</td>\n",
       "      <td>0</td>\n",
       "      <td>0</td>\n",
       "      <td>0</td>\n",
       "      <td>0</td>\n",
       "      <td>0.00</td>\n",
       "      <td>3.0</td>\n",
       "      <td>4</td>\n",
       "      <td>0</td>\n",
       "    </tr>\n",
       "    <tr>\n",
       "      <th>926</th>\n",
       "      <td>43</td>\n",
       "      <td>1</td>\n",
       "      <td>RCB</td>\n",
       "      <td>Rajat Patidar</td>\n",
       "      <td>5</td>\n",
       "      <td>Pradeep Sangwan</td>\n",
       "      <td>c Shubman Gill b Pradeep Sangwan</td>\n",
       "      <td>52</td>\n",
       "      <td>32</td>\n",
       "      <td>9</td>\n",
       "      <td>13</td>\n",
       "      <td>2</td>\n",
       "      <td>1</td>\n",
       "      <td>5</td>\n",
       "      <td>2</td>\n",
       "      <td>162.50</td>\n",
       "      <td>5.0</td>\n",
       "      <td>24</td>\n",
       "      <td>8</td>\n",
       "    </tr>\n",
       "    <tr>\n",
       "      <th>927</th>\n",
       "      <td>43</td>\n",
       "      <td>1</td>\n",
       "      <td>RCB</td>\n",
       "      <td>Glenn Maxwell</td>\n",
       "      <td>4</td>\n",
       "      <td>Lockie Ferguson</td>\n",
       "      <td>c Rashid Khan b Lockie Ferguson</td>\n",
       "      <td>33</td>\n",
       "      <td>18</td>\n",
       "      <td>6</td>\n",
       "      <td>5</td>\n",
       "      <td>2</td>\n",
       "      <td>0</td>\n",
       "      <td>3</td>\n",
       "      <td>2</td>\n",
       "      <td>183.33</td>\n",
       "      <td>2.0</td>\n",
       "      <td>15</td>\n",
       "      <td>3</td>\n",
       "    </tr>\n",
       "    <tr>\n",
       "      <th>928</th>\n",
       "      <td>43</td>\n",
       "      <td>1</td>\n",
       "      <td>RCB</td>\n",
       "      <td>Dinesh Karthik</td>\n",
       "      <td>1</td>\n",
       "      <td>Rashid Khan</td>\n",
       "      <td>c Mohammad Shami b Rashid Khan</td>\n",
       "      <td>2</td>\n",
       "      <td>3</td>\n",
       "      <td>1</td>\n",
       "      <td>2</td>\n",
       "      <td>0</td>\n",
       "      <td>0</td>\n",
       "      <td>0</td>\n",
       "      <td>0</td>\n",
       "      <td>66.67</td>\n",
       "      <td>4.0</td>\n",
       "      <td>1</td>\n",
       "      <td>2</td>\n",
       "    </tr>\n",
       "    <tr>\n",
       "      <th>929</th>\n",
       "      <td>43</td>\n",
       "      <td>1</td>\n",
       "      <td>RCB</td>\n",
       "      <td>Shahbaz Ahmed</td>\n",
       "      <td>7</td>\n",
       "      <td>NaN</td>\n",
       "      <td>not out</td>\n",
       "      <td>2</td>\n",
       "      <td>2</td>\n",
       "      <td>0</td>\n",
       "      <td>2</td>\n",
       "      <td>0</td>\n",
       "      <td>0</td>\n",
       "      <td>0</td>\n",
       "      <td>0</td>\n",
       "      <td>100.00</td>\n",
       "      <td>NaN</td>\n",
       "      <td>1</td>\n",
       "      <td>1</td>\n",
       "    </tr>\n",
       "    <tr>\n",
       "      <th>930</th>\n",
       "      <td>43</td>\n",
       "      <td>1</td>\n",
       "      <td>RCB</td>\n",
       "      <td>Mahipal Lomror</td>\n",
       "      <td>6</td>\n",
       "      <td>Alzarri Joseph</td>\n",
       "      <td>c David Miller b Alzarri Joseph</td>\n",
       "      <td>16</td>\n",
       "      <td>8</td>\n",
       "      <td>4</td>\n",
       "      <td>0</td>\n",
       "      <td>1</td>\n",
       "      <td>0</td>\n",
       "      <td>2</td>\n",
       "      <td>1</td>\n",
       "      <td>200.00</td>\n",
       "      <td>1.0</td>\n",
       "      <td>8</td>\n",
       "      <td>0</td>\n",
       "    </tr>\n",
       "    <tr>\n",
       "      <th>931</th>\n",
       "      <td>43</td>\n",
       "      <td>1</td>\n",
       "      <td>RCB</td>\n",
       "      <td>Wanindu Hasaranga</td>\n",
       "      <td>8</td>\n",
       "      <td>NaN</td>\n",
       "      <td>NaN</td>\n",
       "      <td>0</td>\n",
       "      <td>0</td>\n",
       "      <td>0</td>\n",
       "      <td>0</td>\n",
       "      <td>0</td>\n",
       "      <td>0</td>\n",
       "      <td>0</td>\n",
       "      <td>0</td>\n",
       "      <td>-</td>\n",
       "      <td>NaN</td>\n",
       "      <td>0</td>\n",
       "      <td>0</td>\n",
       "    </tr>\n",
       "    <tr>\n",
       "      <th>932</th>\n",
       "      <td>43</td>\n",
       "      <td>1</td>\n",
       "      <td>RCB</td>\n",
       "      <td>Harshal Patel</td>\n",
       "      <td>9</td>\n",
       "      <td>NaN</td>\n",
       "      <td>NaN</td>\n",
       "      <td>0</td>\n",
       "      <td>0</td>\n",
       "      <td>0</td>\n",
       "      <td>0</td>\n",
       "      <td>0</td>\n",
       "      <td>0</td>\n",
       "      <td>0</td>\n",
       "      <td>0</td>\n",
       "      <td>-</td>\n",
       "      <td>NaN</td>\n",
       "      <td>0</td>\n",
       "      <td>0</td>\n",
       "    </tr>\n",
       "    <tr>\n",
       "      <th>933</th>\n",
       "      <td>43</td>\n",
       "      <td>1</td>\n",
       "      <td>RCB</td>\n",
       "      <td>Josh Hazlewood</td>\n",
       "      <td>10</td>\n",
       "      <td>NaN</td>\n",
       "      <td>NaN</td>\n",
       "      <td>0</td>\n",
       "      <td>0</td>\n",
       "      <td>0</td>\n",
       "      <td>0</td>\n",
       "      <td>0</td>\n",
       "      <td>0</td>\n",
       "      <td>0</td>\n",
       "      <td>0</td>\n",
       "      <td>-</td>\n",
       "      <td>NaN</td>\n",
       "      <td>0</td>\n",
       "      <td>0</td>\n",
       "    </tr>\n",
       "    <tr>\n",
       "      <th>934</th>\n",
       "      <td>43</td>\n",
       "      <td>1</td>\n",
       "      <td>RCB</td>\n",
       "      <td>Mohammed Siraj</td>\n",
       "      <td>11</td>\n",
       "      <td>NaN</td>\n",
       "      <td>NaN</td>\n",
       "      <td>0</td>\n",
       "      <td>0</td>\n",
       "      <td>0</td>\n",
       "      <td>0</td>\n",
       "      <td>0</td>\n",
       "      <td>0</td>\n",
       "      <td>0</td>\n",
       "      <td>0</td>\n",
       "      <td>-</td>\n",
       "      <td>NaN</td>\n",
       "      <td>0</td>\n",
       "      <td>0</td>\n",
       "    </tr>\n",
       "  </tbody>\n",
       "</table>\n",
       "</div>"
      ],
      "text/plain": [
       "     MatchID  InningsNo Team         PlayerName  MatchPlayingOrder  \\\n",
       "924       43          1  RCB        Virat Kohli                  2   \n",
       "925       43          1  RCB     Faf Du Plessis                  3   \n",
       "926       43          1  RCB      Rajat Patidar                  5   \n",
       "927       43          1  RCB      Glenn Maxwell                  4   \n",
       "928       43          1  RCB     Dinesh Karthik                  1   \n",
       "929       43          1  RCB      Shahbaz Ahmed                  7   \n",
       "930       43          1  RCB     Mahipal Lomror                  6   \n",
       "931       43          1  RCB  Wanindu Hasaranga                  8   \n",
       "932       43          1  RCB      Harshal Patel                  9   \n",
       "933       43          1  RCB     Josh Hazlewood                 10   \n",
       "934       43          1  RCB     Mohammed Siraj                 11   \n",
       "\n",
       "          BowlerName                              OutDesc  Runs  Balls  \\\n",
       "924   Mohammad Shami                     b Mohammad Shami    58     53   \n",
       "925  Pradeep Sangwan  c Wriddhiman Saha b Pradeep Sangwan     0      4   \n",
       "926  Pradeep Sangwan     c Shubman Gill b Pradeep Sangwan    52     32   \n",
       "927  Lockie Ferguson      c Rashid Khan b Lockie Ferguson    33     18   \n",
       "928      Rashid Khan       c Mohammad Shami b Rashid Khan     2      3   \n",
       "929              NaN                              not out     2      2   \n",
       "930   Alzarri Joseph      c David Miller b Alzarri Joseph    16      8   \n",
       "931              NaN                                  NaN     0      0   \n",
       "932              NaN                                  NaN     0      0   \n",
       "933              NaN                                  NaN     0      0   \n",
       "934              NaN                                  NaN     0      0   \n",
       "\n",
       "     DotBalls  Ones  Twos  Threes  Fours  Sixes StrikeRate  WicketNo  \\\n",
       "924        20    24     2       0      6      1     109.43       7.0   \n",
       "925         4     0     0       0      0      0       0.00       3.0   \n",
       "926         9    13     2       1      5      2     162.50       5.0   \n",
       "927         6     5     2       0      3      2     183.33       2.0   \n",
       "928         1     2     0       0      0      0      66.67       4.0   \n",
       "929         0     2     0       0      0      0     100.00       NaN   \n",
       "930         4     0     1       0      2      1     200.00       1.0   \n",
       "931         0     0     0       0      0      0          -       NaN   \n",
       "932         0     0     0       0      0      0          -       NaN   \n",
       "933         0     0     0       0      0      0          -       NaN   \n",
       "934         0     0     0       0      0      0          -       NaN   \n",
       "\n",
       "     AgainstFast  AgainstSpin  \n",
       "924           43           10  \n",
       "925            4            0  \n",
       "926           24            8  \n",
       "927           15            3  \n",
       "928            1            2  \n",
       "929            1            1  \n",
       "930            8            0  \n",
       "931            0            0  \n",
       "932            0            0  \n",
       "933            0            0  \n",
       "934            0            0  "
      ]
     },
     "execution_count": 28,
     "metadata": {},
     "output_type": "execute_result"
    }
   ],
   "source": [
    "c= b[MatchId_check]\n",
    "c"
   ]
  },
  {
   "cell_type": "markdown",
   "metadata": {},
   "source": [
    "# find the player detail in specific match "
   ]
  },
  {
   "cell_type": "code",
   "execution_count": 29,
   "metadata": {},
   "outputs": [
    {
     "data": {
      "text/html": [
       "<div>\n",
       "<style scoped>\n",
       "    .dataframe tbody tr th:only-of-type {\n",
       "        vertical-align: middle;\n",
       "    }\n",
       "\n",
       "    .dataframe tbody tr th {\n",
       "        vertical-align: top;\n",
       "    }\n",
       "\n",
       "    .dataframe thead th {\n",
       "        text-align: right;\n",
       "    }\n",
       "</style>\n",
       "<table border=\"1\" class=\"dataframe\">\n",
       "  <thead>\n",
       "    <tr style=\"text-align: right;\">\n",
       "      <th></th>\n",
       "      <th>MatchID</th>\n",
       "      <th>InningsNo</th>\n",
       "      <th>Team</th>\n",
       "      <th>PlayerName</th>\n",
       "      <th>MatchPlayingOrder</th>\n",
       "      <th>BowlerName</th>\n",
       "      <th>OutDesc</th>\n",
       "      <th>Runs</th>\n",
       "      <th>Balls</th>\n",
       "      <th>DotBalls</th>\n",
       "      <th>Ones</th>\n",
       "      <th>Twos</th>\n",
       "      <th>Threes</th>\n",
       "      <th>Fours</th>\n",
       "      <th>Sixes</th>\n",
       "      <th>StrikeRate</th>\n",
       "      <th>WicketNo</th>\n",
       "      <th>AgainstFast</th>\n",
       "      <th>AgainstSpin</th>\n",
       "    </tr>\n",
       "  </thead>\n",
       "  <tbody>\n",
       "    <tr>\n",
       "      <th>924</th>\n",
       "      <td>43</td>\n",
       "      <td>1</td>\n",
       "      <td>RCB</td>\n",
       "      <td>Virat Kohli</td>\n",
       "      <td>2</td>\n",
       "      <td>Mohammad Shami</td>\n",
       "      <td>b Mohammad Shami</td>\n",
       "      <td>58</td>\n",
       "      <td>53</td>\n",
       "      <td>20</td>\n",
       "      <td>24</td>\n",
       "      <td>2</td>\n",
       "      <td>0</td>\n",
       "      <td>6</td>\n",
       "      <td>1</td>\n",
       "      <td>109.43</td>\n",
       "      <td>7.0</td>\n",
       "      <td>43</td>\n",
       "      <td>10</td>\n",
       "    </tr>\n",
       "  </tbody>\n",
       "</table>\n",
       "</div>"
      ],
      "text/plain": [
       "     MatchID  InningsNo Team   PlayerName  MatchPlayingOrder      BowlerName  \\\n",
       "924       43          1  RCB  Virat Kohli                  2  Mohammad Shami   \n",
       "\n",
       "              OutDesc  Runs  Balls  DotBalls  Ones  Twos  Threes  Fours  \\\n",
       "924  b Mohammad Shami    58     53        20    24     2       0      6   \n",
       "\n",
       "     Sixes StrikeRate  WicketNo  AgainstFast  AgainstSpin  \n",
       "924      1     109.43       7.0           43           10  "
      ]
     },
     "execution_count": 29,
     "metadata": {},
     "output_type": "execute_result"
    }
   ],
   "source": [
    "p = input(\"player name\")\n",
    "player_detail = c['PlayerName'] == p\n",
    "c[player_detail]"
   ]
  },
  {
   "cell_type": "code",
   "execution_count": 30,
   "metadata": {},
   "outputs": [
    {
     "name": "stdout",
     "output_type": "stream",
     "text": [
      "Total runs: 163\n"
     ]
    },
    {
     "data": {
      "application/vnd.plotly.v1+json": {
       "config": {
        "plotlyServerURL": "https://plot.ly"
       },
       "data": [
        {
         "alignmentgroup": "True",
         "hovertemplate": "PlayerName=%{x}<br>Runs=%{y}<extra></extra>",
         "legendgroup": "Dinesh Karthik",
         "marker": {
          "color": "#636efa",
          "pattern": {
           "shape": ""
          }
         },
         "name": "Dinesh Karthik",
         "offsetgroup": "Dinesh Karthik",
         "orientation": "v",
         "showlegend": true,
         "textposition": "auto",
         "type": "bar",
         "x": [
          "Dinesh Karthik"
         ],
         "xaxis": "x",
         "y": [
          2
         ],
         "yaxis": "y"
        },
        {
         "alignmentgroup": "True",
         "hovertemplate": "PlayerName=%{x}<br>Runs=%{y}<extra></extra>",
         "legendgroup": "Faf Du Plessis",
         "marker": {
          "color": "#EF553B",
          "pattern": {
           "shape": ""
          }
         },
         "name": "Faf Du Plessis",
         "offsetgroup": "Faf Du Plessis",
         "orientation": "v",
         "showlegend": true,
         "textposition": "auto",
         "type": "bar",
         "x": [
          "Faf Du Plessis"
         ],
         "xaxis": "x",
         "y": [
          0
         ],
         "yaxis": "y"
        },
        {
         "alignmentgroup": "True",
         "hovertemplate": "PlayerName=%{x}<br>Runs=%{y}<extra></extra>",
         "legendgroup": "Glenn Maxwell",
         "marker": {
          "color": "#00cc96",
          "pattern": {
           "shape": ""
          }
         },
         "name": "Glenn Maxwell",
         "offsetgroup": "Glenn Maxwell",
         "orientation": "v",
         "showlegend": true,
         "textposition": "auto",
         "type": "bar",
         "x": [
          "Glenn Maxwell"
         ],
         "xaxis": "x",
         "y": [
          33
         ],
         "yaxis": "y"
        },
        {
         "alignmentgroup": "True",
         "hovertemplate": "PlayerName=%{x}<br>Runs=%{y}<extra></extra>",
         "legendgroup": "Harshal Patel",
         "marker": {
          "color": "#ab63fa",
          "pattern": {
           "shape": ""
          }
         },
         "name": "Harshal Patel",
         "offsetgroup": "Harshal Patel",
         "orientation": "v",
         "showlegend": true,
         "textposition": "auto",
         "type": "bar",
         "x": [
          "Harshal Patel"
         ],
         "xaxis": "x",
         "y": [
          0
         ],
         "yaxis": "y"
        },
        {
         "alignmentgroup": "True",
         "hovertemplate": "PlayerName=%{x}<br>Runs=%{y}<extra></extra>",
         "legendgroup": "Josh Hazlewood",
         "marker": {
          "color": "#FFA15A",
          "pattern": {
           "shape": ""
          }
         },
         "name": "Josh Hazlewood",
         "offsetgroup": "Josh Hazlewood",
         "orientation": "v",
         "showlegend": true,
         "textposition": "auto",
         "type": "bar",
         "x": [
          "Josh Hazlewood"
         ],
         "xaxis": "x",
         "y": [
          0
         ],
         "yaxis": "y"
        },
        {
         "alignmentgroup": "True",
         "hovertemplate": "PlayerName=%{x}<br>Runs=%{y}<extra></extra>",
         "legendgroup": "Mahipal Lomror",
         "marker": {
          "color": "#19d3f3",
          "pattern": {
           "shape": ""
          }
         },
         "name": "Mahipal Lomror",
         "offsetgroup": "Mahipal Lomror",
         "orientation": "v",
         "showlegend": true,
         "textposition": "auto",
         "type": "bar",
         "x": [
          "Mahipal Lomror"
         ],
         "xaxis": "x",
         "y": [
          16
         ],
         "yaxis": "y"
        },
        {
         "alignmentgroup": "True",
         "hovertemplate": "PlayerName=%{x}<br>Runs=%{y}<extra></extra>",
         "legendgroup": "Mohammed Siraj",
         "marker": {
          "color": "#FF6692",
          "pattern": {
           "shape": ""
          }
         },
         "name": "Mohammed Siraj",
         "offsetgroup": "Mohammed Siraj",
         "orientation": "v",
         "showlegend": true,
         "textposition": "auto",
         "type": "bar",
         "x": [
          "Mohammed Siraj"
         ],
         "xaxis": "x",
         "y": [
          0
         ],
         "yaxis": "y"
        },
        {
         "alignmentgroup": "True",
         "hovertemplate": "PlayerName=%{x}<br>Runs=%{y}<extra></extra>",
         "legendgroup": "Rajat Patidar",
         "marker": {
          "color": "#B6E880",
          "pattern": {
           "shape": ""
          }
         },
         "name": "Rajat Patidar",
         "offsetgroup": "Rajat Patidar",
         "orientation": "v",
         "showlegend": true,
         "textposition": "auto",
         "type": "bar",
         "x": [
          "Rajat Patidar"
         ],
         "xaxis": "x",
         "y": [
          52
         ],
         "yaxis": "y"
        },
        {
         "alignmentgroup": "True",
         "hovertemplate": "PlayerName=%{x}<br>Runs=%{y}<extra></extra>",
         "legendgroup": "Shahbaz Ahmed",
         "marker": {
          "color": "#FF97FF",
          "pattern": {
           "shape": ""
          }
         },
         "name": "Shahbaz Ahmed",
         "offsetgroup": "Shahbaz Ahmed",
         "orientation": "v",
         "showlegend": true,
         "textposition": "auto",
         "type": "bar",
         "x": [
          "Shahbaz Ahmed"
         ],
         "xaxis": "x",
         "y": [
          2
         ],
         "yaxis": "y"
        },
        {
         "alignmentgroup": "True",
         "hovertemplate": "PlayerName=%{x}<br>Runs=%{y}<extra></extra>",
         "legendgroup": "Virat Kohli",
         "marker": {
          "color": "#FECB52",
          "pattern": {
           "shape": ""
          }
         },
         "name": "Virat Kohli",
         "offsetgroup": "Virat Kohli",
         "orientation": "v",
         "showlegend": true,
         "textposition": "auto",
         "type": "bar",
         "x": [
          "Virat Kohli"
         ],
         "xaxis": "x",
         "y": [
          58
         ],
         "yaxis": "y"
        },
        {
         "alignmentgroup": "True",
         "hovertemplate": "PlayerName=%{x}<br>Runs=%{y}<extra></extra>",
         "legendgroup": "Wanindu Hasaranga",
         "marker": {
          "color": "#636efa",
          "pattern": {
           "shape": ""
          }
         },
         "name": "Wanindu Hasaranga",
         "offsetgroup": "Wanindu Hasaranga",
         "orientation": "v",
         "showlegend": true,
         "textposition": "auto",
         "type": "bar",
         "x": [
          "Wanindu Hasaranga"
         ],
         "xaxis": "x",
         "y": [
          0
         ],
         "yaxis": "y"
        }
       ],
       "layout": {
        "barmode": "relative",
        "legend": {
         "title": {
          "text": "PlayerName"
         },
         "tracegroupgap": 0
        },
        "margin": {
         "t": 60
        },
        "template": {
         "data": {
          "bar": [
           {
            "error_x": {
             "color": "#2a3f5f"
            },
            "error_y": {
             "color": "#2a3f5f"
            },
            "marker": {
             "line": {
              "color": "#E5ECF6",
              "width": 0.5
             },
             "pattern": {
              "fillmode": "overlay",
              "size": 10,
              "solidity": 0.2
             }
            },
            "type": "bar"
           }
          ],
          "barpolar": [
           {
            "marker": {
             "line": {
              "color": "#E5ECF6",
              "width": 0.5
             },
             "pattern": {
              "fillmode": "overlay",
              "size": 10,
              "solidity": 0.2
             }
            },
            "type": "barpolar"
           }
          ],
          "carpet": [
           {
            "aaxis": {
             "endlinecolor": "#2a3f5f",
             "gridcolor": "white",
             "linecolor": "white",
             "minorgridcolor": "white",
             "startlinecolor": "#2a3f5f"
            },
            "baxis": {
             "endlinecolor": "#2a3f5f",
             "gridcolor": "white",
             "linecolor": "white",
             "minorgridcolor": "white",
             "startlinecolor": "#2a3f5f"
            },
            "type": "carpet"
           }
          ],
          "choropleth": [
           {
            "colorbar": {
             "outlinewidth": 0,
             "ticks": ""
            },
            "type": "choropleth"
           }
          ],
          "contour": [
           {
            "colorbar": {
             "outlinewidth": 0,
             "ticks": ""
            },
            "colorscale": [
             [
              0,
              "#0d0887"
             ],
             [
              0.1111111111111111,
              "#46039f"
             ],
             [
              0.2222222222222222,
              "#7201a8"
             ],
             [
              0.3333333333333333,
              "#9c179e"
             ],
             [
              0.4444444444444444,
              "#bd3786"
             ],
             [
              0.5555555555555556,
              "#d8576b"
             ],
             [
              0.6666666666666666,
              "#ed7953"
             ],
             [
              0.7777777777777778,
              "#fb9f3a"
             ],
             [
              0.8888888888888888,
              "#fdca26"
             ],
             [
              1,
              "#f0f921"
             ]
            ],
            "type": "contour"
           }
          ],
          "contourcarpet": [
           {
            "colorbar": {
             "outlinewidth": 0,
             "ticks": ""
            },
            "type": "contourcarpet"
           }
          ],
          "heatmap": [
           {
            "colorbar": {
             "outlinewidth": 0,
             "ticks": ""
            },
            "colorscale": [
             [
              0,
              "#0d0887"
             ],
             [
              0.1111111111111111,
              "#46039f"
             ],
             [
              0.2222222222222222,
              "#7201a8"
             ],
             [
              0.3333333333333333,
              "#9c179e"
             ],
             [
              0.4444444444444444,
              "#bd3786"
             ],
             [
              0.5555555555555556,
              "#d8576b"
             ],
             [
              0.6666666666666666,
              "#ed7953"
             ],
             [
              0.7777777777777778,
              "#fb9f3a"
             ],
             [
              0.8888888888888888,
              "#fdca26"
             ],
             [
              1,
              "#f0f921"
             ]
            ],
            "type": "heatmap"
           }
          ],
          "heatmapgl": [
           {
            "colorbar": {
             "outlinewidth": 0,
             "ticks": ""
            },
            "colorscale": [
             [
              0,
              "#0d0887"
             ],
             [
              0.1111111111111111,
              "#46039f"
             ],
             [
              0.2222222222222222,
              "#7201a8"
             ],
             [
              0.3333333333333333,
              "#9c179e"
             ],
             [
              0.4444444444444444,
              "#bd3786"
             ],
             [
              0.5555555555555556,
              "#d8576b"
             ],
             [
              0.6666666666666666,
              "#ed7953"
             ],
             [
              0.7777777777777778,
              "#fb9f3a"
             ],
             [
              0.8888888888888888,
              "#fdca26"
             ],
             [
              1,
              "#f0f921"
             ]
            ],
            "type": "heatmapgl"
           }
          ],
          "histogram": [
           {
            "marker": {
             "pattern": {
              "fillmode": "overlay",
              "size": 10,
              "solidity": 0.2
             }
            },
            "type": "histogram"
           }
          ],
          "histogram2d": [
           {
            "colorbar": {
             "outlinewidth": 0,
             "ticks": ""
            },
            "colorscale": [
             [
              0,
              "#0d0887"
             ],
             [
              0.1111111111111111,
              "#46039f"
             ],
             [
              0.2222222222222222,
              "#7201a8"
             ],
             [
              0.3333333333333333,
              "#9c179e"
             ],
             [
              0.4444444444444444,
              "#bd3786"
             ],
             [
              0.5555555555555556,
              "#d8576b"
             ],
             [
              0.6666666666666666,
              "#ed7953"
             ],
             [
              0.7777777777777778,
              "#fb9f3a"
             ],
             [
              0.8888888888888888,
              "#fdca26"
             ],
             [
              1,
              "#f0f921"
             ]
            ],
            "type": "histogram2d"
           }
          ],
          "histogram2dcontour": [
           {
            "colorbar": {
             "outlinewidth": 0,
             "ticks": ""
            },
            "colorscale": [
             [
              0,
              "#0d0887"
             ],
             [
              0.1111111111111111,
              "#46039f"
             ],
             [
              0.2222222222222222,
              "#7201a8"
             ],
             [
              0.3333333333333333,
              "#9c179e"
             ],
             [
              0.4444444444444444,
              "#bd3786"
             ],
             [
              0.5555555555555556,
              "#d8576b"
             ],
             [
              0.6666666666666666,
              "#ed7953"
             ],
             [
              0.7777777777777778,
              "#fb9f3a"
             ],
             [
              0.8888888888888888,
              "#fdca26"
             ],
             [
              1,
              "#f0f921"
             ]
            ],
            "type": "histogram2dcontour"
           }
          ],
          "mesh3d": [
           {
            "colorbar": {
             "outlinewidth": 0,
             "ticks": ""
            },
            "type": "mesh3d"
           }
          ],
          "parcoords": [
           {
            "line": {
             "colorbar": {
              "outlinewidth": 0,
              "ticks": ""
             }
            },
            "type": "parcoords"
           }
          ],
          "pie": [
           {
            "automargin": true,
            "type": "pie"
           }
          ],
          "scatter": [
           {
            "fillpattern": {
             "fillmode": "overlay",
             "size": 10,
             "solidity": 0.2
            },
            "type": "scatter"
           }
          ],
          "scatter3d": [
           {
            "line": {
             "colorbar": {
              "outlinewidth": 0,
              "ticks": ""
             }
            },
            "marker": {
             "colorbar": {
              "outlinewidth": 0,
              "ticks": ""
             }
            },
            "type": "scatter3d"
           }
          ],
          "scattercarpet": [
           {
            "marker": {
             "colorbar": {
              "outlinewidth": 0,
              "ticks": ""
             }
            },
            "type": "scattercarpet"
           }
          ],
          "scattergeo": [
           {
            "marker": {
             "colorbar": {
              "outlinewidth": 0,
              "ticks": ""
             }
            },
            "type": "scattergeo"
           }
          ],
          "scattergl": [
           {
            "marker": {
             "colorbar": {
              "outlinewidth": 0,
              "ticks": ""
             }
            },
            "type": "scattergl"
           }
          ],
          "scattermapbox": [
           {
            "marker": {
             "colorbar": {
              "outlinewidth": 0,
              "ticks": ""
             }
            },
            "type": "scattermapbox"
           }
          ],
          "scatterpolar": [
           {
            "marker": {
             "colorbar": {
              "outlinewidth": 0,
              "ticks": ""
             }
            },
            "type": "scatterpolar"
           }
          ],
          "scatterpolargl": [
           {
            "marker": {
             "colorbar": {
              "outlinewidth": 0,
              "ticks": ""
             }
            },
            "type": "scatterpolargl"
           }
          ],
          "scatterternary": [
           {
            "marker": {
             "colorbar": {
              "outlinewidth": 0,
              "ticks": ""
             }
            },
            "type": "scatterternary"
           }
          ],
          "surface": [
           {
            "colorbar": {
             "outlinewidth": 0,
             "ticks": ""
            },
            "colorscale": [
             [
              0,
              "#0d0887"
             ],
             [
              0.1111111111111111,
              "#46039f"
             ],
             [
              0.2222222222222222,
              "#7201a8"
             ],
             [
              0.3333333333333333,
              "#9c179e"
             ],
             [
              0.4444444444444444,
              "#bd3786"
             ],
             [
              0.5555555555555556,
              "#d8576b"
             ],
             [
              0.6666666666666666,
              "#ed7953"
             ],
             [
              0.7777777777777778,
              "#fb9f3a"
             ],
             [
              0.8888888888888888,
              "#fdca26"
             ],
             [
              1,
              "#f0f921"
             ]
            ],
            "type": "surface"
           }
          ],
          "table": [
           {
            "cells": {
             "fill": {
              "color": "#EBF0F8"
             },
             "line": {
              "color": "white"
             }
            },
            "header": {
             "fill": {
              "color": "#C8D4E3"
             },
             "line": {
              "color": "white"
             }
            },
            "type": "table"
           }
          ]
         },
         "layout": {
          "annotationdefaults": {
           "arrowcolor": "#2a3f5f",
           "arrowhead": 0,
           "arrowwidth": 1
          },
          "autotypenumbers": "strict",
          "coloraxis": {
           "colorbar": {
            "outlinewidth": 0,
            "ticks": ""
           }
          },
          "colorscale": {
           "diverging": [
            [
             0,
             "#8e0152"
            ],
            [
             0.1,
             "#c51b7d"
            ],
            [
             0.2,
             "#de77ae"
            ],
            [
             0.3,
             "#f1b6da"
            ],
            [
             0.4,
             "#fde0ef"
            ],
            [
             0.5,
             "#f7f7f7"
            ],
            [
             0.6,
             "#e6f5d0"
            ],
            [
             0.7,
             "#b8e186"
            ],
            [
             0.8,
             "#7fbc41"
            ],
            [
             0.9,
             "#4d9221"
            ],
            [
             1,
             "#276419"
            ]
           ],
           "sequential": [
            [
             0,
             "#0d0887"
            ],
            [
             0.1111111111111111,
             "#46039f"
            ],
            [
             0.2222222222222222,
             "#7201a8"
            ],
            [
             0.3333333333333333,
             "#9c179e"
            ],
            [
             0.4444444444444444,
             "#bd3786"
            ],
            [
             0.5555555555555556,
             "#d8576b"
            ],
            [
             0.6666666666666666,
             "#ed7953"
            ],
            [
             0.7777777777777778,
             "#fb9f3a"
            ],
            [
             0.8888888888888888,
             "#fdca26"
            ],
            [
             1,
             "#f0f921"
            ]
           ],
           "sequentialminus": [
            [
             0,
             "#0d0887"
            ],
            [
             0.1111111111111111,
             "#46039f"
            ],
            [
             0.2222222222222222,
             "#7201a8"
            ],
            [
             0.3333333333333333,
             "#9c179e"
            ],
            [
             0.4444444444444444,
             "#bd3786"
            ],
            [
             0.5555555555555556,
             "#d8576b"
            ],
            [
             0.6666666666666666,
             "#ed7953"
            ],
            [
             0.7777777777777778,
             "#fb9f3a"
            ],
            [
             0.8888888888888888,
             "#fdca26"
            ],
            [
             1,
             "#f0f921"
            ]
           ]
          },
          "colorway": [
           "#636efa",
           "#EF553B",
           "#00cc96",
           "#ab63fa",
           "#FFA15A",
           "#19d3f3",
           "#FF6692",
           "#B6E880",
           "#FF97FF",
           "#FECB52"
          ],
          "font": {
           "color": "#2a3f5f"
          },
          "geo": {
           "bgcolor": "white",
           "lakecolor": "white",
           "landcolor": "#E5ECF6",
           "showlakes": true,
           "showland": true,
           "subunitcolor": "white"
          },
          "hoverlabel": {
           "align": "left"
          },
          "hovermode": "closest",
          "mapbox": {
           "style": "light"
          },
          "paper_bgcolor": "white",
          "plot_bgcolor": "#E5ECF6",
          "polar": {
           "angularaxis": {
            "gridcolor": "white",
            "linecolor": "white",
            "ticks": ""
           },
           "bgcolor": "#E5ECF6",
           "radialaxis": {
            "gridcolor": "white",
            "linecolor": "white",
            "ticks": ""
           }
          },
          "scene": {
           "xaxis": {
            "backgroundcolor": "#E5ECF6",
            "gridcolor": "white",
            "gridwidth": 2,
            "linecolor": "white",
            "showbackground": true,
            "ticks": "",
            "zerolinecolor": "white"
           },
           "yaxis": {
            "backgroundcolor": "#E5ECF6",
            "gridcolor": "white",
            "gridwidth": 2,
            "linecolor": "white",
            "showbackground": true,
            "ticks": "",
            "zerolinecolor": "white"
           },
           "zaxis": {
            "backgroundcolor": "#E5ECF6",
            "gridcolor": "white",
            "gridwidth": 2,
            "linecolor": "white",
            "showbackground": true,
            "ticks": "",
            "zerolinecolor": "white"
           }
          },
          "shapedefaults": {
           "line": {
            "color": "#2a3f5f"
           }
          },
          "ternary": {
           "aaxis": {
            "gridcolor": "white",
            "linecolor": "white",
            "ticks": ""
           },
           "baxis": {
            "gridcolor": "white",
            "linecolor": "white",
            "ticks": ""
           },
           "bgcolor": "#E5ECF6",
           "caxis": {
            "gridcolor": "white",
            "linecolor": "white",
            "ticks": ""
           }
          },
          "title": {
           "x": 0.05
          },
          "xaxis": {
           "automargin": true,
           "gridcolor": "white",
           "linecolor": "white",
           "ticks": "",
           "title": {
            "standoff": 15
           },
           "zerolinecolor": "white",
           "zerolinewidth": 2
          },
          "yaxis": {
           "automargin": true,
           "gridcolor": "white",
           "linecolor": "white",
           "ticks": "",
           "title": {
            "standoff": 15
           },
           "zerolinecolor": "white",
           "zerolinewidth": 2
          }
         }
        },
        "xaxis": {
         "anchor": "y",
         "categoryarray": [
          "Dinesh Karthik",
          "Faf Du Plessis",
          "Glenn Maxwell",
          "Harshal Patel",
          "Josh Hazlewood",
          "Mahipal Lomror",
          "Mohammed Siraj",
          "Rajat Patidar",
          "Shahbaz Ahmed",
          "Virat Kohli",
          "Wanindu Hasaranga"
         ],
         "categoryorder": "array",
         "domain": [
          0,
          1
         ],
         "title": {
          "text": "PlayerName"
         }
        },
        "yaxis": {
         "anchor": "x",
         "domain": [
          0,
          1
         ],
         "title": {
          "text": "Runs"
         }
        }
       }
      }
     },
     "metadata": {},
     "output_type": "display_data"
    }
   ],
   "source": [
    "print(\"Total runs:\",c['Runs'].sum())\n",
    "ax = c.groupby('PlayerName')['Runs'].sum()#.plot(kind='bar')\n",
    "px.bar(ax,x=ax.index,y='Runs',color=ax.index)"
   ]
  },
  {
   "cell_type": "code",
   "execution_count": 33,
   "metadata": {},
   "outputs": [
    {
     "data": {
      "text/plain": [
       "PlayerName\n",
       "Aaron Finch           86\n",
       "Abdul Samad            4\n",
       "Abhijeet Tomar         4\n",
       "Abhinav Manohar      108\n",
       "Abhishek Sharma      426\n",
       "                    ... \n",
       "Washington Sundar    101\n",
       "Wriddhiman Saha      317\n",
       "Yash Dayal             0\n",
       "Yashasvi Jaiswal     258\n",
       "Yuzvendra Chahal       5\n",
       "Name: Runs, Length: 190, dtype: int64"
      ]
     },
     "execution_count": 33,
     "metadata": {},
     "output_type": "execute_result"
    }
   ],
   "source": [
    "df.groupby('PlayerName')['Runs'].sum()"
   ]
  },
  {
   "cell_type": "markdown",
   "metadata": {},
   "source": [
    "# find total runs made by individual teams"
   ]
  },
  {
   "cell_type": "code",
   "execution_count": 38,
   "metadata": {},
   "outputs": [
    {
     "data": {
      "text/plain": [
       "Team\n",
       "CSK     2165\n",
       "DC      2218\n",
       "GT      2517\n",
       "KKR     2109\n",
       "LSG     2405\n",
       "MI      2100\n",
       "PBSK    2193\n",
       "RCB     2454\n",
       "RR      2807\n",
       "SRH     2084\n",
       "Name: Runs, dtype: int64"
      ]
     },
     "execution_count": 38,
     "metadata": {},
     "output_type": "execute_result"
    }
   ],
   "source": [
    "df.groupby('Team')['Runs'].sum()"
   ]
  },
  {
   "cell_type": "markdown",
   "metadata": {},
   "source": [
    "# plot the graph on the basis of total runs by individul teams"
   ]
  },
  {
   "cell_type": "code",
   "execution_count": 46,
   "metadata": {},
   "outputs": [
    {
     "data": {
      "application/vnd.plotly.v1+json": {
       "config": {
        "plotlyServerURL": "https://plot.ly"
       },
       "data": [
        {
         "alignmentgroup": "True",
         "hovertemplate": "Team=%{x}<br>Runs=%{y}<extra></extra>",
         "legendgroup": "CSK",
         "marker": {
          "color": "#636efa",
          "pattern": {
           "shape": ""
          }
         },
         "name": "CSK",
         "offsetgroup": "CSK",
         "orientation": "v",
         "showlegend": true,
         "textposition": "auto",
         "type": "bar",
         "x": [
          "CSK"
         ],
         "xaxis": "x",
         "y": [
          2165
         ],
         "yaxis": "y"
        },
        {
         "alignmentgroup": "True",
         "hovertemplate": "Team=%{x}<br>Runs=%{y}<extra></extra>",
         "legendgroup": "DC",
         "marker": {
          "color": "#EF553B",
          "pattern": {
           "shape": ""
          }
         },
         "name": "DC",
         "offsetgroup": "DC",
         "orientation": "v",
         "showlegend": true,
         "textposition": "auto",
         "type": "bar",
         "x": [
          "DC"
         ],
         "xaxis": "x",
         "y": [
          2218
         ],
         "yaxis": "y"
        },
        {
         "alignmentgroup": "True",
         "hovertemplate": "Team=%{x}<br>Runs=%{y}<extra></extra>",
         "legendgroup": "GT",
         "marker": {
          "color": "#00cc96",
          "pattern": {
           "shape": ""
          }
         },
         "name": "GT",
         "offsetgroup": "GT",
         "orientation": "v",
         "showlegend": true,
         "textposition": "auto",
         "type": "bar",
         "x": [
          "GT"
         ],
         "xaxis": "x",
         "y": [
          2517
         ],
         "yaxis": "y"
        },
        {
         "alignmentgroup": "True",
         "hovertemplate": "Team=%{x}<br>Runs=%{y}<extra></extra>",
         "legendgroup": "KKR",
         "marker": {
          "color": "#ab63fa",
          "pattern": {
           "shape": ""
          }
         },
         "name": "KKR",
         "offsetgroup": "KKR",
         "orientation": "v",
         "showlegend": true,
         "textposition": "auto",
         "type": "bar",
         "x": [
          "KKR"
         ],
         "xaxis": "x",
         "y": [
          2109
         ],
         "yaxis": "y"
        },
        {
         "alignmentgroup": "True",
         "hovertemplate": "Team=%{x}<br>Runs=%{y}<extra></extra>",
         "legendgroup": "LSG",
         "marker": {
          "color": "#FFA15A",
          "pattern": {
           "shape": ""
          }
         },
         "name": "LSG",
         "offsetgroup": "LSG",
         "orientation": "v",
         "showlegend": true,
         "textposition": "auto",
         "type": "bar",
         "x": [
          "LSG"
         ],
         "xaxis": "x",
         "y": [
          2405
         ],
         "yaxis": "y"
        },
        {
         "alignmentgroup": "True",
         "hovertemplate": "Team=%{x}<br>Runs=%{y}<extra></extra>",
         "legendgroup": "MI",
         "marker": {
          "color": "#19d3f3",
          "pattern": {
           "shape": ""
          }
         },
         "name": "MI",
         "offsetgroup": "MI",
         "orientation": "v",
         "showlegend": true,
         "textposition": "auto",
         "type": "bar",
         "x": [
          "MI"
         ],
         "xaxis": "x",
         "y": [
          2100
         ],
         "yaxis": "y"
        },
        {
         "alignmentgroup": "True",
         "hovertemplate": "Team=%{x}<br>Runs=%{y}<extra></extra>",
         "legendgroup": "PBSK",
         "marker": {
          "color": "#FF6692",
          "pattern": {
           "shape": ""
          }
         },
         "name": "PBSK",
         "offsetgroup": "PBSK",
         "orientation": "v",
         "showlegend": true,
         "textposition": "auto",
         "type": "bar",
         "x": [
          "PBSK"
         ],
         "xaxis": "x",
         "y": [
          2193
         ],
         "yaxis": "y"
        },
        {
         "alignmentgroup": "True",
         "hovertemplate": "Team=%{x}<br>Runs=%{y}<extra></extra>",
         "legendgroup": "RCB",
         "marker": {
          "color": "#B6E880",
          "pattern": {
           "shape": ""
          }
         },
         "name": "RCB",
         "offsetgroup": "RCB",
         "orientation": "v",
         "showlegend": true,
         "textposition": "auto",
         "type": "bar",
         "x": [
          "RCB"
         ],
         "xaxis": "x",
         "y": [
          2454
         ],
         "yaxis": "y"
        },
        {
         "alignmentgroup": "True",
         "hovertemplate": "Team=%{x}<br>Runs=%{y}<extra></extra>",
         "legendgroup": "RR",
         "marker": {
          "color": "#FF97FF",
          "pattern": {
           "shape": ""
          }
         },
         "name": "RR",
         "offsetgroup": "RR",
         "orientation": "v",
         "showlegend": true,
         "textposition": "auto",
         "type": "bar",
         "x": [
          "RR"
         ],
         "xaxis": "x",
         "y": [
          2807
         ],
         "yaxis": "y"
        },
        {
         "alignmentgroup": "True",
         "hovertemplate": "Team=%{x}<br>Runs=%{y}<extra></extra>",
         "legendgroup": "SRH",
         "marker": {
          "color": "#FECB52",
          "pattern": {
           "shape": ""
          }
         },
         "name": "SRH",
         "offsetgroup": "SRH",
         "orientation": "v",
         "showlegend": true,
         "textposition": "auto",
         "type": "bar",
         "x": [
          "SRH"
         ],
         "xaxis": "x",
         "y": [
          2084
         ],
         "yaxis": "y"
        }
       ],
       "layout": {
        "barmode": "relative",
        "legend": {
         "title": {
          "text": "Team"
         },
         "tracegroupgap": 0
        },
        "margin": {
         "t": 60
        },
        "template": {
         "data": {
          "bar": [
           {
            "error_x": {
             "color": "#2a3f5f"
            },
            "error_y": {
             "color": "#2a3f5f"
            },
            "marker": {
             "line": {
              "color": "#E5ECF6",
              "width": 0.5
             },
             "pattern": {
              "fillmode": "overlay",
              "size": 10,
              "solidity": 0.2
             }
            },
            "type": "bar"
           }
          ],
          "barpolar": [
           {
            "marker": {
             "line": {
              "color": "#E5ECF6",
              "width": 0.5
             },
             "pattern": {
              "fillmode": "overlay",
              "size": 10,
              "solidity": 0.2
             }
            },
            "type": "barpolar"
           }
          ],
          "carpet": [
           {
            "aaxis": {
             "endlinecolor": "#2a3f5f",
             "gridcolor": "white",
             "linecolor": "white",
             "minorgridcolor": "white",
             "startlinecolor": "#2a3f5f"
            },
            "baxis": {
             "endlinecolor": "#2a3f5f",
             "gridcolor": "white",
             "linecolor": "white",
             "minorgridcolor": "white",
             "startlinecolor": "#2a3f5f"
            },
            "type": "carpet"
           }
          ],
          "choropleth": [
           {
            "colorbar": {
             "outlinewidth": 0,
             "ticks": ""
            },
            "type": "choropleth"
           }
          ],
          "contour": [
           {
            "colorbar": {
             "outlinewidth": 0,
             "ticks": ""
            },
            "colorscale": [
             [
              0,
              "#0d0887"
             ],
             [
              0.1111111111111111,
              "#46039f"
             ],
             [
              0.2222222222222222,
              "#7201a8"
             ],
             [
              0.3333333333333333,
              "#9c179e"
             ],
             [
              0.4444444444444444,
              "#bd3786"
             ],
             [
              0.5555555555555556,
              "#d8576b"
             ],
             [
              0.6666666666666666,
              "#ed7953"
             ],
             [
              0.7777777777777778,
              "#fb9f3a"
             ],
             [
              0.8888888888888888,
              "#fdca26"
             ],
             [
              1,
              "#f0f921"
             ]
            ],
            "type": "contour"
           }
          ],
          "contourcarpet": [
           {
            "colorbar": {
             "outlinewidth": 0,
             "ticks": ""
            },
            "type": "contourcarpet"
           }
          ],
          "heatmap": [
           {
            "colorbar": {
             "outlinewidth": 0,
             "ticks": ""
            },
            "colorscale": [
             [
              0,
              "#0d0887"
             ],
             [
              0.1111111111111111,
              "#46039f"
             ],
             [
              0.2222222222222222,
              "#7201a8"
             ],
             [
              0.3333333333333333,
              "#9c179e"
             ],
             [
              0.4444444444444444,
              "#bd3786"
             ],
             [
              0.5555555555555556,
              "#d8576b"
             ],
             [
              0.6666666666666666,
              "#ed7953"
             ],
             [
              0.7777777777777778,
              "#fb9f3a"
             ],
             [
              0.8888888888888888,
              "#fdca26"
             ],
             [
              1,
              "#f0f921"
             ]
            ],
            "type": "heatmap"
           }
          ],
          "heatmapgl": [
           {
            "colorbar": {
             "outlinewidth": 0,
             "ticks": ""
            },
            "colorscale": [
             [
              0,
              "#0d0887"
             ],
             [
              0.1111111111111111,
              "#46039f"
             ],
             [
              0.2222222222222222,
              "#7201a8"
             ],
             [
              0.3333333333333333,
              "#9c179e"
             ],
             [
              0.4444444444444444,
              "#bd3786"
             ],
             [
              0.5555555555555556,
              "#d8576b"
             ],
             [
              0.6666666666666666,
              "#ed7953"
             ],
             [
              0.7777777777777778,
              "#fb9f3a"
             ],
             [
              0.8888888888888888,
              "#fdca26"
             ],
             [
              1,
              "#f0f921"
             ]
            ],
            "type": "heatmapgl"
           }
          ],
          "histogram": [
           {
            "marker": {
             "pattern": {
              "fillmode": "overlay",
              "size": 10,
              "solidity": 0.2
             }
            },
            "type": "histogram"
           }
          ],
          "histogram2d": [
           {
            "colorbar": {
             "outlinewidth": 0,
             "ticks": ""
            },
            "colorscale": [
             [
              0,
              "#0d0887"
             ],
             [
              0.1111111111111111,
              "#46039f"
             ],
             [
              0.2222222222222222,
              "#7201a8"
             ],
             [
              0.3333333333333333,
              "#9c179e"
             ],
             [
              0.4444444444444444,
              "#bd3786"
             ],
             [
              0.5555555555555556,
              "#d8576b"
             ],
             [
              0.6666666666666666,
              "#ed7953"
             ],
             [
              0.7777777777777778,
              "#fb9f3a"
             ],
             [
              0.8888888888888888,
              "#fdca26"
             ],
             [
              1,
              "#f0f921"
             ]
            ],
            "type": "histogram2d"
           }
          ],
          "histogram2dcontour": [
           {
            "colorbar": {
             "outlinewidth": 0,
             "ticks": ""
            },
            "colorscale": [
             [
              0,
              "#0d0887"
             ],
             [
              0.1111111111111111,
              "#46039f"
             ],
             [
              0.2222222222222222,
              "#7201a8"
             ],
             [
              0.3333333333333333,
              "#9c179e"
             ],
             [
              0.4444444444444444,
              "#bd3786"
             ],
             [
              0.5555555555555556,
              "#d8576b"
             ],
             [
              0.6666666666666666,
              "#ed7953"
             ],
             [
              0.7777777777777778,
              "#fb9f3a"
             ],
             [
              0.8888888888888888,
              "#fdca26"
             ],
             [
              1,
              "#f0f921"
             ]
            ],
            "type": "histogram2dcontour"
           }
          ],
          "mesh3d": [
           {
            "colorbar": {
             "outlinewidth": 0,
             "ticks": ""
            },
            "type": "mesh3d"
           }
          ],
          "parcoords": [
           {
            "line": {
             "colorbar": {
              "outlinewidth": 0,
              "ticks": ""
             }
            },
            "type": "parcoords"
           }
          ],
          "pie": [
           {
            "automargin": true,
            "type": "pie"
           }
          ],
          "scatter": [
           {
            "fillpattern": {
             "fillmode": "overlay",
             "size": 10,
             "solidity": 0.2
            },
            "type": "scatter"
           }
          ],
          "scatter3d": [
           {
            "line": {
             "colorbar": {
              "outlinewidth": 0,
              "ticks": ""
             }
            },
            "marker": {
             "colorbar": {
              "outlinewidth": 0,
              "ticks": ""
             }
            },
            "type": "scatter3d"
           }
          ],
          "scattercarpet": [
           {
            "marker": {
             "colorbar": {
              "outlinewidth": 0,
              "ticks": ""
             }
            },
            "type": "scattercarpet"
           }
          ],
          "scattergeo": [
           {
            "marker": {
             "colorbar": {
              "outlinewidth": 0,
              "ticks": ""
             }
            },
            "type": "scattergeo"
           }
          ],
          "scattergl": [
           {
            "marker": {
             "colorbar": {
              "outlinewidth": 0,
              "ticks": ""
             }
            },
            "type": "scattergl"
           }
          ],
          "scattermapbox": [
           {
            "marker": {
             "colorbar": {
              "outlinewidth": 0,
              "ticks": ""
             }
            },
            "type": "scattermapbox"
           }
          ],
          "scatterpolar": [
           {
            "marker": {
             "colorbar": {
              "outlinewidth": 0,
              "ticks": ""
             }
            },
            "type": "scatterpolar"
           }
          ],
          "scatterpolargl": [
           {
            "marker": {
             "colorbar": {
              "outlinewidth": 0,
              "ticks": ""
             }
            },
            "type": "scatterpolargl"
           }
          ],
          "scatterternary": [
           {
            "marker": {
             "colorbar": {
              "outlinewidth": 0,
              "ticks": ""
             }
            },
            "type": "scatterternary"
           }
          ],
          "surface": [
           {
            "colorbar": {
             "outlinewidth": 0,
             "ticks": ""
            },
            "colorscale": [
             [
              0,
              "#0d0887"
             ],
             [
              0.1111111111111111,
              "#46039f"
             ],
             [
              0.2222222222222222,
              "#7201a8"
             ],
             [
              0.3333333333333333,
              "#9c179e"
             ],
             [
              0.4444444444444444,
              "#bd3786"
             ],
             [
              0.5555555555555556,
              "#d8576b"
             ],
             [
              0.6666666666666666,
              "#ed7953"
             ],
             [
              0.7777777777777778,
              "#fb9f3a"
             ],
             [
              0.8888888888888888,
              "#fdca26"
             ],
             [
              1,
              "#f0f921"
             ]
            ],
            "type": "surface"
           }
          ],
          "table": [
           {
            "cells": {
             "fill": {
              "color": "#EBF0F8"
             },
             "line": {
              "color": "white"
             }
            },
            "header": {
             "fill": {
              "color": "#C8D4E3"
             },
             "line": {
              "color": "white"
             }
            },
            "type": "table"
           }
          ]
         },
         "layout": {
          "annotationdefaults": {
           "arrowcolor": "#2a3f5f",
           "arrowhead": 0,
           "arrowwidth": 1
          },
          "autotypenumbers": "strict",
          "coloraxis": {
           "colorbar": {
            "outlinewidth": 0,
            "ticks": ""
           }
          },
          "colorscale": {
           "diverging": [
            [
             0,
             "#8e0152"
            ],
            [
             0.1,
             "#c51b7d"
            ],
            [
             0.2,
             "#de77ae"
            ],
            [
             0.3,
             "#f1b6da"
            ],
            [
             0.4,
             "#fde0ef"
            ],
            [
             0.5,
             "#f7f7f7"
            ],
            [
             0.6,
             "#e6f5d0"
            ],
            [
             0.7,
             "#b8e186"
            ],
            [
             0.8,
             "#7fbc41"
            ],
            [
             0.9,
             "#4d9221"
            ],
            [
             1,
             "#276419"
            ]
           ],
           "sequential": [
            [
             0,
             "#0d0887"
            ],
            [
             0.1111111111111111,
             "#46039f"
            ],
            [
             0.2222222222222222,
             "#7201a8"
            ],
            [
             0.3333333333333333,
             "#9c179e"
            ],
            [
             0.4444444444444444,
             "#bd3786"
            ],
            [
             0.5555555555555556,
             "#d8576b"
            ],
            [
             0.6666666666666666,
             "#ed7953"
            ],
            [
             0.7777777777777778,
             "#fb9f3a"
            ],
            [
             0.8888888888888888,
             "#fdca26"
            ],
            [
             1,
             "#f0f921"
            ]
           ],
           "sequentialminus": [
            [
             0,
             "#0d0887"
            ],
            [
             0.1111111111111111,
             "#46039f"
            ],
            [
             0.2222222222222222,
             "#7201a8"
            ],
            [
             0.3333333333333333,
             "#9c179e"
            ],
            [
             0.4444444444444444,
             "#bd3786"
            ],
            [
             0.5555555555555556,
             "#d8576b"
            ],
            [
             0.6666666666666666,
             "#ed7953"
            ],
            [
             0.7777777777777778,
             "#fb9f3a"
            ],
            [
             0.8888888888888888,
             "#fdca26"
            ],
            [
             1,
             "#f0f921"
            ]
           ]
          },
          "colorway": [
           "#636efa",
           "#EF553B",
           "#00cc96",
           "#ab63fa",
           "#FFA15A",
           "#19d3f3",
           "#FF6692",
           "#B6E880",
           "#FF97FF",
           "#FECB52"
          ],
          "font": {
           "color": "#2a3f5f"
          },
          "geo": {
           "bgcolor": "white",
           "lakecolor": "white",
           "landcolor": "#E5ECF6",
           "showlakes": true,
           "showland": true,
           "subunitcolor": "white"
          },
          "hoverlabel": {
           "align": "left"
          },
          "hovermode": "closest",
          "mapbox": {
           "style": "light"
          },
          "paper_bgcolor": "white",
          "plot_bgcolor": "#E5ECF6",
          "polar": {
           "angularaxis": {
            "gridcolor": "white",
            "linecolor": "white",
            "ticks": ""
           },
           "bgcolor": "#E5ECF6",
           "radialaxis": {
            "gridcolor": "white",
            "linecolor": "white",
            "ticks": ""
           }
          },
          "scene": {
           "xaxis": {
            "backgroundcolor": "#E5ECF6",
            "gridcolor": "white",
            "gridwidth": 2,
            "linecolor": "white",
            "showbackground": true,
            "ticks": "",
            "zerolinecolor": "white"
           },
           "yaxis": {
            "backgroundcolor": "#E5ECF6",
            "gridcolor": "white",
            "gridwidth": 2,
            "linecolor": "white",
            "showbackground": true,
            "ticks": "",
            "zerolinecolor": "white"
           },
           "zaxis": {
            "backgroundcolor": "#E5ECF6",
            "gridcolor": "white",
            "gridwidth": 2,
            "linecolor": "white",
            "showbackground": true,
            "ticks": "",
            "zerolinecolor": "white"
           }
          },
          "shapedefaults": {
           "line": {
            "color": "#2a3f5f"
           }
          },
          "ternary": {
           "aaxis": {
            "gridcolor": "white",
            "linecolor": "white",
            "ticks": ""
           },
           "baxis": {
            "gridcolor": "white",
            "linecolor": "white",
            "ticks": ""
           },
           "bgcolor": "#E5ECF6",
           "caxis": {
            "gridcolor": "white",
            "linecolor": "white",
            "ticks": ""
           }
          },
          "title": {
           "x": 0.05
          },
          "xaxis": {
           "automargin": true,
           "gridcolor": "white",
           "linecolor": "white",
           "ticks": "",
           "title": {
            "standoff": 15
           },
           "zerolinecolor": "white",
           "zerolinewidth": 2
          },
          "yaxis": {
           "automargin": true,
           "gridcolor": "white",
           "linecolor": "white",
           "ticks": "",
           "title": {
            "standoff": 15
           },
           "zerolinecolor": "white",
           "zerolinewidth": 2
          }
         }
        },
        "xaxis": {
         "anchor": "y",
         "categoryarray": [
          "CSK",
          "DC",
          "GT",
          "KKR",
          "LSG",
          "MI",
          "PBSK",
          "RCB",
          "RR",
          "SRH"
         ],
         "categoryorder": "array",
         "domain": [
          0,
          1
         ],
         "title": {
          "text": "Team"
         }
        },
        "yaxis": {
         "anchor": "x",
         "domain": [
          0,
          1
         ],
         "title": {
          "text": "Runs"
         }
        }
       }
      }
     },
     "metadata": {},
     "output_type": "display_data"
    }
   ],
   "source": [
    "x = df.groupby('Team')['Runs'].sum()\n",
    "px.bar(x,x=x.index,y='Runs', color=x.index)"
   ]
  }
 ],
 "metadata": {
  "kernelspec": {
   "display_name": "Python 3.9.12 ('base')",
   "language": "python",
   "name": "python3"
  },
  "language_info": {
   "codemirror_mode": {
    "name": "ipython",
    "version": 3
   },
   "file_extension": ".py",
   "mimetype": "text/x-python",
   "name": "python",
   "nbconvert_exporter": "python",
   "pygments_lexer": "ipython3",
   "version": "3.9.12"
  },
  "orig_nbformat": 4,
  "vscode": {
   "interpreter": {
    "hash": "9dab4a428c8c6936943161a62ee64014fc92d89ebe1edb7a6206ef7fa62976cd"
   }
  }
 },
 "nbformat": 4,
 "nbformat_minor": 2
}
